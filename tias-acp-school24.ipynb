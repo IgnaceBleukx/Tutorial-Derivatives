{
 "cells": [
  {
   "cell_type": "code",
   "execution_count": 35,
   "metadata": {
    "pycharm": {
     "name": "#%%\n"
    },
    "slideshow": {
     "slide_type": "-"
    }
   },
   "outputs": [
    {
     "name": "stdout",
     "output_type": "stream",
     "text": [
      "The autoreload extension is already loaded. To reload it, use:\n",
      "  %reload_ext autoreload\n"
     ]
    }
   ],
   "source": [
    "%load_ext autoreload\n",
    "%autoreload 2\n",
    "\"\"\"\n",
    "    Some imports used throughout the notebook\n",
    "\"\"\"\n",
    "import time\n",
    "\n",
    "from visualize import *\n",
    "\n",
    "from cpmpy.transformations.normalize import toplevel_list\n",
    "from factory import *\n",
    "from read_data import get_data\n",
    "from cpmpy.tools.explain import mus\n",
    "\n",
    "import numpy as np\n",
    "np.set_printoptions(linewidth=90)\n",
    "# preload solvers\n",
    "from cpmpy import SolverLookup\n",
    "names = SolverLookup.solvernames()\n",
    "\n",
    "import networkx as nx\n",
    "import re\n",
    "draw = lambda g,**kwargs : nx.draw_circular(g, width=5, node_size=500,**kwargs)\n",
    "\n",
    "def pinpoint_to_constraints(G, model):\n",
    "    #assert model.solve()\n",
    "    draw_conflict(G, mus(m.constraints))\n",
    "\n",
    "def graph_coloring(G, max_colors=None):\n",
    "    n = G.number_of_nodes()\n",
    "    if max_colors is None:\n",
    "        max_colors = n\n",
    "    \n",
    "    m = cp.Model()\n",
    "    # worst case: give each node a different color\n",
    "    nodes = cp.intvar(1, max_colors, shape=n, name=\"Node\")\n",
    "    # constrain edges to have differently colored nodes\n",
    "    m += [nodes[n1] != nodes[n2] for n1, n2 in G.edges()]\n",
    "    m.minimize(cp.max(nodes))\n",
    "    \n",
    "    return m, nodes\n",
    "\n",
    "def draw_conflict(graph, conflict, **kwargs):\n",
    "    \n",
    "    conflicting = []\n",
    "    for cons in conflict:\n",
    "        n1, n2 = cons.args\n",
    "        if n1.name == \"max\": continue\n",
    "        a = int(re.search(\"\\[[0-9]*\\]\", str(n1)).group()[1:-1])\n",
    "        b = int(re.search(\"\\[[0-9]*\\]\", str(n2)).group()[1:-1])\n",
    "        conflicting.append((a,b))\n",
    "        \n",
    "    colors = [\"red\" if (a,b) in conflicting else \"black\" for (a,b) in graph.edges()]       \n",
    "    return draw(graph, edge_color=colors, **kwargs)\n",
    "\n",
    "def get_avg_outputlits(seq):\n",
    "    lits = sum(len(out.literals()) for _,_,out in seq[:-1])\n",
    "    return lits / (len(seq)-1)\n",
    "\n",
    "def get_avg_stepsize(seq):\n",
    "    return sum(len(s) for _,s,_ in seq) / len(seq)"
   ]
  },
  {
   "cell_type": "markdown",
   "metadata": {
    "pycharm": {
     "name": "#%% md\n"
    },
    "slideshow": {
     "slide_type": "slide"
    }
   },
   "source": [
    "## Explanation techniques for CP\n",
    "### Prof. Tias Guns, KU Leuven, Belgium\n",
    "#### In collaboration with Ignace Bleukx, Emilio Gamba, Bart Bogaerts, Jo Devriendt, Dimos Tsouros\n",
    "\n",
    "<p>&nbsp;</p>\n",
    "\n",
    "<table><tr style=\"background: white;\">\n",
    "    <td>&nbsp;</td>\n",
    "    <td style=\"text-align: center; vertical-align: middle;\"><img src=\"img/kul.jpg\" width=40%></td>\n",
    "    <td style=\"text-align: center; vertical-align: middle;\"><img src=\"img/erc.jpg\" width=45%></td>\n",
    "</tr></table>\n",
    "\n",
    "<!-- Thanks to Bart Bogaerts, Emilio Gamba and Jo Devriendt -->"
   ]
  },
  {
   "cell_type": "markdown",
   "metadata": {
    "pycharm": {
     "name": "#%% md\n"
    },
    "slideshow": {
     "slide_type": "fragment"
    }
   },
   "source": [
    "\n",
    "<small>This presentation is an executable Jupyter notebook</small>\n",
    "\n",
    "Link to slides and more examples: https://github.com/CPMpy/XCP-explain"
   ]
  },
  {
   "cell_type": "markdown",
   "metadata": {
    "slideshow": {
     "slide_type": "skip"
    }
   },
   "source": [
    "## AI and Constraint Solving\n",
    "\n",
    "<center><img src=\"img/intro_ai.png\" width=\"65%\" align=\"center\" style=\"margin-top:10px\"></center>"
   ]
  },
  {
   "cell_type": "markdown",
   "metadata": {
    "slideshow": {
     "slide_type": "slide"
    }
   },
   "source": [
    "\n",
    "## Constraint Solving\n",
    "\n",
    "<img src=\"img/solutions_vizual.png\" width=\"45%\" align=\"right\" style=\"margin-top:100px\">\n",
    "\n",
    "Solving combinatorial optimization problems in AI\n",
    "\n",
    "- Vehicle Routing\n",
    "\n",
    "- Scheduling\n",
    "\n",
    "- Manufacturing\n",
    "\n",
    "- Other combinatorial problems ..."
   ]
  },
  {
   "cell_type": "markdown",
   "metadata": {
    "pycharm": {
     "name": "#%% md\n"
    },
    "slideshow": {
     "slide_type": "slide"
    }
   },
   "source": [
    "## Model + Solve\n",
    "\n",
    "<center><img src=\"img/model_solve.png\" width=70%></center>"
   ]
  },
  {
   "cell_type": "markdown",
   "metadata": {
    "slideshow": {
     "slide_type": "-"
    }
   },
   "source": [
    "- Reason over the constraints to find a solution\n",
    "- Find the optimal solution according to the objective \n",
    "    - (maximize gain or minimize penalty)"
   ]
  },
  {
   "cell_type": "markdown",
   "metadata": {
    "slideshow": {
     "slide_type": "slide"
    }
   },
   "source": [
    "## What happens after Model + Solve?\n",
    "\n",
    "<center><img src=\"img/model_solve.png\" width=70%></center>\n",
    "\n",
    "- What if no solution?\n",
    "- What if user does not _like_ the solution?\n",
    "- What if the user _expected_ a different solution?\n",
    "- ...\n",
    "\n",
    "Need for **explanations**"
   ]
  },
  {
   "cell_type": "markdown",
   "metadata": {
    "pycharm": {
     "name": "#%% md\n"
    },
    "slideshow": {
     "slide_type": "slide"
    }
   },
   "source": [
    "## Explainable Constraint Programming (XCP)\n",
    "\n",
    "In general, \"**Why X?**\" &nbsp;&nbsp;&nbsp;&nbsp;&nbsp;&nbsp; (with X a solution or UNSAT)\n",
    "\n",
    "<img src=\"img/interaction_figure4.png\" width=30% align=\"right\">\n",
    "\n",
    "- **Deductive explanation:**\n",
    "  - _What causes X?_\n",
    "- **Counterfactual explanation**:\n",
    "  - _What if I want Y instead of X?_\n",
    "\n",
    "Can be combined in interactive systems:\n",
    "   - _Iteratively refine explanation & model_"
   ]
  },
  {
   "cell_type": "markdown",
   "metadata": {
    "slideshow": {
     "slide_type": "slide"
    }
   },
   "source": [
    "# Example XCP interaction\n",
    "\n",
    "Toy example: graph coloring - color each node such that no adjacent nodes have the same color"
   ]
  },
  {
   "cell_type": "code",
   "execution_count": 36,
   "metadata": {},
   "outputs": [
    {
     "data": {
      "image/png": "[encoded data removed]",
      "text/plain": [
       "<Figure size 432x288 with 1 Axes>"
      ]
     },
     "metadata": {},
     "output_type": "display_data"
    }
   ],
   "source": [
    "G = nx.fast_gnp_random_graph(5, 0.8, seed=0)\n",
    "draw(G)"
   ]
  },
  {
   "cell_type": "markdown",
   "metadata": {
    "slideshow": {
     "slide_type": "slide"
    }
   },
   "source": [
    "# Example XCP interaction\n",
    "\n",
    "## Lets color this graph..."
   ]
  },
  {
   "cell_type": "code",
   "execution_count": 37,
   "metadata": {
    "slideshow": {
     "slide_type": "fragment"
    }
   },
   "outputs": [
    {
     "name": "stdout",
     "output_type": "stream",
     "text": [
      "ExitStatus.OPTIMAL (0.0016836470000000001 seconds)\n",
      "Found optimal coloring with 4 colors\n"
     ]
    }
   ],
   "source": [
    "m, nodes = graph_coloring(G, max_colors=None)\n",
    "assert m.solve() is True\n",
    "print(m.status())\n",
    "print(f\"Found optimal coloring with {m.objective_value()} colors\")"
   ]
  },
  {
   "cell_type": "markdown",
   "metadata": {
    "slideshow": {
     "slide_type": "fragment"
    }
   },
   "source": [
    "<img src=\"img/why.png\" width=\"15%\" align=\"left\" style=\"margin-top:-40px; margin-right:50px; margin-left: 300px\">\n",
    "yes... but why do we need 4? "
   ]
  },
  {
   "cell_type": "markdown",
   "metadata": {
    "slideshow": {
     "slide_type": "slide"
    }
   },
   "source": [
    "# Example XCP interaction\n",
    "\n",
    "## _Why_ do we need at least 4 colors?\n",
    "\n",
    "Pinpoint to constraints _causing_ this fact"
   ]
  },
  {
   "cell_type": "markdown",
   "metadata": {},
   "source": [
    "# XXX -- why does this not work..."
   ]
  },
  {
   "cell_type": "code",
   "execution_count": 38,
   "metadata": {
    "slideshow": {
     "slide_type": "fragment"
    }
   },
   "outputs": [
    {
     "name": "stdout",
     "output_type": "stream",
     "text": [
      "False\n"
     ]
    },
    {
     "ename": "AssertionError",
     "evalue": "MUS: model must be UNSAT",
     "output_type": "error",
     "traceback": [
      "\u001b[0;31m---------------------------------------------------------------------------\u001b[0m",
      "\u001b[0;31mAssertionError\u001b[0m                            Traceback (most recent call last)",
      "\u001b[0;32m<ipython-input-38-9738db8ce73e>\u001b[0m in \u001b[0;36m<module>\u001b[0;34m\u001b[0m\n\u001b[1;32m      1\u001b[0m \u001b[0mm\u001b[0m\u001b[0;34m,\u001b[0m \u001b[0mnodes\u001b[0m \u001b[0;34m=\u001b[0m \u001b[0mgraph_coloring\u001b[0m\u001b[0;34m(\u001b[0m\u001b[0mG\u001b[0m\u001b[0;34m,\u001b[0m \u001b[0mmax_colors\u001b[0m\u001b[0;34m=\u001b[0m\u001b[0;36m3\u001b[0m\u001b[0;34m)\u001b[0m \u001b[0;31m# less than 4?\u001b[0m\u001b[0;34m\u001b[0m\u001b[0;34m\u001b[0m\u001b[0m\n\u001b[1;32m      2\u001b[0m \u001b[0mprint\u001b[0m\u001b[0;34m(\u001b[0m\u001b[0mm\u001b[0m\u001b[0;34m.\u001b[0m\u001b[0msolve\u001b[0m\u001b[0;34m(\u001b[0m\u001b[0;34m)\u001b[0m\u001b[0;34m)\u001b[0m\u001b[0;34m\u001b[0m\u001b[0;34m\u001b[0m\u001b[0m\n\u001b[0;32m----> 3\u001b[0;31m \u001b[0mdraw_conflict\u001b[0m\u001b[0;34m(\u001b[0m\u001b[0mG\u001b[0m\u001b[0;34m,\u001b[0m \u001b[0mmus\u001b[0m\u001b[0;34m(\u001b[0m\u001b[0mm\u001b[0m\u001b[0;34m.\u001b[0m\u001b[0mconstraints\u001b[0m\u001b[0;34m)\u001b[0m\u001b[0;34m)\u001b[0m\u001b[0;34m\u001b[0m\u001b[0;34m\u001b[0m\u001b[0m\n\u001b[0m",
      "\u001b[0;32m~/research/cpmpy/cpmpy/tools/explain/mus.py\u001b[0m in \u001b[0;36mmus\u001b[0;34m(soft, hard, solver)\u001b[0m\n\u001b[1;32m     41\u001b[0m \u001b[0;34m\u001b[0m\u001b[0m\n\u001b[1;32m     42\u001b[0m     \u001b[0;31m# setting all assump vars to true should be UNSAT\u001b[0m\u001b[0;34m\u001b[0m\u001b[0;34m\u001b[0m\u001b[0;34m\u001b[0m\u001b[0m\n\u001b[0;32m---> 43\u001b[0;31m     \u001b[0;32massert\u001b[0m \u001b[0;32mnot\u001b[0m \u001b[0ms\u001b[0m\u001b[0;34m.\u001b[0m\u001b[0msolve\u001b[0m\u001b[0;34m(\u001b[0m\u001b[0massumptions\u001b[0m\u001b[0;34m=\u001b[0m\u001b[0massump\u001b[0m\u001b[0;34m)\u001b[0m\u001b[0;34m,\u001b[0m \u001b[0;34m\"MUS: model must be UNSAT\"\u001b[0m\u001b[0;34m\u001b[0m\u001b[0;34m\u001b[0m\u001b[0m\n\u001b[0m\u001b[1;32m     44\u001b[0m     \u001b[0mcore\u001b[0m \u001b[0;34m=\u001b[0m \u001b[0ms\u001b[0m\u001b[0;34m.\u001b[0m\u001b[0mget_core\u001b[0m\u001b[0;34m(\u001b[0m\u001b[0;34m)\u001b[0m  \u001b[0;31m# start from solver's UNSAT core\u001b[0m\u001b[0;34m\u001b[0m\u001b[0;34m\u001b[0m\u001b[0m\n\u001b[1;32m     45\u001b[0m \u001b[0;34m\u001b[0m\u001b[0m\n",
      "\u001b[0;31mAssertionError\u001b[0m: MUS: model must be UNSAT"
     ]
    }
   ],
   "source": [
    "m, nodes = graph_coloring(G, max_colors=3) # less than 4?\n",
    "print(m.solve())\n",
    "\n",
    "draw_conflict(G, mus(m.constraints))"
   ]
  },
  {
   "cell_type": "markdown",
   "metadata": {
    "slideshow": {
     "slide_type": "slide"
    }
   },
   "source": [
    "# Explanation techniques in the wild\n",
    "\n",
    "# XXX -- show visual sudoku the 3 images (to screenshot)"
   ]
  },
  {
   "cell_type": "markdown",
   "metadata": {
    "slideshow": {
     "slide_type": "slide"
    }
   },
   "source": [
    "## CPMpy: http://cpmpy.readthedocs.io\n",
    "\n",
    "We will use the CPMpy modeling library in Python for this presentation\n",
    "\n",
    "<center><img src=\"img/cpmpy-intro.png\" style=\"max-width: 70%;\" /></center>\n",
    "\n",
    "# TODO, update image with 'increment' somehwere, e.g. Direct, incremental solver access, also add Exact and z3, and add CHoco in to come"
   ]
  },
  {
   "cell_type": "markdown",
   "metadata": {
    "pycharm": {
     "name": "#%% md\n"
    },
    "slideshow": {
     "slide_type": "slide"
    }
   },
   "source": [
    "## Running example in this talk: Nurse Scheduling\n",
    "\n",
    "* The assignment of _shifts_ and _holidays_ to nurses.\n",
    "* Each nurse has their own restrictions and preferences,\n",
    "    as does the hospital."
   ]
  },
  {
   "cell_type": "markdown",
   "metadata": {
    "pycharm": {
     "name": "#%% md\n"
    },
    "slideshow": {
     "slide_type": "fragment"
    }
   },
   "source": [
    "### hospital constraints:\n",
    "\n",
    "<img src=\"img/nurse_rost_prob.jpg\" align=\"right\">\n",
    "\n",
    "* nb of shifts required on each day\n",
    "* max nb of shifts per nurse\n",
    "* max nb of weekend shifts\n",
    "* min/max consecutive shifts\n",
    "\n",
    "### nurse constraints / preferences:\n",
    "\n",
    "* specific days off-duty\n",
    "* specific shift requests (on/off)"
   ]
  },
  {
   "cell_type": "markdown",
   "metadata": {
    "pycharm": {
     "name": "#%% md\n"
    },
    "slideshow": {
     "slide_type": "slide"
    }
   },
   "source": [
    "## Running example in this talk: Nurse Scheduling\n",
    "\n",
    "* The assignment of _shifts_ and _holidays_ to nurses.\n",
    "* Each nurse has their own restrictions and preferences,\n",
    "    as does the hospital."
   ]
  },
  {
   "cell_type": "code",
   "execution_count": null,
   "metadata": {
    "slideshow": {
     "slide_type": "skip"
    }
   },
   "outputs": [],
   "source": [
    "instance = \"Benchmarks/Instance1.txt\"  # \"http://www.schedulingbenchmarks.org/nrp/data/Instance1.txt\"\n",
    "data = get_data(instance)"
   ]
  },
  {
   "cell_type": "markdown",
   "metadata": {
    "pycharm": {
     "name": "#%% md\n"
    },
    "slideshow": {
     "slide_type": "skip"
    }
   },
   "source": [
    "## Nurse Rostering: data\n",
    "\n",
    "Instances from http://www.schedulingbenchmarks.org/\n",
    "\n",
    "\"benchmark test instances from various sources including industrial collaborators and scientific publications.\"\n",
    "\n",
    "<!-- 7 types of hospital constraints, 2 types of nurse constraints -->"
   ]
  },
  {
   "cell_type": "code",
   "execution_count": 42,
   "metadata": {
    "pycharm": {
     "name": "#%%\n"
    },
    "slideshow": {
     "slide_type": "-"
    }
   },
   "outputs": [
    {
     "data": {
      "text/html": [
       "<style type=\"text/css\">\n",
       "#T_b00cf .data {\n",
       "  text-align: center;\n",
       "}\n",
       "#T_b00cf .col_heading {\n",
       "  text-align: center;\n",
       "}\n",
       "#T_b00cf .col7 {\n",
       "  border-left: 2px solid black;\n",
       "}\n",
       "#T_b00cf_row0_col0, #T_b00cf_row0_col5, #T_b00cf_row0_col6, #T_b00cf_row0_col9, #T_b00cf_row0_col10, #T_b00cf_row1_col5, #T_b00cf_row1_col6, #T_b00cf_row1_col7, #T_b00cf_row1_col10, #T_b00cf_row1_col11, #T_b00cf_row2_col3, #T_b00cf_row2_col4, #T_b00cf_row2_col8, #T_b00cf_row2_col9, #T_b00cf_row2_col12, #T_b00cf_row2_col13, #T_b00cf_row3_col2, #T_b00cf_row3_col3, #T_b00cf_row3_col4, #T_b00cf_row3_col10, #T_b00cf_row3_col11, #T_b00cf_row3_col12, #T_b00cf_row3_col13, #T_b00cf_row4_col0, #T_b00cf_row4_col5, #T_b00cf_row4_col6, #T_b00cf_row4_col9, #T_b00cf_row4_col10, #T_b00cf_row5_col3, #T_b00cf_row5_col4, #T_b00cf_row5_col5, #T_b00cf_row5_col10, #T_b00cf_row5_col11, #T_b00cf_row5_col12, #T_b00cf_row5_col13, #T_b00cf_row6_col0, #T_b00cf_row6_col1, #T_b00cf_row6_col5, #T_b00cf_row6_col6, #T_b00cf_row6_col9, #T_b00cf_row6_col10, #T_b00cf_row7_col2, #T_b00cf_row7_col3, #T_b00cf_row7_col7, #T_b00cf_row7_col8, #T_b00cf_row7_col12, #T_b00cf_row7_col13 {\n",
       "  border: 1px solid black;\n",
       "  background-color: rgb(141,211,199);\n",
       "}\n",
       "#T_b00cf_row0_col1, #T_b00cf_row0_col2, #T_b00cf_row0_col3, #T_b00cf_row0_col4, #T_b00cf_row0_col7, #T_b00cf_row0_col8, #T_b00cf_row0_col11, #T_b00cf_row0_col12, #T_b00cf_row0_col13, #T_b00cf_row1_col0, #T_b00cf_row1_col1, #T_b00cf_row1_col2, #T_b00cf_row1_col3, #T_b00cf_row1_col4, #T_b00cf_row1_col8, #T_b00cf_row1_col9, #T_b00cf_row1_col12, #T_b00cf_row1_col13, #T_b00cf_row2_col0, #T_b00cf_row2_col1, #T_b00cf_row2_col2, #T_b00cf_row2_col5, #T_b00cf_row2_col6, #T_b00cf_row2_col7, #T_b00cf_row2_col10, #T_b00cf_row2_col11, #T_b00cf_row3_col0, #T_b00cf_row3_col1, #T_b00cf_row3_col5, #T_b00cf_row3_col6, #T_b00cf_row3_col7, #T_b00cf_row3_col8, #T_b00cf_row3_col9, #T_b00cf_row4_col1, #T_b00cf_row4_col2, #T_b00cf_row4_col3, #T_b00cf_row4_col4, #T_b00cf_row4_col7, #T_b00cf_row4_col8, #T_b00cf_row4_col11, #T_b00cf_row4_col12, #T_b00cf_row4_col13, #T_b00cf_row5_col0, #T_b00cf_row5_col1, #T_b00cf_row5_col2, #T_b00cf_row5_col6, #T_b00cf_row5_col7, #T_b00cf_row5_col8, #T_b00cf_row5_col9, #T_b00cf_row6_col2, #T_b00cf_row6_col3, #T_b00cf_row6_col4, #T_b00cf_row6_col7, #T_b00cf_row6_col8, #T_b00cf_row6_col11, #T_b00cf_row6_col12, #T_b00cf_row6_col13, #T_b00cf_row7_col0, #T_b00cf_row7_col1, #T_b00cf_row7_col4, #T_b00cf_row7_col5, #T_b00cf_row7_col6, #T_b00cf_row7_col9, #T_b00cf_row7_col10, #T_b00cf_row7_col11 {\n",
       "  border: 1px solid black;\n",
       "  background-color: rgb(255,255,179);\n",
       "}\n",
       "</style>\n",
       "<table id=\"T_b00cf\">\n",
       "  <thead>\n",
       "    <tr>\n",
       "      <th class=\"blank level0\" >&nbsp;</th>\n",
       "      <th id=\"T_b00cf_level0_col0\" class=\"col_heading level0 col0\" colspan=\"7\">Week 1</th>\n",
       "      <th id=\"T_b00cf_level0_col7\" class=\"col_heading level0 col7\" colspan=\"7\">Week 2</th>\n",
       "      <th id=\"T_b00cf_level0_col14\" class=\"col_heading level0 col14\" >Total shifts</th>\n",
       "    </tr>\n",
       "    <tr>\n",
       "      <th class=\"blank level1\" >&nbsp;</th>\n",
       "      <th id=\"T_b00cf_level1_col0\" class=\"col_heading level1 col0\" >Mon</th>\n",
       "      <th id=\"T_b00cf_level1_col1\" class=\"col_heading level1 col1\" >Tue</th>\n",
       "      <th id=\"T_b00cf_level1_col2\" class=\"col_heading level1 col2\" >Wed</th>\n",
       "      <th id=\"T_b00cf_level1_col3\" class=\"col_heading level1 col3\" >Thu</th>\n",
       "      <th id=\"T_b00cf_level1_col4\" class=\"col_heading level1 col4\" >Fri</th>\n",
       "      <th id=\"T_b00cf_level1_col5\" class=\"col_heading level1 col5\" >Sat</th>\n",
       "      <th id=\"T_b00cf_level1_col6\" class=\"col_heading level1 col6\" >Sun</th>\n",
       "      <th id=\"T_b00cf_level1_col7\" class=\"col_heading level1 col7\" >Mon</th>\n",
       "      <th id=\"T_b00cf_level1_col8\" class=\"col_heading level1 col8\" >Tue</th>\n",
       "      <th id=\"T_b00cf_level1_col9\" class=\"col_heading level1 col9\" >Wed</th>\n",
       "      <th id=\"T_b00cf_level1_col10\" class=\"col_heading level1 col10\" >Thu</th>\n",
       "      <th id=\"T_b00cf_level1_col11\" class=\"col_heading level1 col11\" >Fri</th>\n",
       "      <th id=\"T_b00cf_level1_col12\" class=\"col_heading level1 col12\" >Sat</th>\n",
       "      <th id=\"T_b00cf_level1_col13\" class=\"col_heading level1 col13\" >Sun</th>\n",
       "      <th id=\"T_b00cf_level1_col14\" class=\"col_heading level1 col14\" ></th>\n",
       "    </tr>\n",
       "    <tr>\n",
       "      <th class=\"index_name level0\" >name</th>\n",
       "      <th class=\"blank col0\" >&nbsp;</th>\n",
       "      <th class=\"blank col1\" >&nbsp;</th>\n",
       "      <th class=\"blank col2\" >&nbsp;</th>\n",
       "      <th class=\"blank col3\" >&nbsp;</th>\n",
       "      <th class=\"blank col4\" >&nbsp;</th>\n",
       "      <th class=\"blank col5\" >&nbsp;</th>\n",
       "      <th class=\"blank col6\" >&nbsp;</th>\n",
       "      <th class=\"blank col7\" >&nbsp;</th>\n",
       "      <th class=\"blank col8\" >&nbsp;</th>\n",
       "      <th class=\"blank col9\" >&nbsp;</th>\n",
       "      <th class=\"blank col10\" >&nbsp;</th>\n",
       "      <th class=\"blank col11\" >&nbsp;</th>\n",
       "      <th class=\"blank col12\" >&nbsp;</th>\n",
       "      <th class=\"blank col13\" >&nbsp;</th>\n",
       "      <th class=\"blank col14\" >&nbsp;</th>\n",
       "    </tr>\n",
       "  </thead>\n",
       "  <tbody>\n",
       "    <tr>\n",
       "      <th id=\"T_b00cf_level0_row0\" class=\"row_heading level0 row0\" >Megan</th>\n",
       "      <td id=\"T_b00cf_row0_col0\" class=\"data row0 col0\" >F</td>\n",
       "      <td id=\"T_b00cf_row0_col1\" class=\"data row0 col1\" >D</td>\n",
       "      <td id=\"T_b00cf_row0_col2\" class=\"data row0 col2\" >D</td>\n",
       "      <td id=\"T_b00cf_row0_col3\" class=\"data row0 col3\" >D</td>\n",
       "      <td id=\"T_b00cf_row0_col4\" class=\"data row0 col4\" >D</td>\n",
       "      <td id=\"T_b00cf_row0_col5\" class=\"data row0 col5\" >F</td>\n",
       "      <td id=\"T_b00cf_row0_col6\" class=\"data row0 col6\" >F</td>\n",
       "      <td id=\"T_b00cf_row0_col7\" class=\"data row0 col7\" >D</td>\n",
       "      <td id=\"T_b00cf_row0_col8\" class=\"data row0 col8\" >D</td>\n",
       "      <td id=\"T_b00cf_row0_col9\" class=\"data row0 col9\" >F</td>\n",
       "      <td id=\"T_b00cf_row0_col10\" class=\"data row0 col10\" >F</td>\n",
       "      <td id=\"T_b00cf_row0_col11\" class=\"data row0 col11\" >D</td>\n",
       "      <td id=\"T_b00cf_row0_col12\" class=\"data row0 col12\" >D</td>\n",
       "      <td id=\"T_b00cf_row0_col13\" class=\"data row0 col13\" >D</td>\n",
       "      <td id=\"T_b00cf_row0_col14\" class=\"data row0 col14\" >9</td>\n",
       "    </tr>\n",
       "    <tr>\n",
       "      <th id=\"T_b00cf_level0_row1\" class=\"row_heading level0 row1\" >Katherine</th>\n",
       "      <td id=\"T_b00cf_row1_col0\" class=\"data row1 col0\" >D</td>\n",
       "      <td id=\"T_b00cf_row1_col1\" class=\"data row1 col1\" >D</td>\n",
       "      <td id=\"T_b00cf_row1_col2\" class=\"data row1 col2\" >D</td>\n",
       "      <td id=\"T_b00cf_row1_col3\" class=\"data row1 col3\" >D</td>\n",
       "      <td id=\"T_b00cf_row1_col4\" class=\"data row1 col4\" >D</td>\n",
       "      <td id=\"T_b00cf_row1_col5\" class=\"data row1 col5\" >F</td>\n",
       "      <td id=\"T_b00cf_row1_col6\" class=\"data row1 col6\" >F</td>\n",
       "      <td id=\"T_b00cf_row1_col7\" class=\"data row1 col7\" >F</td>\n",
       "      <td id=\"T_b00cf_row1_col8\" class=\"data row1 col8\" >D</td>\n",
       "      <td id=\"T_b00cf_row1_col9\" class=\"data row1 col9\" >D</td>\n",
       "      <td id=\"T_b00cf_row1_col10\" class=\"data row1 col10\" >F</td>\n",
       "      <td id=\"T_b00cf_row1_col11\" class=\"data row1 col11\" >F</td>\n",
       "      <td id=\"T_b00cf_row1_col12\" class=\"data row1 col12\" >D</td>\n",
       "      <td id=\"T_b00cf_row1_col13\" class=\"data row1 col13\" >D</td>\n",
       "      <td id=\"T_b00cf_row1_col14\" class=\"data row1 col14\" >9</td>\n",
       "    </tr>\n",
       "    <tr>\n",
       "      <th id=\"T_b00cf_level0_row2\" class=\"row_heading level0 row2\" >Robert</th>\n",
       "      <td id=\"T_b00cf_row2_col0\" class=\"data row2 col0\" >D</td>\n",
       "      <td id=\"T_b00cf_row2_col1\" class=\"data row2 col1\" >D</td>\n",
       "      <td id=\"T_b00cf_row2_col2\" class=\"data row2 col2\" >D</td>\n",
       "      <td id=\"T_b00cf_row2_col3\" class=\"data row2 col3\" >F</td>\n",
       "      <td id=\"T_b00cf_row2_col4\" class=\"data row2 col4\" >F</td>\n",
       "      <td id=\"T_b00cf_row2_col5\" class=\"data row2 col5\" >D</td>\n",
       "      <td id=\"T_b00cf_row2_col6\" class=\"data row2 col6\" >D</td>\n",
       "      <td id=\"T_b00cf_row2_col7\" class=\"data row2 col7\" >D</td>\n",
       "      <td id=\"T_b00cf_row2_col8\" class=\"data row2 col8\" >F</td>\n",
       "      <td id=\"T_b00cf_row2_col9\" class=\"data row2 col9\" >F</td>\n",
       "      <td id=\"T_b00cf_row2_col10\" class=\"data row2 col10\" >D</td>\n",
       "      <td id=\"T_b00cf_row2_col11\" class=\"data row2 col11\" >D</td>\n",
       "      <td id=\"T_b00cf_row2_col12\" class=\"data row2 col12\" >F</td>\n",
       "      <td id=\"T_b00cf_row2_col13\" class=\"data row2 col13\" >F</td>\n",
       "      <td id=\"T_b00cf_row2_col14\" class=\"data row2 col14\" >8</td>\n",
       "    </tr>\n",
       "    <tr>\n",
       "      <th id=\"T_b00cf_level0_row3\" class=\"row_heading level0 row3\" >Jonathan</th>\n",
       "      <td id=\"T_b00cf_row3_col0\" class=\"data row3 col0\" >D</td>\n",
       "      <td id=\"T_b00cf_row3_col1\" class=\"data row3 col1\" >D</td>\n",
       "      <td id=\"T_b00cf_row3_col2\" class=\"data row3 col2\" >F</td>\n",
       "      <td id=\"T_b00cf_row3_col3\" class=\"data row3 col3\" >F</td>\n",
       "      <td id=\"T_b00cf_row3_col4\" class=\"data row3 col4\" >F</td>\n",
       "      <td id=\"T_b00cf_row3_col5\" class=\"data row3 col5\" >D</td>\n",
       "      <td id=\"T_b00cf_row3_col6\" class=\"data row3 col6\" >D</td>\n",
       "      <td id=\"T_b00cf_row3_col7\" class=\"data row3 col7\" >D</td>\n",
       "      <td id=\"T_b00cf_row3_col8\" class=\"data row3 col8\" >D</td>\n",
       "      <td id=\"T_b00cf_row3_col9\" class=\"data row3 col9\" >D</td>\n",
       "      <td id=\"T_b00cf_row3_col10\" class=\"data row3 col10\" >F</td>\n",
       "      <td id=\"T_b00cf_row3_col11\" class=\"data row3 col11\" >F</td>\n",
       "      <td id=\"T_b00cf_row3_col12\" class=\"data row3 col12\" >F</td>\n",
       "      <td id=\"T_b00cf_row3_col13\" class=\"data row3 col13\" >F</td>\n",
       "      <td id=\"T_b00cf_row3_col14\" class=\"data row3 col14\" >7</td>\n",
       "    </tr>\n",
       "    <tr>\n",
       "      <th id=\"T_b00cf_level0_row4\" class=\"row_heading level0 row4\" >William</th>\n",
       "      <td id=\"T_b00cf_row4_col0\" class=\"data row4 col0\" >F</td>\n",
       "      <td id=\"T_b00cf_row4_col1\" class=\"data row4 col1\" >D</td>\n",
       "      <td id=\"T_b00cf_row4_col2\" class=\"data row4 col2\" >D</td>\n",
       "      <td id=\"T_b00cf_row4_col3\" class=\"data row4 col3\" >D</td>\n",
       "      <td id=\"T_b00cf_row4_col4\" class=\"data row4 col4\" >D</td>\n",
       "      <td id=\"T_b00cf_row4_col5\" class=\"data row4 col5\" >F</td>\n",
       "      <td id=\"T_b00cf_row4_col6\" class=\"data row4 col6\" >F</td>\n",
       "      <td id=\"T_b00cf_row4_col7\" class=\"data row4 col7\" >D</td>\n",
       "      <td id=\"T_b00cf_row4_col8\" class=\"data row4 col8\" >D</td>\n",
       "      <td id=\"T_b00cf_row4_col9\" class=\"data row4 col9\" >F</td>\n",
       "      <td id=\"T_b00cf_row4_col10\" class=\"data row4 col10\" >F</td>\n",
       "      <td id=\"T_b00cf_row4_col11\" class=\"data row4 col11\" >D</td>\n",
       "      <td id=\"T_b00cf_row4_col12\" class=\"data row4 col12\" >D</td>\n",
       "      <td id=\"T_b00cf_row4_col13\" class=\"data row4 col13\" >D</td>\n",
       "      <td id=\"T_b00cf_row4_col14\" class=\"data row4 col14\" >9</td>\n",
       "    </tr>\n",
       "    <tr>\n",
       "      <th id=\"T_b00cf_level0_row5\" class=\"row_heading level0 row5\" >Richard</th>\n",
       "      <td id=\"T_b00cf_row5_col0\" class=\"data row5 col0\" >D</td>\n",
       "      <td id=\"T_b00cf_row5_col1\" class=\"data row5 col1\" >D</td>\n",
       "      <td id=\"T_b00cf_row5_col2\" class=\"data row5 col2\" >D</td>\n",
       "      <td id=\"T_b00cf_row5_col3\" class=\"data row5 col3\" >F</td>\n",
       "      <td id=\"T_b00cf_row5_col4\" class=\"data row5 col4\" >F</td>\n",
       "      <td id=\"T_b00cf_row5_col5\" class=\"data row5 col5\" >F</td>\n",
       "      <td id=\"T_b00cf_row5_col6\" class=\"data row5 col6\" >D</td>\n",
       "      <td id=\"T_b00cf_row5_col7\" class=\"data row5 col7\" >D</td>\n",
       "      <td id=\"T_b00cf_row5_col8\" class=\"data row5 col8\" >D</td>\n",
       "      <td id=\"T_b00cf_row5_col9\" class=\"data row5 col9\" >D</td>\n",
       "      <td id=\"T_b00cf_row5_col10\" class=\"data row5 col10\" >F</td>\n",
       "      <td id=\"T_b00cf_row5_col11\" class=\"data row5 col11\" >F</td>\n",
       "      <td id=\"T_b00cf_row5_col12\" class=\"data row5 col12\" >F</td>\n",
       "      <td id=\"T_b00cf_row5_col13\" class=\"data row5 col13\" >F</td>\n",
       "      <td id=\"T_b00cf_row5_col14\" class=\"data row5 col14\" >7</td>\n",
       "    </tr>\n",
       "    <tr>\n",
       "      <th id=\"T_b00cf_level0_row6\" class=\"row_heading level0 row6\" >Kristen</th>\n",
       "      <td id=\"T_b00cf_row6_col0\" class=\"data row6 col0\" >F</td>\n",
       "      <td id=\"T_b00cf_row6_col1\" class=\"data row6 col1\" >F</td>\n",
       "      <td id=\"T_b00cf_row6_col2\" class=\"data row6 col2\" >D</td>\n",
       "      <td id=\"T_b00cf_row6_col3\" class=\"data row6 col3\" >D</td>\n",
       "      <td id=\"T_b00cf_row6_col4\" class=\"data row6 col4\" >D</td>\n",
       "      <td id=\"T_b00cf_row6_col5\" class=\"data row6 col5\" >F</td>\n",
       "      <td id=\"T_b00cf_row6_col6\" class=\"data row6 col6\" >F</td>\n",
       "      <td id=\"T_b00cf_row6_col7\" class=\"data row6 col7\" >D</td>\n",
       "      <td id=\"T_b00cf_row6_col8\" class=\"data row6 col8\" >D</td>\n",
       "      <td id=\"T_b00cf_row6_col9\" class=\"data row6 col9\" >F</td>\n",
       "      <td id=\"T_b00cf_row6_col10\" class=\"data row6 col10\" >F</td>\n",
       "      <td id=\"T_b00cf_row6_col11\" class=\"data row6 col11\" >D</td>\n",
       "      <td id=\"T_b00cf_row6_col12\" class=\"data row6 col12\" >D</td>\n",
       "      <td id=\"T_b00cf_row6_col13\" class=\"data row6 col13\" >D</td>\n",
       "      <td id=\"T_b00cf_row6_col14\" class=\"data row6 col14\" >8</td>\n",
       "    </tr>\n",
       "    <tr>\n",
       "      <th id=\"T_b00cf_level0_row7\" class=\"row_heading level0 row7\" >Kevin</th>\n",
       "      <td id=\"T_b00cf_row7_col0\" class=\"data row7 col0\" >D</td>\n",
       "      <td id=\"T_b00cf_row7_col1\" class=\"data row7 col1\" >D</td>\n",
       "      <td id=\"T_b00cf_row7_col2\" class=\"data row7 col2\" >F</td>\n",
       "      <td id=\"T_b00cf_row7_col3\" class=\"data row7 col3\" >F</td>\n",
       "      <td id=\"T_b00cf_row7_col4\" class=\"data row7 col4\" >D</td>\n",
       "      <td id=\"T_b00cf_row7_col5\" class=\"data row7 col5\" >D</td>\n",
       "      <td id=\"T_b00cf_row7_col6\" class=\"data row7 col6\" >D</td>\n",
       "      <td id=\"T_b00cf_row7_col7\" class=\"data row7 col7\" >F</td>\n",
       "      <td id=\"T_b00cf_row7_col8\" class=\"data row7 col8\" >F</td>\n",
       "      <td id=\"T_b00cf_row7_col9\" class=\"data row7 col9\" >D</td>\n",
       "      <td id=\"T_b00cf_row7_col10\" class=\"data row7 col10\" >D</td>\n",
       "      <td id=\"T_b00cf_row7_col11\" class=\"data row7 col11\" >D</td>\n",
       "      <td id=\"T_b00cf_row7_col12\" class=\"data row7 col12\" >F</td>\n",
       "      <td id=\"T_b00cf_row7_col13\" class=\"data row7 col13\" >F</td>\n",
       "      <td id=\"T_b00cf_row7_col14\" class=\"data row7 col14\" >8</td>\n",
       "    </tr>\n",
       "    <tr>\n",
       "      <th id=\"T_b00cf_level0_row8\" class=\"row_heading level0 row8\" >Cover D</th>\n",
       "      <td id=\"T_b00cf_row8_col0\" class=\"data row8 col0\" >5/5</td>\n",
       "      <td id=\"T_b00cf_row8_col1\" class=\"data row8 col1\" >7/7</td>\n",
       "      <td id=\"T_b00cf_row8_col2\" class=\"data row8 col2\" >6/6</td>\n",
       "      <td id=\"T_b00cf_row8_col3\" class=\"data row8 col3\" >4/4</td>\n",
       "      <td id=\"T_b00cf_row8_col4\" class=\"data row8 col4\" >5/5</td>\n",
       "      <td id=\"T_b00cf_row8_col5\" class=\"data row8 col5\" >3/5</td>\n",
       "      <td id=\"T_b00cf_row8_col6\" class=\"data row8 col6\" >4/5</td>\n",
       "      <td id=\"T_b00cf_row8_col7\" class=\"data row8 col7\" >6/6</td>\n",
       "      <td id=\"T_b00cf_row8_col8\" class=\"data row8 col8\" >6/7</td>\n",
       "      <td id=\"T_b00cf_row8_col9\" class=\"data row8 col9\" >4/4</td>\n",
       "      <td id=\"T_b00cf_row8_col10\" class=\"data row8 col10\" >2/2</td>\n",
       "      <td id=\"T_b00cf_row8_col11\" class=\"data row8 col11\" >5/5</td>\n",
       "      <td id=\"T_b00cf_row8_col12\" class=\"data row8 col12\" >4/6</td>\n",
       "      <td id=\"T_b00cf_row8_col13\" class=\"data row8 col13\" >4/4</td>\n",
       "      <td id=\"T_b00cf_row8_col14\" class=\"data row8 col14\" >14</td>\n",
       "    </tr>\n",
       "  </tbody>\n",
       "</table>\n"
      ],
      "text/plain": [
       "<pandas.io.formats.style.Styler at 0x7fc714859c70>"
      ]
     },
     "execution_count": 42,
     "metadata": {},
     "output_type": "execute_result"
    }
   ],
   "source": [
    "#instance = \"http://www.schedulingbenchmarks.org/nrp/data/Instance1.txt\"\n",
    "instance = \"Benchmarks/Instance1.txt\"\n",
    "data = get_data(instance)\n",
    "\n",
    "factory = NurseSchedulingFactory(data)\n",
    "model, nurse_view = factory.get_full_model()  # CPMpy model with all constraints\n",
    "\n",
    "model.solve() \n",
    "visualize(nurse_view.value(), factory)  # live decorated dataframe"
   ]
  },
  {
   "cell_type": "code",
   "execution_count": null,
   "metadata": {
    "pycharm": {
     "name": "#%%\n"
    },
    "slideshow": {
     "slide_type": "skip"
    }
   },
   "outputs": [],
   "source": [
    "print(\"Nr of days to schedule:\", data.horizon)\n",
    "print(\"Nr of shift types:\", len(data.shifts))\n",
    "\n",
    "pd.merge(data.days_off, data.staff[[\"# ID\",\"name\"]], left_on=\"EmployeeID\", right_on=\"# ID\", how=\"left\")"
   ]
  },
  {
   "cell_type": "markdown",
   "metadata": {
    "slideshow": {
     "slide_type": "slide"
    }
   },
   "source": [
    "# Outline of the talk\n",
    "\n",
    "## Part 1: Deductive explanations (What causes X?)\n",
    "\n",
    "* UNSAT: unsatisfiable subsets\n",
    "  - Minimal Unsatisfiable Subsets\n",
    "  - MUSX naive algorithm\n",
    "  - Efficient MUSes with incremental solvers\n",
    "    - Assumption variables in clause learning solvers\n",
    "    - Unsat core extraction\n",
    "  - MUSX in practice (incremental + ordering of variables)\n",
    "  - Many MUSes (enumeration with Marco)\n",
    "  - Preferences over MUSes: QuickXplain algorithm\n",
    "  - Optimal unsatisfiable subsets: OUS\n",
    "    - hitting set algorithm\n",
    "    - in practice (objective incrementality HS, subset incrementality SAT, ?complementary MCSs?)\n",
    "* SAT: explaining logical consequences\n",
    "  - computing (all) logical consequences:\n",
    "      - unique solution\n",
    "      - propagated assignment\n",
    "      - maximal consequence algorithm\n",
    "  - explaining one logical consequence\n",
    "      - reformulation to MUS/OUS\n",
    "  - step-wise explaining all logical consequences\n",
    "      - OCUS\n",
    "* OPT: explaining that no better solution exists\n",
    "  - reformulation to MUS/OUS\n",
    "\n",
    "## Part 2: Counterfactual explanation (What if Y instead of X?)\n",
    "\n",
    "* UNSAT: Minimum Correction Subsets\n",
    "  - graph coloring example\n",
    "  - MCS / MSS relation\n",
    "  - Optimisation over indicator variables\n",
    "* UNSAT: corrective actions\n",
    "  - Slack variables\n",
    "  - Optimisation over slack variables\n",
    "* SAT: checking a foil\n",
    "  - concept of a 'foil'\n",
    "  - add foil, recompute (explain UNSAT if needed)\n",
    "* OPT: correcting the objective function\n",
    "  - inverse optimisation\n",
    "    "
   ]
  },
  {
   "cell_type": "markdown",
   "metadata": {
    "slideshow": {
     "slide_type": "slide"
    }
   },
   "source": [
    "## Deductive Explanations in Constraint Solving\n",
    "\n",
    "Explaing _why_ something follows from the constraints\n",
    "\n",
    "We consider _why_ is there no solution?"
   ]
  },
  {
   "cell_type": "markdown",
   "metadata": {
    "slideshow": {
     "slide_type": "fragment"
    }
   },
   "source": [
    "Techniques presented are valid for explaining any deduced fact from the constraints"
   ]
  },
  {
   "cell_type": "markdown",
   "metadata": {
    "pycharm": {
     "name": "#%% md\n"
    },
    "slideshow": {
     "slide_type": "subslide"
    }
   },
   "source": [
    "## Converting to Decision model\n",
    "\n",
    "\n",
    "<img src=\"img/explain_unsat.png\" width=\"15%\" align=\"left\" style=\"margin:50px;\">\n",
    "\n",
    "* Model nurse rostering problem as decision problem <br>\n",
    "    (no objective)\n",
    "        \n",
    "* Nurse **preferences** are also hard constraints"
   ]
  },
  {
   "cell_type": "code",
   "execution_count": null,
   "metadata": {
    "pycharm": {
     "name": "#%%\n"
    },
    "slideshow": {
     "slide_type": "subslide"
    }
   },
   "outputs": [],
   "source": [
    "# model as decision model\n",
    "factory = NurseSchedulingFactory(data)\n",
    "model, nurse_view = factory.get_decision_model()  # CPMpy DECISION Model\n",
    "model.solve()"
   ]
  },
  {
   "cell_type": "markdown",
   "metadata": {
    "pycharm": {
     "name": "#%% md\n"
    },
    "slideshow": {
     "slide_type": "fragment"
    }
   },
   "source": [
    "... no solution found"
   ]
  },
  {
   "cell_type": "code",
   "execution_count": null,
   "metadata": {
    "pycharm": {
     "name": "#%%\n"
    },
    "slideshow": {
     "slide_type": "slide"
    }
   },
   "outputs": [],
   "source": [
    "constraints = toplevel_list(model.constraints, merge_and=False) # normalization for later\n",
    "print(f\"Model has {len(constraints)} constraints:\")\n",
    "for cons in constraints: print(\"-\", cons)"
   ]
  },
  {
   "cell_type": "markdown",
   "metadata": {
    "pycharm": {
     "name": "#%% md\n"
    },
    "slideshow": {
     "slide_type": "slide"
    }
   },
   "source": [
    "## Minimal Unsatisfiable Subset (MUS)\n",
    "\n",
    "<img src=\"img/mus.png\" width=\"20%\" align=\"left\" style=\"margin:50px;\">\n",
    "\n",
    "Pinpoint to constraints causing a conflict\n",
    "\n",
    "... trim model to minimal set of constraints\n",
    "\n",
    "... minimize cognitive burden for user\n"
   ]
  },
  {
   "cell_type": "markdown",
   "metadata": {
    "pycharm": {
     "name": "#%% md\n"
    },
    "slideshow": {
     "slide_type": "slide"
    }
   },
   "source": [
    "### How to compute a MUS?\n",
    "\n",
    "Deletion-based MUS algorithm\n",
    "\n",
    "_[Joao Marques-Silva. Minimal Unsatisfiability: Models, Algorithms and Applications. ISMVL 2010. pp. 9-14]_"
   ]
  },
  {
   "cell_type": "code",
   "execution_count": null,
   "metadata": {
    "pycharm": {
     "name": "#%%\n"
    },
    "slideshow": {
     "slide_type": "fragment"
    }
   },
   "outputs": [],
   "source": [
    "def mus_naive(constraints):\n",
    "    m = cp.Model(constraints)\n",
    "    assert m.solve() is False, \"Model should be UNSAT\"\n",
    "    \n",
    "    core = constraints\n",
    "    i = 0\n",
    "    while i < len(core):\n",
    "        subcore = core[:i] + core[i+1:]\n",
    "        if cp.Model(subcore).solve() is True:\n",
    "            i += 1 # removing makes it SAT, need to keep\n",
    "        else:\n",
    "            core = subcore # can safely delete \n",
    "    return core"
   ]
  },
  {
   "cell_type": "markdown",
   "metadata": {
    "pycharm": {
     "name": "#%% md\n"
    },
    "slideshow": {
     "slide_type": "slide"
    }
   },
   "source": [
    "### How to compute a MUS?\n",
    "\n",
    "CPMpy implements an incremental version of this, using assumption variables\n",
    "\n",
    "* `cpmpy.tools.mus`"
   ]
  },
  {
   "cell_type": "code",
   "execution_count": null,
   "metadata": {
    "pycharm": {
     "name": "#%%\n"
    },
    "scrolled": false,
    "slideshow": {
     "slide_type": "fragment"
    }
   },
   "outputs": [],
   "source": [
    "from cpmpy.tools.mus import mus, mus_naive\n",
    "\n",
    "solver = \"ortools\"\n",
    "subset = mus(model.constraints, solver=solver) \n",
    "\n",
    "print(\"Length of MUS:\", len(subset))\n",
    "for cons in subset: print(\"-\", cons)"
   ]
  },
  {
   "cell_type": "code",
   "execution_count": null,
   "metadata": {
    "pycharm": {
     "name": "#%%\n"
    },
    "slideshow": {
     "slide_type": "subslide"
    }
   },
   "outputs": [],
   "source": [
    "visualize_constraints(subset, nurse_view, factory)"
   ]
  },
  {
   "cell_type": "markdown",
   "metadata": {
    "pycharm": {
     "name": "#%%\n"
    },
    "slideshow": {
     "slide_type": "slide"
    }
   },
   "source": [
    "### Many MUS'es may exist...\n",
    "\n",
    "_Liffiton, M.H., & Malik, A. (2013). Enumerating infeasibility: Finding multiple MUSes quickly. In\n",
    "Proceedings of the 10th International Conference on Integration of AI and OR Techniques in Constraint\n",
    "    Programming (CPAIOR 2013) (pp. 160–175)_"
   ]
  },
  {
   "cell_type": "code",
   "execution_count": null,
   "metadata": {
    "pycharm": {
     "name": "#%%\n"
    },
    "slideshow": {
     "slide_type": "-"
    }
   },
   "outputs": [],
   "source": [
    "# MARCO MUS/MSS enumeration\n",
    "from explanations.marco_mcs_mus import do_marco\n",
    "solver = \"ortools\"  # default solver\n",
    "if \"exact\" in cp.SolverLookup.solvernames(): solver = \"exact\"  # fast for increment solving\n",
    "    \n",
    "t0 = time.time()\n",
    "cnt = 0\n",
    "for (kind, sset) in do_marco(model, solver=solver):\n",
    "    if kind == \"MUS\":\n",
    "        print(\"M\", end=\"\")\n",
    "        cnt += 1\n",
    "    else: print(\".\", end=\"\") # MSS\n",
    "    \n",
    "    if time.time() - t0 > 15:  break  # for this presentation: break after 15s\n",
    "print(f\"\\nFound {cnt} MUSes in\", time.time() - t0)\n",
    " "
   ]
  },
  {
   "cell_type": "markdown",
   "metadata": {
    "pycharm": {
     "name": "#%%\n"
    },
    "slideshow": {
     "slide_type": "slide"
    }
   },
   "source": [
    "### Many MUS'es may exist...\n",
    "\n",
    "<img src=\"img/musses.png\" width=\"40%\" align=\"left\" style=\"margin-left:50px; margin-right:50px\">\n",
    "\n",
    "This problem has just 168 constraints, yet 100.000+ MUSes exist...\n",
    "\n",
    "Which one to show? \n",
    "\n",
    "In explanations less is more, so lets find the **smallest one directly!**"
   ]
  },
  {
   "cell_type": "markdown",
   "metadata": {
    "slideshow": {
     "slide_type": "slide"
    }
   },
   "source": [
    "_Ignatiev, Alexey, et al. \"Smallest MUS extraction with minimal hitting set dualization.\" International Conference on Principles and Practice of Constraint Programming. Cham: Springer International Publishing, 2015._"
   ]
  },
  {
   "cell_type": "code",
   "execution_count": null,
   "metadata": {
    "pycharm": {
     "name": "#%%\n"
    },
    "slideshow": {
     "slide_type": "fragment"
    }
   },
   "outputs": [],
   "source": [
    "from explanations.subset import smus\n",
    "\n",
    "small_subset = smus(model.constraints, solver=\"ortools\", hs_solver=\"gurobi\")\n",
    "\n",
    "print(\"Length of sMUS:\", len(small_subset))\n",
    "for cons in small_subset:  \n",
    "    print(\"-\", cons)"
   ]
  },
  {
   "cell_type": "code",
   "execution_count": null,
   "metadata": {
    "pycharm": {
     "name": "#%%\n"
    },
    "slideshow": {
     "slide_type": "subslide"
    }
   },
   "outputs": [],
   "source": [
    "visualize_constraints(small_subset, nurse_view, factory)"
   ]
  },
  {
   "cell_type": "markdown",
   "metadata": {
    "slideshow": {
     "slide_type": "slide"
    }
   },
   "source": [
    "## Deductive explanations with MUS - conclusions\n",
    "\n",
    "- MUS'es can poinpoint the user to a conflict, helps to understand\n",
    "\n",
    "BUT\n",
    "\n",
    "- There can be many MUSes, which one to show? Smallest? _Learn_ preferences?\n",
    "- No guarantee the smallest MUS is understandable\n",
    "    - Worst case, all constraints in conflict! (e.g., pigeon-hole problem)\n",
    "- **MUSes do not show interaction between constraints**"
   ]
  },
  {
   "cell_type": "markdown",
   "metadata": {
    "pycharm": {
     "name": "#%% md\n"
    },
    "slideshow": {
     "slide_type": "slide"
    }
   },
   "source": [
    "## Step-wise explanation\n",
    "\n",
    "<img src=\"img/explain_step-wise.png\" width=\"20%\" align=\"right\" style=\"margin:50px;\">\n",
    "\n",
    "- Disect the conflict into smaller steps \n",
    "- Show _interaction_ between constraints <br>\n",
    "  -> Step-wise Explanations\n",
    "\n",
    "> Ignace Bleukx, Jo Devriendt, Emilio Gamba, Bart Bogaerts, Tias Guns. Simplifying Step-wise Explanation Sequences. 29th International Conference on Principles and Practice of Constraint Programming (CP23), 2023."
   ]
  },
  {
   "cell_type": "markdown",
   "metadata": {
    "slideshow": {
     "slide_type": "slide"
    }
   },
   "source": [
    "## Step-wise explanations\n",
    "\n",
    "Find a sequence of small derivation steps, _explaining_ a goal set of literals (or a goal _fact_)\n",
    "\n",
    "Each _step_ consists of a tuple $(\\mathcal{E}, \\mathcal{S}, \\mathcal{N})$"
   ]
  },
  {
   "cell_type": "markdown",
   "metadata": {
    "slideshow": {
     "slide_type": "fragment"
    }
   },
   "source": [
    "\n",
    "Current work: explain how to solve logic puzzles **with a single solution** \n",
    "\n",
    "> Bogaerts, Bart, Emilio Gamba, and Tias Guns. \"A framework for step-wise explaining how to solve constraint satisfaction problems.\" Artificial Intelligence 300 (2021): 103550."
   ]
  },
  {
   "cell_type": "markdown",
   "metadata": {
    "slideshow": {
     "slide_type": "subslide"
    }
   },
   "source": [
    "<img src=\"img/stepwise.png\" width=\"100%\" align=\"center\" style=\"\">\n"
   ]
  },
  {
   "cell_type": "markdown",
   "metadata": {
    "slideshow": {
     "slide_type": "fragment"
    }
   },
   "source": [
    "In that setting _no_ risk on redundancy as **every** literal (cell in the sudoku) needs to be explained"
   ]
  },
  {
   "cell_type": "markdown",
   "metadata": {
    "slideshow": {
     "slide_type": "subslide"
    }
   },
   "source": [
    "Imagine only a subset of the cells needs to be explained.\n",
    "\n",
    "How to decide which cells to derive during the sequence? Maybe \"uninteresting cells\" to the user are usefull as intermediate result?"
   ]
  },
  {
   "cell_type": "markdown",
   "metadata": {
    "slideshow": {
     "slide_type": "fragment"
    }
   },
   "source": [
    "Also applies to the UNSAT case, on which we will focus for now"
   ]
  },
  {
   "cell_type": "markdown",
   "metadata": {
    "slideshow": {
     "slide_type": "subslide"
    }
   },
   "source": [
    "## Step wise explaining unsatisfiability\n",
    "\n",
    "**Challenges**\n",
    "\n",
    "- How to find interpretable sequences? \n",
    "    - _I.e., with few and small steps?_\n",
    "- How to deal with redundancy in the sequence? \n",
    "    - _I.e., how to decide what information is relevant to derive?_\n",
    "- How to keep the algorithm interactive?\n",
    "    - _I.e., how to find good sequences fast?_"
   ]
  },
  {
   "cell_type": "markdown",
   "metadata": {
    "slideshow": {
     "slide_type": "subslide"
    }
   },
   "source": [
    "## 3-phase approach:\n",
    "\n",
    "Greedy construction of the sequence:\n",
    "<img src=\"img/manysteps.png\" width=\"80%\" style=\"margin-bottom: -150px; margin-top: -50px\"><br>\n",
    "Removing redundant steps:\n",
    "<img src=\"img/littledirtysteps.png\" width=\"80%\" style=\"margin-bottom: -100px;  margin-top:-50px;\">\n",
    "Clean each step from spurious input/output:\n",
    " <img src=\"img/littlecleansteps.png\" width=\"45%\" style=\"margin-top:-120px\">"
   ]
  },
  {
   "cell_type": "markdown",
   "metadata": {
    "slideshow": {
     "slide_type": "subslide"
    }
   },
   "source": [
    "###  1. Greedy construction\n",
    "\n",
    "<img src=\"img/greedy_construct.png\" width=\"50%\" align=\"left\" style=\"margin:20px;\">\n",
    "\n",
    "**Maximal sequences**: \n",
    "- Use everyting available\n",
    "- Derive everything possible\n",
    "\n"
   ]
  },
  {
   "cell_type": "markdown",
   "metadata": {
    "slideshow": {
     "slide_type": "subslide"
    }
   },
   "source": [
    "## Greedy construction for the Nurse rostering problem"
   ]
  },
  {
   "cell_type": "code",
   "execution_count": null,
   "metadata": {
    "slideshow": {
     "slide_type": "fragment"
    }
   },
   "outputs": [],
   "source": [
    "from explanations.stepwise import forward_construction\n",
    "        \n",
    "seq = forward_construction(model.constraints)\n",
    "print(f\"Found sequence of length {len(seq)}\")\n",
    "print(\"Avg nb of constraints used:\", get_avg_stepsize(seq))"
   ]
  },
  {
   "cell_type": "code",
   "execution_count": null,
   "metadata": {
    "slideshow": {
     "slide_type": "subslide"
    }
   },
   "outputs": [],
   "source": [
    "nurse_view.clear()\n",
    "for step in seq:\n",
    "    display(visualize_step(step, nurse_view, factory))"
   ]
  },
  {
   "cell_type": "markdown",
   "metadata": {
    "slideshow": {
     "slide_type": "subslide"
    }
   },
   "source": [
    "\\+ The good: <br>\n",
    "- we get a sequence of explanation steps leading to the conflict!\n",
    "- each step has low number of constraints\n",
    "\n",
    "\\- The bad: <br>\n",
    "- the sequence is VERY long..."
   ]
  },
  {
   "cell_type": "markdown",
   "metadata": {
    "slideshow": {
     "slide_type": "slide"
    }
   },
   "source": [
    "### 2. Filtering redundant steps\n",
    "\n",
    "<img src=\"img/deletion_filter.png\" width=\"40%\" align=\"left\" style=\"margin-right:40px;\">\n",
    "Try to remove step from sequence and check if sequence is valid\n",
    "\n",
    "- If yes: remove the step,\n",
    "- If no: we need the step in the sequence\n",
    "\n",
    "Produces **maximal sequences**"
   ]
  },
  {
   "cell_type": "code",
   "execution_count": null,
   "metadata": {
    "slideshow": {
     "slide_type": "subslide"
    }
   },
   "outputs": [],
   "source": [
    "from explanations.stepwise import backward_filtering\n",
    "\n",
    "filtered = backward_filtering(model.constraints, seq)\n",
    "print(f\"Filtered sequence to length {len(filtered)}\")\n",
    "print(\"Avg nb of output literals:\", get_avg_outputlits(filtered))"
   ]
  },
  {
   "cell_type": "code",
   "execution_count": null,
   "metadata": {
    "scrolled": true,
    "slideshow": {
     "slide_type": "subslide"
    }
   },
   "outputs": [],
   "source": [
    "nurse_view.clear()\n",
    "for step in filtered:\n",
    "    display(visualize_step(step, nurse_view, factory))"
   ]
  },
  {
   "cell_type": "markdown",
   "metadata": {
    "slideshow": {
     "slide_type": "subslide"
    }
   },
   "source": [
    "\\+ The good: <br>\n",
    "- Our sequence is much shorter and easier to comprehend\n",
    "\n",
    "\\- The bad: <br>\n",
    "- Individual steps may derive or use too much information"
   ]
  },
  {
   "cell_type": "markdown",
   "metadata": {
    "slideshow": {
     "slide_type": "subslide"
    }
   },
   "source": [
    "### 3. Simplify steps by removig input/output information\n",
    "\n",
    "<img src=\"img/relaxation.png\" width=\"50%\" align=\"left\" style=\"margin-right:40px;\">"
   ]
  },
  {
   "cell_type": "code",
   "execution_count": null,
   "metadata": {
    "pycharm": {
     "name": "#%%\n"
    },
    "slideshow": {
     "slide_type": "subslide"
    }
   },
   "outputs": [],
   "source": [
    "from explanations.stepwise import relax_sequence\n",
    "\n",
    "relaxed = relax_sequence(filtered, time_limit=100)\n",
    "print(f\"Relaxed sequence has length {len(relaxed)}\")\n",
    "print(\"Avg nb of output literals:\", get_avg_outputlits(relaxed))"
   ]
  },
  {
   "cell_type": "code",
   "execution_count": null,
   "metadata": {
    "scrolled": true,
    "slideshow": {
     "slide_type": "subslide"
    }
   },
   "outputs": [],
   "source": [
    "nurse_view.clear()\n",
    "for step in relaxed:\n",
    "    display(visualize_step(step, nurse_view, factory))"
   ]
  },
  {
   "cell_type": "markdown",
   "metadata": {
    "slideshow": {
     "slide_type": "slide"
    }
   },
   "source": [
    "## Results on benchmarks\n",
    "\n",
    "<img src=\"img/steps.png\" width=\"80%\">"
   ]
  },
  {
   "cell_type": "markdown",
   "metadata": {
    "slideshow": {
     "slide_type": "subslide"
    }
   },
   "source": [
    "<img src=\"img/inputlits.png\" width=\"80%\">"
   ]
  },
  {
   "cell_type": "markdown",
   "metadata": {
    "slideshow": {
     "slide_type": "subslide"
    }
   },
   "source": [
    "<img src=\"img/outputlits.png\" width=\"80%\">"
   ]
  },
  {
   "cell_type": "markdown",
   "metadata": {
    "slideshow": {
     "slide_type": "subslide"
    }
   },
   "source": [
    "<img src=\"img/sudoku_runtime.pdf\" width=44.5% style=\"float:left\">\n",
    "<img src=\"img/jobshop_runtime.pdf\" width=\"40%\" style=\"float:left;margin-top:25px\">"
   ]
  },
  {
   "cell_type": "markdown",
   "metadata": {
    "slideshow": {
     "slide_type": "slide"
    }
   },
   "source": [
    "# Conclusions\n",
    "\n",
    "- Deductive explanations are a helpful means of explaining _why_ a problem is unsatisfiable\n",
    "\n",
    "- Step-wise explanations can be applied to the problem of explaining unsatisfiability, BUT:\n",
    "    - Need to take care for redundancy\n",
    "- Open questions:\n",
    "    - _Which_ sequence to show? _The_ shortest one? _Learn_ preferences?\n",
    "    - How to improve runtime of the algorithm?\n",
    "    - Tighter integration of forward-construction and backwards-filtering?\n",
    "    \n",
    "    \n",
    "\n",
    "\n"
   ]
  },
  {
   "cell_type": "markdown",
   "metadata": {
    "slideshow": {
     "slide_type": "slide"
    }
   },
   "source": [
    "# Want to learn more?\n",
    "\n",
    "<img src=\"img/qr-code.png\" align=\"right\" width=\"30%\" style=\"margin-top:20px\">\n",
    "\n",
    "Tutorial with variety of explanation techniques recorded\n",
    "\n",
    "Also includes _how_ to adapt the model to make it satisfiable \n",
    "\n",
    "(i.e., _contrastive_ explanations)\n",
    "\n"
   ]
  }
 ],
 "metadata": {
  "celltoolbar": "Slideshow",
  "kernelspec": {
   "display_name": "Python 3",
   "language": "python",
   "name": "python3"
  },
  "language_info": {
   "codemirror_mode": {
    "name": "ipython",
    "version": 3
   },
   "file_extension": ".py",
   "mimetype": "text/x-python",
   "name": "python",
   "nbconvert_exporter": "python",
   "pygments_lexer": "ipython3",
   "version": "3.9.2"
  },
  "rise": {
   "transition": "none"
  },
  "varInspector": {
   "cols": {
    "lenName": 16,
    "lenType": 16,
    "lenVar": 40
   },
   "kernels_config": {
    "python": {
     "delete_cmd_postfix": "",
     "delete_cmd_prefix": "del ",
     "library": "var_list.py",
     "varRefreshCmd": "print(var_dic_list())"
    },
    "r": {
     "delete_cmd_postfix": ") ",
     "delete_cmd_prefix": "rm(",
     "library": "var_list.r",
     "varRefreshCmd": "cat(var_dic_list()) "
    }
   },
   "types_to_exclude": [
    "module",
    "function",
    "builtin_function_or_method",
    "instance",
    "_Feature"
   ],
   "window_display": false
  }
 },
 "nbformat": 4,
 "nbformat_minor": 4
}
