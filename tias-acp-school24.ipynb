{
 "cells": [
  {
   "cell_type": "code",
   "execution_count": null,
   "metadata": {
    "pycharm": {
     "name": "#%%\n"
    },
    "slideshow": {
     "slide_type": "-"
    }
   },
   "outputs": [],
   "source": [
    " %load_ext autoreload\n",
    "%autoreload 2\n",
    "\"\"\"\n",
    "    Some imports used throughout the\n",
    "    notebook\n",
    "\"\"\"\n",
    "import time\n",
    "\n",
    "from visualize import *\n",
    "\n",
    "import cpmpy\n",
    "from cpmpy.transformations.normalize import toplevel_list\n",
    "from factory import *\n",
    "from read_data import get_data\n",
    "from cpmpy.tools.explain import mus\n",
    "from cpmpy.tools.explain.utils import make_assump_model\n",
    "\n",
    "import numpy as np\n",
    "np.set_printoptions(linewidth=90)\n",
    "# preload solvers\n",
    "from cpmpy import SolverLookup\n",
    "names = SolverLookup.solvernames()\n",
    "\n",
    "import networkx as nx\n",
    "import re\n",
    "draw = lambda g,**kwargs : nx.draw_circular(g, width=5, node_size=500,**kwargs)\n",
    "cmap = [\"black\", \"yellow\", \"cyan\", \"lightgreen\", \"blue\"]\n",
    "\n",
    "def pinpoint_to_constraints(G, model):\n",
    "    #assert model.solve()\n",
    "    draw_conflict(G, mus(m.constraints))\n",
    "\n",
    "def graph_coloring(G, max_colors=None):\n",
    "    n = G.number_of_nodes()\n",
    "    if max_colors is None:\n",
    "        max_colors = n\n",
    "    \n",
    "    m = cp.Model()\n",
    "    # worst case: give each node a different color\n",
    "    nodes = cp.intvar(1, max_colors, shape=n, name=\"Node\")\n",
    "    # constrain edges to have differently colored nodes\n",
    "    m += [nodes[n1] != nodes[n2] for n1, n2 in G.edges()]\n",
    "    m.minimize(cp.max(nodes))\n",
    "    \n",
    "    return m, nodes\n",
    "\n",
    "def graph_highlight(graph, cons, **kwargs):\n",
    "    edges = []\n",
    "    for c in cons:\n",
    "        n1, n2 = c.args\n",
    "        if n1.name == \"max\": continue\n",
    "        a = int(re.search(\"\\[[0-9]*\\]\", str(n1)).group()[1:-1])\n",
    "        b = int(re.search(\"\\[[0-9]*\\]\", str(n2)).group()[1:-1])\n",
    "        edges.append((a,b))\n",
    "        \n",
    "    colors = [\"red\" if (a,b) in edges else \"black\" for (a,b) in graph.edges()]       \n",
    "    return draw(graph, edge_color=colors, **kwargs)\n",
    "\n",
    "def get_avg_outputlits(seq):\n",
    "    lits = sum(len(out.literals()) for _,_,out in seq[:-1])\n",
    "    return lits / (len(seq)-1)\n",
    "\n",
    "def get_avg_stepsize(seq):\n",
    "    return sum(len(s) for _,s,_ in seq) / len(seq)"
   ]
  },
  {
   "cell_type": "markdown",
   "metadata": {
    "pycharm": {
     "name": "#%% md\n"
    },
    "slideshow": {
     "slide_type": "slide"
    }
   },
   "source": [
    "## Explanation techniques for CP\n",
    "### Prof. Tias Guns, KU Leuven, Belgium\n",
    "#### In collaboration with Ignace Bleukx, Emilio Gamba, Bart Bogaerts, Jo Devriendt, Dimos Tsouros\n",
    "\n",
    "<table><tr style=\"background: white;\">\n",
    "    <td>&nbsp;</td>\n",
    "    <td style=\"text-align: center; vertical-align: middle;\"><img src=\"img/kul.jpg\" width=40%></td>\n",
    "    <td style=\"text-align: center; vertical-align: middle;\"><img src=\"img/erc.jpg\" width=45%></td>\n",
    "</tr></table>\n",
    "\n",
    "<!-- Thanks to Bart Bogaerts, Emilio Gamba and Jo Devriendt -->"
   ]
  },
  {
   "cell_type": "markdown",
   "metadata": {
    "pycharm": {
     "name": "#%% md\n"
    },
    "slideshow": {
     "slide_type": "-"
    }
   },
   "source": [
    "\n",
    "<small>This presentation is an executable Jupyter notebook</small>\n",
    "\n",
    "Link to slides and more examples: https://github.com/CPMpy/XCP-explain"
   ]
  },
  {
   "cell_type": "markdown",
   "metadata": {
    "slideshow": {
     "slide_type": "skip"
    }
   },
   "source": [
    "## AI and Constraint Solving\n",
    "\n",
    "<center><img src=\"img/intro_ai.png\" width=\"65%\" align=\"center\" style=\"margin-top:10px\"></center>"
   ]
  },
  {
   "cell_type": "markdown",
   "metadata": {
    "slideshow": {
     "slide_type": "slide"
    }
   },
   "source": [
    "\n",
    "## Constraint Solving\n",
    "\n",
    "<img src=\"img/solutions_vizual.png\" width=\"45%\" align=\"right\" style=\"margin-top:100px\">\n",
    "\n",
    "Solving combinatorial optimization problems in AI\n",
    "\n",
    "- Vehicle Routing\n",
    "\n",
    "- Scheduling\n",
    "\n",
    "- Manufacturing\n",
    "\n",
    "- Other combinatorial problems ..."
   ]
  },
  {
   "cell_type": "markdown",
   "metadata": {
    "pycharm": {
     "name": "#%% md\n"
    },
    "slideshow": {
     "slide_type": "slide"
    }
   },
   "source": [
    "## Model + Solve\n",
    "\n",
    "<center><img src=\"img/model_solve.png\" width=70%></center>"
   ]
  },
  {
   "cell_type": "markdown",
   "metadata": {
    "slideshow": {
     "slide_type": "skip"
    }
   },
   "source": [
    "- Reason over the constraints to find a solution\n",
    "- Find the optimal solution according to the objective \n",
    "    - (maximize gain or minimize penalty)"
   ]
  },
  {
   "cell_type": "markdown",
   "metadata": {
    "slideshow": {
     "slide_type": "fragment"
    }
   },
   "source": [
    "- What if no solution is found?\n",
    "- What if the user does not _like_ the solution?\n",
    "- What if the user _expected_ a different solution?\n",
    "- ...\n"
   ]
  },
  {
   "cell_type": "markdown",
   "metadata": {
    "slideshow": {
     "slide_type": "skip"
    }
   },
   "source": [
    "## What happens after Model + Solve?\n",
    "\n",
    "<center><img src=\"img/model_solve.png\" width=70%></center>\n",
    "\n",
    "- What if no solution is found?\n",
    "- What if the user does not _like_ the solution?\n",
    "- What if the user _expected_ a different solution?\n",
    "- ...\n"
   ]
  },
  {
   "cell_type": "markdown",
   "metadata": {
    "slideshow": {
     "slide_type": "slide"
    }
   },
   "source": [
    "<center><img src=\"img/chatopt1.png\"></center>"
   ]
  },
  {
   "cell_type": "markdown",
   "metadata": {
    "slideshow": {
     "slide_type": "slide"
    }
   },
   "source": [
    "<center><img src=\"img/chatopt2.png\"></center>"
   ]
  },
  {
   "cell_type": "markdown",
   "metadata": {
    "slideshow": {
     "slide_type": "slide"
    }
   },
   "source": [
    "<center><img src=\"img/chatopt3.png\"></center>"
   ]
  },
  {
   "cell_type": "markdown",
   "metadata": {
    "slideshow": {
     "slide_type": "slide"
    }
   },
   "source": [
    "<center><img src=\"img/chatopt4.png\"></center>"
   ]
  },
  {
   "cell_type": "markdown",
   "metadata": {
    "pycharm": {
     "name": "#%% md\n"
    },
    "slideshow": {
     "slide_type": "slide"
    }
   },
   "source": [
    "## Explainable Constraint Programming (XCP)\n",
    "\n",
    "In general, \"**Why X?**\" &nbsp;&nbsp;&nbsp;&nbsp;&nbsp;&nbsp; (with X a solution or UNSAT)\n",
    "\n",
    "<center><img src=\"img/interaction_figure4.png\" width=20%></center>\n",
    "\n",
    "\n",
    "<!-- Can be combined in interactive systems:\n",
    "  - _Iteratively refine explanation & model_ -->"
   ]
  },
  {
   "cell_type": "markdown",
   "metadata": {
    "pycharm": {
     "name": "#%% md\n"
    },
    "slideshow": {
     "slide_type": "slide"
    }
   },
   "source": [
    "## Explainable Constraint Programming (XCP)\n",
    "\n",
    "In general, \"**Why X?**\" &nbsp;&nbsp;&nbsp;&nbsp;&nbsp;&nbsp; (with X a solution or UNSAT)\n",
    "\n",
    "<img src=\"img/interaction_figure4.png\" width=20% align=\"right\">\n",
    "\n",
    "- **Deductive explanation:**\n",
    "  - _What causes X?_\n",
    "- **Counterfactual explanation**:\n",
    "  - _What if I want Y instead of X?_\n",
    "\n",
    "\n",
    "<!-- Can be combined in interactive systems:\n",
    "  - _Iteratively refine explanation & model_ -->"
   ]
  },
  {
   "cell_type": "markdown",
   "metadata": {
    "slideshow": {
     "slide_type": "fragment"
    }
   },
   "source": [
    "Note <i>explanations</i> also used in the context of lazy-clause generation: one propagator explains its inference to a SAT solver. We focus on <b>user-oriented explanations</b> involving multiple constraints."
   ]
  },
  {
   "cell_type": "markdown",
   "metadata": {
    "slideshow": {
     "slide_type": "slide"
    }
   },
   "source": [
    "# Example XCP interaction\n",
    "\n",
    "Toy example, graph coloring:\n",
    "\n",
    "color each node such that no two adjacent nodes have the same color<br>\n",
    "(real example: assign each booking request (node) to a room (color) such that no temporally overlapping requests use the same room)"
   ]
  },
  {
   "cell_type": "code",
   "execution_count": null,
   "metadata": {},
   "outputs": [],
   "source": [
    "G = nx.fast_gnp_random_graph(5, 0.8, seed=0)\n",
    "draw(G)"
   ]
  },
  {
   "cell_type": "markdown",
   "metadata": {
    "slideshow": {
     "slide_type": "slide"
    }
   },
   "source": [
    "# Example XCP interaction\n",
    "\n",
    "## Lets color this graph..."
   ]
  },
  {
   "cell_type": "code",
   "execution_count": null,
   "metadata": {
    "slideshow": {
     "slide_type": "fragment"
    }
   },
   "outputs": [],
   "source": [
    "m, nodes = graph_coloring(G, max_colors=None)\n",
    "if m.solve():\n",
    "    print(m.status())\n",
    "    print(f\"Found optimal coloring with {m.objective_value()} colors\")\n",
    "    draw(G, node_color=[cmap[n.value()] for n in nodes])\n",
    "else:\n",
    "    print(\"No solution found.\")"
   ]
  },
  {
   "cell_type": "markdown",
   "metadata": {
    "slideshow": {
     "slide_type": "slide"
    }
   },
   "source": [
    "# Example XCP interaction"
   ]
  },
  {
   "cell_type": "code",
   "execution_count": null,
   "metadata": {
    "slideshow": {
     "slide_type": "-"
    }
   },
   "outputs": [],
   "source": [
    "print(f\"Found optimal coloring with {m.objective_value()} colors\")\n",
    "draw(G, node_color=[cmap[n.value()] for n in nodes])"
   ]
  },
  {
   "cell_type": "markdown",
   "metadata": {
    "slideshow": {
     "slide_type": "-"
    }
   },
   "source": [
    "<img src=\"img/why.png\" width=\"15%\" align=\"left\" style=\"margin-top:-40px; margin-right:50px; margin-left: 300px\">\n",
    "yes... but why do we need 4? "
   ]
  },
  {
   "cell_type": "markdown",
   "metadata": {
    "slideshow": {
     "slide_type": "slide"
    }
   },
   "source": [
    "# Example XCP interaction\n",
    "\n",
    "## _Why_ do we need 4 colors?\n",
    "\n",
    "Deductive explanation: pinpoint to constraints _causing_ this fact"
   ]
  },
  {
   "cell_type": "code",
   "execution_count": null,
   "metadata": {
    "slideshow": {
     "slide_type": "fragment"
    }
   },
   "outputs": [],
   "source": [
    "m, nodes = graph_coloring(G, max_colors=3) # less than 4?\n",
    "if m.solve() is False:\n",
    "    conflict = cpmpy.tools.explain.mus(m.constraints)  # Minimal Unsatisfiable Subset\n",
    "    print(\"UNSAT is caused by the following constraints:\")\n",
    "    graph_highlight(G, conflict)"
   ]
  },
  {
   "cell_type": "markdown",
   "metadata": {
    "slideshow": {
     "slide_type": "slide"
    }
   },
   "source": [
    "# Example XCP interaction\n",
    "\n",
    "## _Why_ do we need 4 colors?\n",
    "\n",
    "Counterfactual explanation: pinpoint to constraint *changes* that would allow, e.g. 3 colors"
   ]
  },
  {
   "cell_type": "code",
   "execution_count": null,
   "metadata": {
    "scrolled": true,
    "slideshow": {
     "slide_type": "fragment"
    }
   },
   "outputs": [],
   "source": [
    "m, nodes = graph_coloring(G, max_colors=3) # less than 4?\n",
    "if m.solve() is False:    \n",
    "    corr = cpmpy.tools.explain.mcs(m.constraints)  # Minimal Correction Subset\n",
    "    print(\"UNSAT can be resolved by removing the following constraints:\")\n",
    "    graph_highlight(G, corr)"
   ]
  },
  {
   "cell_type": "markdown",
   "metadata": {
    "slideshow": {
     "slide_type": "slide"
    }
   },
   "source": [
    "# Example XCP interaction\n",
    "\n",
    "## _Why_ do we need 4 colors?\n",
    "\n",
    "Counterfactual explanation: pinpoint to constraint *changes* that would allow, e.g. 3 colors\n",
    "\n",
    "Can now compute the counterfactual solution:"
   ]
  },
  {
   "cell_type": "code",
   "execution_count": null,
   "metadata": {
    "slideshow": {
     "slide_type": "fragment"
    }
   },
   "outputs": [],
   "source": [
    "# compute and visualise counter-factual solution\n",
    "m2 = cp.Model([c for c in m.constraints if c not in corr])\n",
    "m2.solve()\n",
    "graph_highlight(G, corr, node_color=[cmap[n.value()] for n in nodes])"
   ]
  },
  {
   "cell_type": "markdown",
   "metadata": {
    "slideshow": {
     "slide_type": "slide"
    }
   },
   "source": [
    "# Explanation techniques in the wild\n",
    "\n",
    "<center><img src=\"img/app_explanations.png\"  style=\"max-width: 80%;\"></center>"
   ]
  },
  {
   "cell_type": "markdown",
   "metadata": {
    "slideshow": {
     "slide_type": "slide"
    }
   },
   "source": [
    "## CPMpy: http://cpmpy.readthedocs.io\n",
    "\n",
    "We will use the CPMpy modeling library in Python for this presentation\n",
    "\n",
    "<center><img src=\"img/cpmpy-intro.png\" style=\"max-width: 70%;\" /></center>\n"
   ]
  },
  {
   "cell_type": "markdown",
   "metadata": {
    "pycharm": {
     "name": "#%% md\n"
    },
    "slideshow": {
     "slide_type": "skip"
    }
   },
   "source": [
    "## Running example in this talk: Nurse Scheduling\n",
    "\n",
    "* The assignment of _shifts_ and _holidays_ to nurses.\n",
    "* Each nurse has their own restrictions and preferences,\n",
    "    as does the hospital."
   ]
  },
  {
   "cell_type": "markdown",
   "metadata": {
    "pycharm": {
     "name": "#%% md\n"
    },
    "slideshow": {
     "slide_type": "skip"
    }
   },
   "source": [
    "### hospital constraints:\n",
    "\n",
    "<img src=\"img/nurse_rost_prob.jpg\" align=\"right\">\n",
    "\n",
    "* nb of shifts required on each day\n",
    "* max nb of shifts per nurse\n",
    "* max nb of weekend shifts\n",
    "* min/max consecutive shifts\n",
    "\n",
    "### nurse constraints / preferences:\n",
    "\n",
    "* specific days off-duty\n",
    "* specific shift requests (on/off)"
   ]
  },
  {
   "cell_type": "markdown",
   "metadata": {
    "pycharm": {
     "name": "#%% md\n"
    },
    "slideshow": {
     "slide_type": "slide"
    }
   },
   "source": [
    "## Running example in this talk: Nurse Scheduling\n",
    "\n",
    "* The assignment of _shifts_ and _holidays_ to nurses.\n",
    "* Each nurse has their own restrictions and preferences,\n",
    "    as does the hospital."
   ]
  },
  {
   "cell_type": "code",
   "execution_count": null,
   "metadata": {
    "slideshow": {
     "slide_type": "skip"
    }
   },
   "outputs": [],
   "source": [
    "instance = \"Benchmarks/Instance1.txt\"  # \"http://www.schedulingbenchmarks.org/nrp/data/Instance1.txt\"\n",
    "data = get_data(instance)"
   ]
  },
  {
   "cell_type": "markdown",
   "metadata": {
    "pycharm": {
     "name": "#%% md\n"
    },
    "slideshow": {
     "slide_type": "skip"
    }
   },
   "source": [
    "## Nurse Rostering: data\n",
    "\n",
    "Instances from http://www.schedulingbenchmarks.org/\n",
    "\n",
    "\"benchmark test instances from various sources including industrial collaborators and scientific publications.\"\n",
    "\n",
    "<!-- 7 types of hospital constraints, 2 types of nurse constraints -->"
   ]
  },
  {
   "cell_type": "code",
   "execution_count": null,
   "metadata": {
    "pycharm": {
     "name": "#%%\n"
    },
    "slideshow": {
     "slide_type": "-"
    }
   },
   "outputs": [],
   "source": [
    "#instance = \"http://www.schedulingbenchmarks.org/nrp/data/Instance1.txt\"\n",
    "instance = \"Benchmarks/Instance1.txt\"\n",
    "data = get_data(instance)\n",
    "\n",
    "factory = NurseSchedulingFactory(data)\n",
    "model, nurse_view = factory.get_full_model()  # CPMpy model with all constraints\n",
    "\n",
    "model.solve() \n",
    "visualize(nurse_view.value(), factory)  # live decorated dataframe"
   ]
  },
  {
   "cell_type": "code",
   "execution_count": null,
   "metadata": {
    "pycharm": {
     "name": "#%%\n"
    },
    "slideshow": {
     "slide_type": "skip"
    }
   },
   "outputs": [],
   "source": [
    "print(\"Nr of days to schedule:\", data.horizon)\n",
    "print(\"Nr of shift types:\", len(data.shifts))\n",
    "\n",
    "pd.merge(data.days_off, data.staff[[\"# ID\",\"name\"]], left_on=\"EmployeeID\", right_on=\"# ID\", how=\"left\")"
   ]
  },
  {
   "cell_type": "markdown",
   "metadata": {
    "slideshow": {
     "slide_type": "slide"
    }
   },
   "source": [
    "# Outline of the talk\n",
    "\n",
    "## Part 1: Deductive explanations (What causes X?)\n",
    "\n",
    "* UNSAT: minimal unsatisfiable subsets &#9194;\n",
    "  - efficient MUSes\n",
    "  - preferred MUSes\n",
    "* SAT: explaining logical consequences\n",
    "* OPT: explaining that no better solution exists\n",
    "\n",
    "## Part 2: Counterfactual explanation (What if Y instead of X?)\n",
    "\n",
    "* UNSAT: minimum correction subsets\n",
    "* UNSAT: corrective actions\n",
    "* SAT: checking a foil\n",
    "* OPT: correcting the objective function\n",
    "    "
   ]
  },
  {
   "cell_type": "markdown",
   "metadata": {
    "slideshow": {
     "slide_type": "slide"
    }
   },
   "source": [
    "## Deductive Explanations for UNSAT problems"
   ]
  },
  {
   "cell_type": "code",
   "execution_count": null,
   "metadata": {
    "pycharm": {
     "name": "#%%\n"
    },
    "slideshow": {
     "slide_type": "-"
    }
   },
   "outputs": [],
   "source": [
    "# decision model, add all nurse preferences as hard constraints\n",
    "factory = NurseSchedulingFactory(data)\n",
    "model, nurse_view = factory.get_decision_model()\n",
    "model.solve()"
   ]
  },
  {
   "cell_type": "markdown",
   "metadata": {
    "pycharm": {
     "name": "#%% md\n"
    },
    "slideshow": {
     "slide_type": "fragment"
    }
   },
   "source": [
    "... no solution found"
   ]
  },
  {
   "cell_type": "code",
   "execution_count": null,
   "metadata": {
    "pycharm": {
     "name": "#%%\n"
    },
    "slideshow": {
     "slide_type": "fragment"
    }
   },
   "outputs": [],
   "source": [
    "constraints = toplevel_list(model.constraints, merge_and=False) # normalization for later\n",
    "print(f\"Model has {len(constraints)} constraints:\")\n",
    "for cons in constraints: print(\"-\", cons)"
   ]
  },
  {
   "cell_type": "markdown",
   "metadata": {
    "pycharm": {
     "name": "#%% md\n"
    },
    "slideshow": {
     "slide_type": "skip"
    }
   },
   "source": [
    "## Converting to Decision model\n",
    "\n",
    "\n",
    "<img src=\"img/explain_unsat.png\" width=\"15%\" align=\"left\" style=\"margin:50px;\">\n",
    "\n",
    "* Model nurse rostering problem as decision problem <br>\n",
    "    (no objective)\n",
    "        \n",
    "* Nurse **preferences** are also hard constraints"
   ]
  },
  {
   "cell_type": "markdown",
   "metadata": {
    "slideshow": {
     "slide_type": "slide"
    }
   },
   "source": [
    "## Deductive Explanations for UNSAT problems\n",
    "\n",
    "The set of all constraints is unsatisfiable.\n",
    "\n",
    "<img src=\"img/allcons.png\" width=\"20%\" float=\"right\" style=\"margin:50px;\">\n"
   ]
  },
  {
   "cell_type": "markdown",
   "metadata": {
    "slideshow": {
     "slide_type": "fragment"
    }
   },
   "source": [
    "But do all constraints contribute to this?"
   ]
  },
  {
   "cell_type": "markdown",
   "metadata": {
    "pycharm": {
     "name": "#%% md\n"
    },
    "slideshow": {
     "slide_type": "slide"
    }
   },
   "source": [
    "## Deductive Explanations for UNSAT problems\n",
    "\n",
    "### Minimal Unsatisfiable Subset (MUS)\n",
    "\n",
    "<img src=\"img/mus.png\" width=\"20%\" align=\"left\" style=\"margin:50px;\">\n",
    "\n",
    "Pinpoint to constraints causing a conflict\n",
    "\n",
    "... trim model to a minimal set of constraints\n",
    "\n",
    "... minimize cognitive burden for user\n"
   ]
  },
  {
   "cell_type": "markdown",
   "metadata": {
    "pycharm": {
     "name": "#%% md\n"
    },
    "slideshow": {
     "slide_type": "slide"
    }
   },
   "source": [
    "### How to compute a MUS?\n",
    "\n",
    "Deletion-based MUS algorithm\n",
    "\n",
    "_[Joao Marques-Silva. Minimal Unsatisfiability: Models, Algorithms and Applications. ISMVL 2010. pp. 9-14]_"
   ]
  },
  {
   "cell_type": "code",
   "execution_count": null,
   "metadata": {
    "pycharm": {
     "name": "#%%\n"
    },
    "slideshow": {
     "slide_type": "fragment"
    }
   },
   "outputs": [],
   "source": [
    "def mus_naive(constraints):\n",
    "    m = cp.Model(constraints)\n",
    "    assert m.solve() is False, \"Model should be UNSAT\"\n",
    "    \n",
    "    core = constraints\n",
    "    i = 0\n",
    "    while i < len(core):\n",
    "        subcore = core[:i] + core[i+1:]  # try all but constraint 'i'\n",
    "        if cp.Model(subcore).solve() is True:\n",
    "            i += 1  # removing 'i' makes it SAT, need to keep for UNSAT\n",
    "        else:\n",
    "            core = subcore #  can safely delete 'i'\n",
    "    return core"
   ]
  },
  {
   "cell_type": "markdown",
   "metadata": {
    "slideshow": {
     "slide_type": "slide"
    }
   },
   "source": [
    "### How to compute a MUS, <u>efficiently</u>?"
   ]
  },
  {
   "cell_type": "code",
   "execution_count": null,
   "metadata": {
    "slideshow": {
     "slide_type": "-"
    }
   },
   "outputs": [],
   "source": [
    "t0 = time.time()\n",
    "core = mus_naive(constraints)\n",
    "print(f\"Naive MUS took {time.time()-t0} seconds\")"
   ]
  },
  {
   "cell_type": "code",
   "execution_count": null,
   "metadata": {
    "scrolled": true,
    "slideshow": {
     "slide_type": "fragment"
    }
   },
   "outputs": [],
   "source": [
    "t0 = time.time()\n",
    "core = cpmpy.tools.explain.mus(constraints, solver=\"exact\")\n",
    "print(f\"Assumption-based MUS took {time.time()-t0} seconds\")"
   ]
  },
  {
   "cell_type": "markdown",
   "metadata": {
    "slideshow": {
     "slide_type": "slide"
    }
   },
   "source": [
    "### How to compute a MUS, <u>efficiently</u>?\n",
    "\n"
   ]
  },
  {
   "cell_type": "code",
   "execution_count": null,
   "metadata": {
    "slideshow": {
     "slide_type": "fragment"
    }
   },
   "outputs": [],
   "source": [
    "def mus_assum(constraints, solver=\"ortools\"):\n",
    "    # add indicator variable per expression\n",
    "    constraints = toplevel_list(constraints, merge_and=False)\n",
    "    assump = cp.boolvar(shape=len(constraints), name=\"assump\")  # Boolean indicators\n",
    "    m = cp.Model(assump.implies(constraints))  # [assump[i] -> constraints[i] for all i]\n",
    "    \n",
    "    s = cp.SolverLookup.get(solver, model)\n",
    "    assert s.solve(assumptions=assump) is False, \"Model should be UNSAT\"\n",
    "\n",
    "    core = s.get_core()  # start from solver's UNSAT core of assumption variables\n",
    "    i = 0\n",
    "    while i < len(core):\n",
    "        subcore = core[:i] + core[i+1:]  # try all but constraint 'i'\n",
    "        if s.solve(assumptions=subcore) is True:\n",
    "            i += 1  # removing 'i' makes it SAT, need to keep for UNSAT\n",
    "        else:\n",
    "            core = subcore\n",
    "    return [c for c,var in zip(constraints,assump) if var in core]"
   ]
  },
  {
   "cell_type": "markdown",
   "metadata": {
    "slideshow": {
     "slide_type": "slide"
    }
   },
   "source": [
    "### How to compute a MUS, <u>efficiently</u>?\n",
    "\n",
    "<center><img src=\"img/mus_assum.png\" style=\"max-width: 85%;\" /></center>"
   ]
  },
  {
   "cell_type": "markdown",
   "metadata": {
    "slideshow": {
     "slide_type": "slide"
    }
   },
   "source": [
    "## Deepdive: incremental CDCL solving with assumption variables 1/4\n",
    "\n",
    "<center><img src=\"img/slide_cdcl1.png\" style=\"max-width: 85%;\" /></center>"
   ]
  },
  {
   "cell_type": "markdown",
   "metadata": {
    "slideshow": {
     "slide_type": "slide"
    }
   },
   "source": [
    "## Deepdive: incremental CDCL solving with assumption variables 2/4\n",
    "\n",
    "<center><img src=\"img/slide_cdcl2.png\" style=\"max-width: 85%;\" /></center>"
   ]
  },
  {
   "cell_type": "markdown",
   "metadata": {
    "slideshow": {
     "slide_type": "slide"
    }
   },
   "source": [
    "## Deepdive: incremental CDCL solving with assumption variables 3/4\n",
    "\n",
    "<center><img src=\"img/slide_cdcl3.png\" style=\"max-width: 85%;\" /></center>"
   ]
  },
  {
   "cell_type": "markdown",
   "metadata": {
    "slideshow": {
     "slide_type": "slide"
    }
   },
   "source": [
    "## Deepdive: incremental CDCL solving with assumption variables 4/4\n",
    "\n",
    "<center><img src=\"img/slide_cdcl4.png\" style=\"max-width: 85%;\" /></center>"
   ]
  },
  {
   "cell_type": "markdown",
   "metadata": {
    "slideshow": {
     "slide_type": "slide"
    }
   },
   "source": [
    "### How to compute a MUS, <u>efficiently</u>? (recap after deepdive)\n",
    "\n",
    "<center><img src=\"img/mus_assum.png\" style=\"max-width: 85%;\" /></center>"
   ]
  },
  {
   "cell_type": "markdown",
   "metadata": {
    "slideshow": {
     "slide_type": "slide"
    }
   },
   "source": [
    "### How to compute a MUS, <u>efficiently</u>?\n",
    "\n",
    "Assumption-based incremental solving only for Boolean SAT problems?"
   ]
  },
  {
   "cell_type": "markdown",
   "metadata": {
    "slideshow": {
     "slide_type": "fragment"
    }
   },
   "source": [
    "<b>No!</b>\n",
    "\n",
    "* CP solvers: <i>Lazy Clause Generation</i> (e.g. OrTools)\n",
    "* Pseudo-Boolean solvers: <i>Conflict-Driven Cutting Plane Learning</i> (e.g. Exact)\n",
    "* SMT solvers: <i>SAT Module Theories with CDCL</i> (e.g. Z3)\n",
    "* MaxSAT solvers: <i>Core-guided solvers</i>"
   ]
  },
  {
   "cell_type": "markdown",
   "metadata": {
    "slideshow": {
     "slide_type": "slide"
    }
   },
   "source": [
    "## Deductive Explanations for UNSAT problems\n",
    "\n",
    "A MUS is a deductive explanation of UNSAT:\n",
    "\n",
    "these constraints minimally entail failure\n"
   ]
  },
  {
   "cell_type": "code",
   "execution_count": null,
   "metadata": {
    "pycharm": {
     "name": "#%%\n"
    },
    "scrolled": false,
    "slideshow": {
     "slide_type": "fragment"
    }
   },
   "outputs": [],
   "source": [
    "subset = cpmpy.tools.explain.mus(constraints)\n",
    "print(\"Length of MUS:\", len(subset))\n",
    "for cons in subset: print(\"-\", cons)"
   ]
  },
  {
   "cell_type": "code",
   "execution_count": null,
   "metadata": {
    "pycharm": {
     "name": "#%%\n"
    },
    "slideshow": {
     "slide_type": "subslide"
    }
   },
   "outputs": [],
   "source": [
    "visualize_constraints(subset, nurse_view, factory)"
   ]
  },
  {
   "cell_type": "markdown",
   "metadata": {
    "pycharm": {
     "name": "#%%\n"
    },
    "slideshow": {
     "slide_type": "slide"
    }
   },
   "source": [
    "### Many MUS'es may exist...\n",
    "\n",
    "_Liffiton, M.H., & Malik, A. (2013). Enumerating infeasibility: Finding multiple MUSes quickly. In\n",
    "Proceedings of the 10th International Conference on Integration of AI and OR Techniques in Constraint\n",
    "    Programming (CPAIOR 2013) (pp. 160–175)_"
   ]
  },
  {
   "cell_type": "code",
   "execution_count": null,
   "metadata": {
    "pycharm": {
     "name": "#%%\n"
    },
    "slideshow": {
     "slide_type": "-"
    }
   },
   "outputs": [],
   "source": [
    "# MARCO MUS/MSS enumeration\n",
    "from explanations.marco_mcs_mus import do_marco\n",
    "solver = \"ortools\"  # default solver\n",
    "if \"exact\" in cp.SolverLookup.solvernames(): solver = \"exact\"  # fast for increment solving\n",
    "    \n",
    "t0 = time.time()\n",
    "cnt = 0\n",
    "for (kind, sset) in do_marco(model, solver=solver):\n",
    "    if kind == \"MUS\":\n",
    "        print(\"M\", end=\"\")\n",
    "        cnt += 1\n",
    "    else: print(\".\", end=\"\")  # MSS\n",
    "    \n",
    "    if time.time() - t0 > 15:  break  # for this presentation: break after 15s\n",
    "print(f\"\\nFound {cnt} MUSes in\", time.time() - t0)\n",
    " "
   ]
  },
  {
   "cell_type": "markdown",
   "metadata": {
    "pycharm": {
     "name": "#%%\n"
    },
    "slideshow": {
     "slide_type": "slide"
    }
   },
   "source": [
    "### Many MUS'es may exist...\n",
    "\n",
    "<img src=\"img/musses.png\" width=\"40%\" align=\"left\" style=\"margin-left:30px; margin-right:30px\">\n",
    "\n",
    "This problem has just 168 constraints, yet 100.000+ MUSes exist...\n",
    "\n",
    "Which one to show? \n",
    "\n",
    "Can we influence which MUS is found?"
   ]
  },
  {
   "cell_type": "markdown",
   "metadata": {
    "slideshow": {
     "slide_type": "slide"
    }
   },
   "source": [
    "## Influencing which MUS is found?\n",
    "\n",
    "<b>QuickXPlain algorithm</b> <i>(Junker, 2004)</i>.\n",
    "Widely used, in model-based diagnosis, recommender systems, verification, and more.\n",
    "\n",
    "Divide-and-conquer given a lexicographic <i>preference</i> order over the constraints:"
   ]
  },
  {
   "cell_type": "code",
   "execution_count": null,
   "metadata": {
    "slideshow": {
     "slide_type": "fragment"
    }
   },
   "outputs": [],
   "source": [
    "# the order of 'soft' matters! lexicographic preference for the first ones\n",
    "def quickxplain(soft, hard=[], solver=\"ortools\"):\n",
    "    model, soft, assump = make_assump_model(soft, hard)\n",
    "    s = cp.SolverLookup.get(solver, model)\n",
    "    assert s.solve(assumptions=assump) is False, \"The model should be UNSAT!\"\n",
    "\n",
    "    # the recursive call\n",
    "    def do_recursion(tocheck, other, delta):\n",
    "        if len(delta) != 0 and s.solve(assumptions=tocheck) is False:\n",
    "            # conflict is in hard constraints, no need to recurse\n",
    "            return []\n",
    "\n",
    "        if len(other) == 1:\n",
    "            # conflict is not in 'tocheck' constraints, but only 1 'other' constraint\n",
    "            return list(other)  # base case of recursion\n",
    "\n",
    "        split = len(other) // 2  # determine split point\n",
    "        more_preferred, less_preferred = other[:split], other[split:]  # split constraints into two sets\n",
    "\n",
    "        # treat more preferred part as hard and find extra constants from less preferred\n",
    "        delta2 = do_recursion(tocheck + more_preferred, less_preferred, more_preferred)\n",
    "        # find which preferred constraints exactly\n",
    "        delta1 = do_recursion(tocheck + delta2, more_preferred, delta2)\n",
    "        return delta1 + delta2\n",
    "\n",
    "    core = do_recursion([], list(assump), [])\n",
    "    return [c for c,var in zip(soft,assump) if var in core]\n"
   ]
  },
  {
   "cell_type": "markdown",
   "metadata": {
    "slideshow": {
     "slide_type": "slide"
    }
   },
   "source": [
    "  ## Influencing which MUS is found?\n",
    "\n",
    "<b>QuickXPlain</b>: Divide-and-conquer given a lexicographic <i>preference</i> order over the constraints:\n",
    "\n",
    "&nbsp;\n",
    "\n",
    "<center><img src=\"img/quickxplain.png\" style=\"max-width: 70%;\" /></center>"
   ]
  },
  {
   "cell_type": "markdown",
   "metadata": {
    "slideshow": {
     "slide_type": "slide"
    }
   },
   "source": [
    "## Influencing which MUS is found?\n",
    "\n",
    "<b>QuickXPlain algorithm</b> <i>(Junker, 2004)</i>.\n",
    "Widely used, in model-based diagnosis, recommender systems, verification, and more.\n",
    "\n",
    "Divide-and-conquer given a lexicographic order over the constraints"
   ]
  },
  {
   "cell_type": "code",
   "execution_count": null,
   "metadata": {
    "pycharm": {
     "name": "#%%\n"
    },
    "scrolled": false,
    "slideshow": {
     "slide_type": "-"
    }
   },
   "outputs": [],
   "source": [
    "t0 = time.time()\n",
    "subset = cpmpy.tools.explain.quickxplain(sorted(model.constraints, key=lambda c: -len(c)), solver=\"exact\")\n",
    "print(\"ordering '-len': Length of MUS:\", len(subset))\n",
    "print(f\"(in {time.time()-t0} seconds)\")\n",
    "\n",
    "t0 = time.time()\n",
    "subset = cpmpy.tools.explain.quickxplain(sorted(model.constraints, key=lambda c: len(c)), solver=\"exact\")\n",
    "print(\"ordering 'len': Length of MUS:\", len(subset))\n",
    "print(f\"(in {time.time()-t0} seconds)\")"
   ]
  },
  {
   "cell_type": "code",
   "execution_count": null,
   "metadata": {
    "slideshow": {
     "slide_type": "fragment"
    }
   },
   "outputs": [],
   "source": [
    "t0 = time.time()\n",
    "subset = cpmpy.tools.explain.quickxplain(sorted(model.constraints, key=lambda c: len(c)), solver=\"ortools\")\n",
    "print(\"ordering 'len': Length of MUS:\", len(subset))\n",
    "print(f\"(in {time.time()-t0} seconds)\")"
   ]
  },
  {
   "cell_type": "code",
   "execution_count": null,
   "metadata": {
    "pycharm": {
     "name": "#%%\n"
    },
    "slideshow": {
     "slide_type": "skip"
    }
   },
   "outputs": [],
   "source": [
    "visualize_constraints(subset, nurse_view, factory)"
   ]
  },
  {
   "cell_type": "markdown",
   "metadata": {
    "slideshow": {
     "slide_type": "slide"
    }
   },
   "source": [
    "## Optimising which MUS is found?\n",
    "\n",
    "Give every constraint a weight: OUS: Optimal Unsatisfiable Subsets <i>(Gamba, Bogaerts, Guns, 2021)</i>.\n",
    "\n",
    "Some key properties:\n",
    "\n",
    "1. If a subset is SAT, can <i>grow</i> it to a Maximal Satisfiable Subset (MSS)\n",
    "2. The complement of a MSS is a Minimum Correction Subset (MCS)\n",
    "3. Theorem: A MUS is a hitting set of the MCSes\n",
    "\n",
    "<table><tr>\n",
    "    <td width=10%>\n",
    "        <center><img width=60% src=\"img/mcs.png\" /></center>\n",
    "    </td> \n",
    "    <td width=10%>\n",
    "        <center><img width=60% src=\"img/hittingset.png\" /></center>\n",
    "    </td>\n",
    "</tr></table>"
   ]
  },
  {
   "cell_type": "markdown",
   "metadata": {
    "slideshow": {
     "slide_type": "slide"
    }
   },
   "source": [
    "## Optimising which MUS is found?\n",
    "\n",
    "OUS: Optimal Unsatisfiable Subsets <i>(Gamba, Bogaerts, Guns, 2021)</i>. Every constraints has a weight.\n",
    "\n",
    "1. Initialize sets-to-hit $\\mathcal{H}$ (e.g. insert set of all constraints)\n",
    "2. Find *optimal* hitting set $S$\n",
    "3. Check if SAT: grow and take complement = MCS $K$, add to sets-to-hit $\\mathcal{H}$\n",
    "4. Repeat until UNSAT: optimal unsatisfiable subset $S$ found\n",
    "\n",
    "<center><img src=\"img/smus.png\" width=55% /></center>"
   ]
  },
  {
   "cell_type": "markdown",
   "metadata": {
    "slideshow": {
     "slide_type": "slide"
    }
   },
   "source": [
    "## <u>Efficiently</u> optimising which MUS is found?\n",
    "\n",
    "OUS: Optimal Unsatisfiable Subsets <i>(Gamba, Bogaerts, Guns, 2021)</i>. Every constraints has a weight.\n",
    "\n",
    "&nbsp;\n",
    "\n",
    "<center><img src=\"img/smus_efficient.png\" width=65%/></center>"
   ]
  },
  {
   "cell_type": "markdown",
   "metadata": {
    "slideshow": {
     "slide_type": "slide"
    }
   },
   "source": [
    "## Optimising which MUS is found?\n",
    "\n",
    "OUS: Optimal Unsatisfiable Subsets <i>(Gamba, Bogaerts, Guns, 2021)</i>. Every constraints has a weight."
   ]
  },
  {
   "cell_type": "code",
   "execution_count": null,
   "metadata": {
    "pycharm": {
     "name": "#%%\n"
    },
    "slideshow": {
     "slide_type": "-"
    }
   },
   "outputs": [],
   "source": [
    "from explanations.subset import omus  # not (yet) part of CPMpy\n",
    "\n",
    "smallest_subset = omus(model.constraints, weights=1, solver=\"exact\", hs_solver=\"ortools\")\n",
    "\n",
    "print(\"Length of OUS:\", len(smallest_subset))\n",
    "for cons in smallest_subset:  \n",
    "    print(\"-\", cons)"
   ]
  },
  {
   "cell_type": "code",
   "execution_count": null,
   "metadata": {
    "pycharm": {
     "name": "#%%\n"
    },
    "slideshow": {
     "slide_type": "-"
    }
   },
   "outputs": [],
   "source": [
    "visualize_constraints(smallest_subset, nurse_view, factory)"
   ]
  },
  {
   "cell_type": "markdown",
   "metadata": {
    "slideshow": {
     "slide_type": "slide"
    }
   },
   "source": [
    "# Outline of the talk\n",
    "\n",
    "## Part 1: Deductive explanations (What causes X?)\n",
    "\n",
    "* UNSAT: minimal unsatisfiable subsets\n",
    "  - efficient MUSes\n",
    "  - preferred MUSes\n",
    "* SAT: explaining logical consequences &#9194;\n",
    "* OPT: explaining that no better solution exists\n",
    "\n",
    "## Part 2: Counterfactual explanation (What if Y instead of X?)\n",
    "\n",
    "* UNSAT: minimum correction subsets\n",
    "* UNSAT: corrective actions\n",
    "* SAT: checking a foil\n",
    "* OPT: correcting the objective function\n",
    "    "
   ]
  },
  {
   "cell_type": "markdown",
   "metadata": {
    "slideshow": {
     "slide_type": "slide"
    }
   },
   "source": [
    "## Deductive Explanations for SAT problems\n",
    "\n",
    "\n",
    "&nbsp;\n",
    "\n",
    "<center><img src=\"img/maxconsequence.png\" width=75%/></center>"
   ]
  },
  {
   "cell_type": "markdown",
   "metadata": {
    "slideshow": {
     "slide_type": "slide"
    }
   },
   "source": [
    "## Deductive Explanations for SAT problems\n",
    "\n",
    "### Explaining logical consequences\n",
    "\n",
    "<u>Logical consequence</u>: a variable assignment entailed by the constraints and the current partial assignment\n",
    "\n",
    "<u>Maximal consequence</u>: precision- maximal partial assignment\n",
    "\n",
    "* Maximal consequence = intersection of all possible solutions\n",
    "* If solution is unique, maximal consequence = unique solution"
   ]
  },
  {
   "cell_type": "markdown",
   "metadata": {
    "slideshow": {
     "slide_type": "skip"
    }
   },
   "source": [
    "### TODO: Simple algorithm of max-propagate? (not priority)"
   ]
  },
  {
   "cell_type": "markdown",
   "metadata": {
    "slideshow": {
     "slide_type": "slide"
    }
   },
   "source": [
    "## Deductive Explanations for SAT problems\n",
    "\n",
    "> Bogaerts, Bart, Emilio Gamba, and Tias Guns. \"A framework for step-wise explaining how to solve constraint satisfaction problems.\" Artificial Intelligence 300 (2021): 103550.\n",
    "\n",
    "&nbsp;\n",
    "\n",
    "<center><img src=\"img/stepwise.png\" /></center>"
   ]
  },
  {
   "cell_type": "markdown",
   "metadata": {
    "slideshow": {
     "slide_type": "slide"
    }
   },
   "source": [
    "## Deductive Explanations for SAT problems\n",
    "\n",
    "> Bogaerts, Bart, Emilio Gamba, and Tias Guns. \"A framework for step-wise explaining how to solve constraint satisfaction problems.\" Artificial Intelligence 300 (2021): 103550.\n",
    "\n",
    "<table><tr style=\"background: white;\">\n",
    "    <td>&nbsp;</td>\n",
    "    <td style=\"text-align: center; vertical-align: middle;\"><img src=\"img/onestep_example.png\" width=90%></td>\n",
    "    <td style=\"text-align: center; vertical-align: middle;\"><img src=\"img/onestep_expl.png\" width=80%></td>\n",
    "</tr></table>"
   ]
  },
  {
   "cell_type": "markdown",
   "metadata": {
    "slideshow": {
     "slide_type": "slide"
    }
   },
   "source": [
    "## Deductive Explanations for SAT problems\n",
    "\n",
    "We want each explanation step to be as simple as possible.\n",
    "\n",
    "<center><img src=\"img/onestep_mus.png\" width=50%></center>\n",
    "\n",
    "(we actually use OUS because we want the <i>smallest</i> not just a minimal one, and then we can put smaller weights on facts and larger weights on constraints)"
   ]
  },
  {
   "cell_type": "markdown",
   "metadata": {
    "slideshow": {
     "slide_type": "skip"
    }
   },
   "source": [
    "## Deductive Explanations for SAT problems\n",
    "\n",
    "\n",
    "> Bogaerts, Bart, Emilio Gamba, and Tias Guns. \"A framework for step-wise explaining how to solve constraint satisfaction problems.\" Artificial Intelligence 300 (2021): 103550.\n",
    "\n",
    "# TODO!! Help..."
   ]
  },
  {
   "cell_type": "code",
   "execution_count": null,
   "metadata": {
    "slideshow": {
     "slide_type": "skip"
    }
   },
   "outputs": [],
   "source": [
    "# do CP propagate (the one of CPMpy main?) on nurse rostering satisfaction variant?\n",
    "# if it contains an assigned variable, take (one) of it and formulate as an OUS?\n",
    "# call OUS and display?\n",
    "# then again for another one? (optional)"
   ]
  },
  {
   "cell_type": "markdown",
   "metadata": {
    "slideshow": {
     "slide_type": "slide"
    }
   },
   "source": [
    "## <u>Efficiently</u> step-wise explanation of the maximal consequence?\n",
    "\n",
    "Compute the OUS over all assignments in the maximal consequence at once, efficiently:\n",
    "\n",
    "<b>OCUS</b> Optimal <i>Constrained</i> Unsatisfiable Subsets <i>(Gamba, Bogaerts, Guns, 2021)</i>.\n",
    "\n",
    "* <i>meta-constraint $p$:</i> use exactly 1 element of the maximal consequence\n",
    "\n",
    "<center><img src=\"img/ocus.png\" width=50%></center>\n",
    "\n",
    "(not discussed in more detail)"
   ]
  },
  {
   "cell_type": "markdown",
   "metadata": {
    "slideshow": {
     "slide_type": "slide"
    }
   },
   "source": [
    "# Outline of the talk\n",
    "\n",
    "## Part 1: Deductive explanations (What causes X?)\n",
    "\n",
    "* UNSAT: minimal unsatisfiable subsets\n",
    "  - efficient MUSes\n",
    "  - preferred MUSes\n",
    "* SAT: explaining logical consequences\n",
    "* OPT: explaining that no better solution exists &#9194;\n",
    "\n",
    "## Part 2: Counterfactual explanation (What if Y instead of X?)\n",
    "\n",
    "* UNSAT: minimum correction subsets\n",
    "* UNSAT: corrective actions\n",
    "* SAT: checking a foil\n",
    "* OPT: correcting the objective function\n",
    "    "
   ]
  },
  {
   "cell_type": "markdown",
   "metadata": {
    "slideshow": {
     "slide_type": "slide"
    }
   },
   "source": [
    "## Deductive Explanations for <u>OPT</u> problems\n",
    "\n",
    "Can we explain <i>why</i> an optimal solution is optimal, e.g. <u>why there does not exist a better solution</u>?\n",
    "\n",
    "A <i>proof of optimality</i> proves that no better solution exists, but:\n",
    "\n",
    "* An increasing number of solvers support <i>proof logging</i> (SAT, but also CP: Glasgow Constraint Solver)\n",
    "* These proofs are built for <i>computer</i> verification (up to gigabytes of log), not to communicate to users\n",
    "* These proofs can use learned clauses, auxiliary variables and anything available to the solver"
   ]
  },
  {
   "cell_type": "markdown",
   "metadata": {
    "slideshow": {
     "slide_type": "slide"
    }
   },
   "source": [
    "## Deductive Explanations for <u>OPT</u> problems\n",
    "\n",
    "Can we explain <i>why</i> an optimal solution is optimal, e.g. <u>why there does not exist a better solution</u>?\n",
    "\n",
    "Let $C$ be the constraints, $f(x)$ the objective function and $o$ the optimal objective value.\n",
    "\n",
    "* $o = min_{x \\in C} f(x)$ <b>because</b> of the constraints $C$\n",
    "* Hence $C ~\\wedge ~(f(x) < o)$ is unsatisfiable...\n",
    "* Hence $\\text{MUS}(C ~\\wedge ~(f(x) < o))$ is a deductive explanation for optimality!"
   ]
  },
  {
   "cell_type": "markdown",
   "metadata": {
    "slideshow": {
     "slide_type": "fragment"
    }
   },
   "source": [
    "But its typically very big (up to all constraints)...\n",
    "\n",
    "can we provide a <b>step-wise explanation</b> of the unsatisfiability?"
   ]
  },
  {
   "cell_type": "markdown",
   "metadata": {
    "slideshow": {
     "slide_type": "slide"
    }
   },
   "source": [
    "## Deductive Explanations for <u>OPT</u> problems\n",
    "\n",
    "Can we explain <i>why</i> an optimal solution is optimal, e.g. <u>a step-wise explanation of why</u> there does not exist a better solution?\n",
    "\n",
    "Yes!\n",
    "\n",
    "> Ignace Bleukx, Jo Devriendt, Emilio Gamba, Bart Bogaerts, Tias Guns. Simplifying Step-wise Explanation Sequences. 29th International Conference on Principles and Practice of Constraint Programming (CP23), 2023.\n",
    "\n",
    "\n",
    "**Challenges**\n",
    "\n",
    "- How to find interpretable sequences? \n",
    "    - _I.e., with few and small steps?_\n",
    "- How to deal with redundancy in the sequence? \n",
    "    - _I.e., how to decide what information is relevant to derive?_\n",
    "- How to make the algorithm incremental?\n",
    "    - _I.e., how to find good sequences fast?_"
   ]
  },
  {
   "cell_type": "markdown",
   "metadata": {
    "slideshow": {
     "slide_type": "skip"
    }
   },
   "source": [
    "## 3-phase approach:\n",
    "\n",
    "Greedy construction of the sequence:\n",
    "<img src=\"img/manysteps.png\" width=\"80%\" style=\"margin-bottom: -50px; margin-top: -50px\"><br>\n",
    "Removing redundant steps:\n",
    "<img src=\"img/littledirtysteps.png\" width=\"80%\" style=\"margin-bottom: -50px;  margin-top:-50px;\">\n",
    "Clean each step from spurious input/output:\n",
    " <img src=\"img/littlecleansteps.png\" width=\"45%\" style=\"margin-top:-50px\">"
   ]
  },
  {
   "cell_type": "markdown",
   "metadata": {
    "slideshow": {
     "slide_type": "slide"
    }
   },
   "source": [
    "## Deductive Explanations for <u>OPT</u> problems\n",
    "\n",
    "Example in this tutorial: step-wise explanation of a large MUS<br />(can also construct from scratch to step-wise explain optimality, see paper)"
   ]
  },
  {
   "cell_type": "code",
   "execution_count": null,
   "metadata": {
    "slideshow": {
     "slide_type": "-"
    }
   },
   "outputs": [],
   "source": [
    "# any MUS\n",
    "subset = cpmpy.tools.explain.mus(model.constraints)\n",
    "visualize_constraints(subset, nurse_view, factory)"
   ]
  },
  {
   "cell_type": "code",
   "execution_count": null,
   "metadata": {
    "slideshow": {
     "slide_type": "-"
    }
   },
   "outputs": [],
   "source": [
    "from explanations.stepwise import find_sequence\n",
    "\n",
    "seq = find_sequence(subset)"
   ]
  },
  {
   "cell_type": "code",
   "execution_count": null,
   "metadata": {
    "slideshow": {
     "slide_type": "subslide"
    }
   },
   "outputs": [],
   "source": [
    "nurse_view.clear()\n",
    "visualize_step(seq[0], nurse_view, factory)"
   ]
  },
  {
   "cell_type": "code",
   "execution_count": null,
   "metadata": {
    "slideshow": {
     "slide_type": "subslide"
    }
   },
   "outputs": [],
   "source": [
    "visualize_step(seq[1], nurse_view, factory)"
   ]
  },
  {
   "cell_type": "code",
   "execution_count": null,
   "metadata": {
    "slideshow": {
     "slide_type": "subslide"
    }
   },
   "outputs": [],
   "source": [
    "visualize_step(seq[2], nurse_view, factory)"
   ]
  },
  {
   "cell_type": "code",
   "execution_count": null,
   "metadata": {
    "slideshow": {
     "slide_type": "subslide"
    }
   },
   "outputs": [],
   "source": [
    "visualize_step(seq[3], nurse_view, factory)"
   ]
  },
  {
   "cell_type": "code",
   "execution_count": null,
   "metadata": {
    "slideshow": {
     "slide_type": "subslide"
    }
   },
   "outputs": [],
   "source": [
    "visualize_step(seq[4], nurse_view, factory)"
   ]
  },
  {
   "cell_type": "code",
   "execution_count": null,
   "metadata": {
    "slideshow": {
     "slide_type": "subslide"
    }
   },
   "outputs": [],
   "source": [
    "visualize_step(seq[5], nurse_view, factory)"
   ]
  },
  {
   "cell_type": "code",
   "execution_count": null,
   "metadata": {
    "slideshow": {
     "slide_type": "subslide"
    }
   },
   "outputs": [],
   "source": [
    "visualize_step(seq[6], nurse_view, factory)"
   ]
  },
  {
   "cell_type": "code",
   "execution_count": null,
   "metadata": {
    "slideshow": {
     "slide_type": "subslide"
    }
   },
   "outputs": [],
   "source": [
    "visualize_step(seq[7], nurse_view, factory)"
   ]
  },
  {
   "cell_type": "code",
   "execution_count": null,
   "metadata": {
    "slideshow": {
     "slide_type": "subslide"
    }
   },
   "outputs": [],
   "source": [
    "visualize_step(seq[8], nurse_view, factory)"
   ]
  },
  {
   "cell_type": "code",
   "execution_count": null,
   "metadata": {
    "slideshow": {
     "slide_type": "subslide"
    }
   },
   "outputs": [],
   "source": [
    "visualize_step(seq[9], nurse_view, factory)"
   ]
  },
  {
   "cell_type": "code",
   "execution_count": null,
   "metadata": {
    "slideshow": {
     "slide_type": "subslide"
    }
   },
   "outputs": [],
   "source": [
    "visualize_step(seq[10], nurse_view, factory)"
   ]
  },
  {
   "cell_type": "markdown",
   "metadata": {
    "slideshow": {
     "slide_type": "slide"
    }
   },
   "source": [
    "# Outline of the talk\n",
    "\n",
    "## Part 1: Deductive explanations (What causes X?) &#9989;\n",
    "\n",
    "* UNSAT: minimal unsatisfiable subsets\n",
    "  - efficient MUSes\n",
    "  - preferred MUSes\n",
    "* SAT: explaining logical consequences\n",
    "* OPT: explaining that no better solution exists\n",
    "\n",
    "## Part 2: Counterfactual explanation (What if Y instead of X?)  &#9194;\n",
    "\n",
    "* UNSAT: minimum correction subsets\n",
    "* UNSAT: corrective actions\n",
    "* SAT: checking a foil\n",
    "* OPT: correcting the objective function\n",
    "    "
   ]
  },
  {
   "cell_type": "markdown",
   "metadata": {
    "pycharm": {
     "name": "#%% md\n"
    },
    "slideshow": {
     "slide_type": "slide"
    }
   },
   "source": [
    "## Explainable Constraint Programming (XCP)\n",
    "\n",
    "Recap, \"**Why X?**\" &nbsp;&nbsp;&nbsp;&nbsp;&nbsp;&nbsp; (with X a solution or UNSAT)\n",
    "\n",
    "<img src=\"img/coloring_mus.png\" width=25% align=\"right\">\n",
    "\n",
    "- **Deductive explanation:**\n",
    "  - _What causes X?_\n",
    "  - answer: a minimal inference set"
   ]
  },
  {
   "cell_type": "markdown",
   "metadata": {
    "slideshow": {
     "slide_type": "fragment"
    }
   },
   "source": [
    "<img src=\"img/coloring_mcs.png\" width=25% align=\"right\">\n",
    "\n",
    "- **Counterfactual explanation**:\n",
    "  - _What if I want Y instead of X?_\n",
    "  - answer: a constraint relaxation + new solution"
   ]
  },
  {
   "cell_type": "markdown",
   "metadata": {
    "slideshow": {
     "slide_type": "slide"
    }
   },
   "source": [
    "## Explanations for UNSAT problems:\n",
    "\n",
    "<table><tr>\n",
    "    <td width=45%>      \n",
    "        <center>MUS: one conflict\n",
    "            <img width=60% src=\"img/mus.png\" /></center>\n",
    "    </td> \n",
    "    <td width=45%>\n",
    "        <center>MSS: a relaxation\n",
    "        <img width=60% src=\"img/mcs.png\" /></center>\n",
    "    </td>\n",
    "</tr></table>"
   ]
  },
  {
   "cell_type": "markdown",
   "metadata": {
    "slideshow": {
     "slide_type": "slide"
    }
   },
   "source": [
    "## Counterfactual Explanations for <u>UNSAT</u> problems\n",
    "\n",
    "Computing a <i>Maximal Satisfiable Subset</i>?\n",
    "\n",
    "We can do better... computing a Maxi<b>mum</b> satisfiable subset is the textbook MaxSAT/MaxCSP problem!\n",
    "\n",
    "Can add Boolean indicator variable to every constraint (like in assumption-based solving), and maximize the sum of indicators..."
   ]
  },
  {
   "cell_type": "code",
   "execution_count": null,
   "metadata": {
    "slideshow": {
     "slide_type": "fragment"
    }
   },
   "outputs": [],
   "source": [
    "# add indicator variable per expression\n",
    "constraints = toplevel_list(model.constraints, merge_and=False)\n",
    "\n",
    "ind = cp.boolvar(shape=len(constraints), name=\"ind\")  # Boolean indicators\n",
    "ind_model = cp.Model(ind.implies(constraints))\n",
    "ind_model.maximize(sum(ind))\n",
    "\n",
    "ind_model.solve()\n",
    "print(ind_model.status(), \"\\n\")\n",
    "\n",
    "print(\"MSS: size =\", sum(ind.value()),\"constraints\")\n",
    "print(\"MCS:\")\n",
    "for a,c in zip(ind, constraints):\n",
    "    if not a.value(): print(\"-\",c)"
   ]
  },
  {
   "cell_type": "markdown",
   "metadata": {
    "slideshow": {
     "slide_type": "slide"
    }
   },
   "source": [
    "# Outline of the talk\n",
    "\n",
    "## Part 1: Deductive explanations (What causes X?)\n",
    "\n",
    "* UNSAT: minimal unsatisfiable subsets\n",
    "  - efficient MUSes\n",
    "  - preferred MUSes\n",
    "* SAT: explaining logical consequences\n",
    "* OPT: explaining that no better solution exists\n",
    "\n",
    "## Part 2: Counterfactual explanation (What if Y instead of X?)\n",
    "\n",
    "* UNSAT: minimum correction subsets\n",
    "* UNSAT: corrective actions &#9194;\n",
    "* SAT: checking a foil\n",
    "* OPT: correcting the objective function\n",
    "    "
   ]
  },
  {
   "cell_type": "markdown",
   "metadata": {
    "slideshow": {
     "slide_type": "slide"
    }
   },
   "source": [
    "## Counterfactual Explanations for <u>UNSAT</u> problems\n",
    "\n",
    "An MSS is a <b>relaxation</b> of the original problem.\n",
    "\n",
    "* but <i>deleting</i> constraints is a very intrusive action!\n",
    "\n",
    "* e.g. no requirement at all on number of nurses on Sat 1 and Sun 1?\n",
    "\n"
   ]
  },
  {
   "cell_type": "code",
   "execution_count": null,
   "metadata": {
    "slideshow": {
     "slide_type": "-"
    }
   },
   "outputs": [],
   "source": [
    "visualize(nurse_view.value(), factory, highlight_cover=True)"
   ]
  },
  {
   "cell_type": "markdown",
   "metadata": {
    "slideshow": {
     "slide_type": "slide"
    }
   },
   "source": [
    "## Counterfactual Explanations for <u>UNSAT</u> problems\n",
    "\n",
    "<img src=\"img/slack.png\" width=\"20%\" align=\"right\" style=\"margin:20px;\">\n",
    "\n",
    "Defining a relaxation space: <i>corrective actions</i> on the constraints\n",
    "\n",
    "* Boolean constraints can only be turned on/off\n",
    "* Numeric comparison constraints can be __violated__ to some extend\n",
    "  * Introduce slack for each numerical comparison\n",
    "  * Slack indicates how much a constraint may be violated\n",
    "    <br>= fine grained penalty of solution!\n",
    "* Minimize sum of slack and indicator values\n",
    "\n",
    "Still a standard optimisation problem, just finer-grained correction modelling\n",
    "\n",
    "> Senthooran I, Klapperstueck M, Belov G, Czauderna T, Leo K, Wallace M, Wybrow M, Garcia de la Banda M. Human-centred <u>feasibility restoration</u> in practice. Constraints. 2023 Jul 20:1-41."
   ]
  },
  {
   "cell_type": "markdown",
   "metadata": {
    "slideshow": {
     "slide_type": "slide"
    }
   },
   "source": [
    "## Counterfactual Explanations for <u>UNSAT</u> problems\n",
    "\n",
    "Detailed example: allowing 'over' and 'under' assigning a shift, with the Count global constraint."
   ]
  },
  {
   "cell_type": "code",
   "execution_count": null,
   "metadata": {
    "slideshow": {
     "slide_type": "-"
    }
   },
   "outputs": [],
   "source": [
    "# slack variables can only be positive here (separate over and under relaxation)\n",
    "slack_under = cp.intvar(0, len(data.staff), shape=data.horizon, name=\"slack_under\")\n",
    "slack_over = cp.intvar(0, len(data.staff), shape=data.horizon, name=\"slack_over\")\n",
    "\n",
    "for _, cover in factory.data.cover.iterrows():\n",
    "    # read the data\n",
    "    day = cover[\"# Day\"]\n",
    "    shift = factory.shift_name_to_idx[cover[\"ShiftID\"]]\n",
    "\n",
    "    nb_nurses = cp.Count(nurse_view[:, day], shift)\n",
    "    # deviation of `nb_nurses` from `requirement`\n",
    "    expr = (nb_nurses == cover[\"Requirement\"] - slack_under[day] + slack_over[day])"
   ]
  },
  {
   "cell_type": "markdown",
   "metadata": {
    "slideshow": {
     "slide_type": "slide"
    }
   },
   "source": [
    "## Counterfactual Explanations for <u>UNSAT</u> problems\n",
    "\n",
    "Defining a relaxation space: <i>corrective actions</i> on the constraints."
   ]
  },
  {
   "cell_type": "code",
   "execution_count": null,
   "metadata": {
    "slideshow": {
     "slide_type": "-"
    }
   },
   "outputs": [],
   "source": [
    "slack_model, slack_nurse_view, slack_under, slack_over = factory.get_slack_model()  # CMPpy Model\n",
    "slack_model.minimize(10*cp.max(slack_under) + cp.sum(slack_under) + 0.1*cp.sum(slack_over)) # minimize global violation\n",
    "slack_model.solve()\n",
    "print(slack_model.status())\n"
   ]
  },
  {
   "cell_type": "code",
   "execution_count": null,
   "metadata": {
    "slideshow": {
     "slide_type": "fragment"
    }
   },
   "outputs": [],
   "source": [
    "style = visualize(slack_nurse_view.value(), factory, highlight_cover=True)\n",
    "style.data.loc[\"Slack under\"] = list(slack_under.value()) + [\" \"]\n",
    "style.data.loc[\"Slack over\"] = list(slack_over.value()) + [\" \"]\n",
    "display(style)"
   ]
  },
  {
   "cell_type": "markdown",
   "metadata": {
    "slideshow": {
     "slide_type": "slide"
    }
   },
   "source": [
    "# Outline of the talk\n",
    "\n",
    "## Part 1: Deductive explanations (What causes X?)\n",
    "\n",
    "* UNSAT: minimal unsatisfiable subsets\n",
    "  - efficient MUSes\n",
    "  - preferred MUSes\n",
    "* SAT: explaining logical consequences\n",
    "* OPT: explaining that no better solution exists\n",
    "\n",
    "## Part 2: Counterfactual explanation (What if Y instead of X?)\n",
    "\n",
    "* UNSAT: minimum correction subsets\n",
    "* UNSAT: corrective actions\n",
    "* SAT: checking a foil &#9194;\n",
    "* OPT: correcting the objective function\n",
    "    "
   ]
  },
  {
   "cell_type": "markdown",
   "metadata": {
    "slideshow": {
     "slide_type": "slide"
    }
   },
   "source": [
    "## Counterfactual Explanations for <u>SAT</u> problems\n",
    "\n",
    "The problem is SATisfiable, and the solver returned a solution.\n",
    "\n",
    "The user asks: \"What if Y instead of X?\"\n",
    "\n",
    "<b>Y is a foil</b>: a partial assignment or constraint that is counter-factual, different from the returned solution."
   ]
  },
  {
   "cell_type": "markdown",
   "metadata": {
    "slideshow": {
     "slide_type": "fragment"
    }
   },
   "source": [
    "Need to check $C + Y$, with $C$ the set of constraints and $Y$ the foil\n",
    "\n",
    "* If $C + Y$ is also SAT: show this solution\n",
    "\n",
    "* If $C + Y$ is UNSAT: can show a deductive or counterfactual explanation of why the foil leads to UNSAT"
   ]
  },
  {
   "cell_type": "markdown",
   "metadata": {
    "slideshow": {
     "slide_type": "slide"
    }
   },
   "source": [
    "## Counterfactual Explanations for <u>SAT</u> problems\n",
    "\n",
    "Example where the user asks: \"What if Y instead of X?\""
   ]
  },
  {
   "cell_type": "code",
   "execution_count": null,
   "metadata": {
    "slideshow": {
     "slide_type": "-"
    }
   },
   "outputs": [],
   "source": [
    "assert nurse_view[4,5].value()  # William currently scheduled to work on the first Saturday\n",
    "v = slack_model.objective_value()\n",
    "\n",
    "# what if William would not work on the first Saturday?\n",
    "mmodel = slack_model.copy()\n",
    "mmodel += (nurse_view[4,5] == 0)\n",
    "\n",
    "assert mmodel.solve()\n",
    "print(\"Total penalty: \", mmodel.objective_value(), \"versus\", v, \"before.\")\n",
    "style = visualize(slack_nurse_view.value(), factory, highlight_cover=True)\n",
    "style.data.loc[\"Slack under\"] = list(slack_under.value()) + [\" \"]\n",
    "style.data.loc[\"Slack over\"] = list(slack_over.value()) + [\" \"]\n",
    "display(style)"
   ]
  },
  {
   "cell_type": "markdown",
   "metadata": {
    "slideshow": {
     "slide_type": "slide"
    }
   },
   "source": [
    "# Outline of the talk\n",
    "\n",
    "## Part 1: Deductive explanations (What causes X?)\n",
    "\n",
    "* UNSAT: minimal unsatisfiable subsets\n",
    "  - efficient MUSes\n",
    "  - preferred MUSes\n",
    "* SAT: explaining logical consequences\n",
    "* OPT: explaining that no better solution exists\n",
    "\n",
    "## Part 2: Counterfactual explanation (What if Y instead of X?)\n",
    "\n",
    "* UNSAT: minimum correction subsets\n",
    "* UNSAT: corrective actions\n",
    "* SAT: checking a foil\n",
    "* OPT: correcting the objective function &#9194;\n",
    "    "
   ]
  },
  {
   "cell_type": "markdown",
   "metadata": {
    "slideshow": {
     "slide_type": "slide"
    }
   },
   "source": [
    "## Counterfactual Explanations for <u>OPT</u> problems\n",
    "\n",
    "* Corrective actions over the constraints? $C ~\\wedge ~(f(x) < o)$ is UNSAT, get counterfactual explnations from that."
   ]
  },
  {
   "cell_type": "markdown",
   "metadata": {
    "slideshow": {
     "slide_type": "fragment"
    }
   },
   "source": [
    "\n",
    "* Corrective actions over the objective function coefficients:\n",
    "\n",
    "The user asks: \"What coefficients need to change so that Y becomes an optimal solution instead of X?\"\n",
    "\n",
    "<b>Y is a foil</b> from the optimisation perspective: it leads to a non-optimal solution.\n",
    "\n",
    "> [Korikov, Anton, and J. Christopher Beck. \"Counterfactual explanations via inverse constraint programming.\" In 27th International Conference on Principles and Practice of Constraint Programming (CP 2021).]"
   ]
  },
  {
   "cell_type": "markdown",
   "metadata": {
    "slideshow": {
     "slide_type": "slide"
    }
   },
   "source": [
    "## Counterfactual Explanations for <u>OPT</u> problems\n",
    "\n",
    "Find currently optimal solution $X$:"
   ]
  },
  {
   "cell_type": "code",
   "execution_count": null,
   "metadata": {
    "slideshow": {
     "slide_type": "-"
    }
   },
   "outputs": [],
   "source": [
    "model, nurse_view = factory.get_full_model()\n",
    "\n",
    "assert model.solve()\n",
    "print(\"Total penalty: \", model.objective_value())\n",
    "visualize(nurse_view.value(), factory)"
   ]
  },
  {
   "cell_type": "markdown",
   "metadata": {
    "slideshow": {
     "slide_type": "slide"
    }
   },
   "source": [
    "## Counterfactual Explanations for <u>OPT</u> problems\n",
    "\n",
    "Robert is unhappy!"
   ]
  },
  {
   "cell_type": "code",
   "execution_count": null,
   "metadata": {
    "slideshow": {
     "slide_type": "-"
    }
   },
   "outputs": [],
   "source": [
    "nurse = \"Robert\"\n",
    " \n",
    "for (w,pref) in zip(*model.objective_.args):\n",
    "    if nurse in str(pref):\n",
    "        print(f\"{pref.value()} \\t w:{w} \\t{pref} \\t\")"
   ]
  },
  {
   "cell_type": "code",
   "execution_count": null,
   "metadata": {
    "slideshow": {
     "slide_type": "fragment"
    }
   },
   "outputs": [],
   "source": [
    "desc = \"Robert's requests to work shift D on Fri 1 is denied\"\n",
    "weight,d_on_fri1 = next((w,pref) for w,pref in zip(*model.objective_.args) if str(pref) == desc)\n",
    "print(f\"{d_on_fri1.value()} \\t w:{w} \\t{d_on_fri1}\")"
   ]
  },
  {
   "cell_type": "markdown",
   "metadata": {
    "slideshow": {
     "slide_type": "slide"
    }
   },
   "source": [
    "## Counterfactual Explanations for <u>OPT</u> problems\n",
    "\n",
    "Robert's request to work on Fri 1 is very important! His daughter has a surgery that day.\n",
    "\n",
    "How should he minimally change _his_ preferences to work that day?"
   ]
  },
  {
   "cell_type": "code",
   "execution_count": null,
   "metadata": {
    "slideshow": {
     "slide_type": "-"
    }
   },
   "outputs": [],
   "source": [
    "foil = {d_on_fri1 : False}  # don't want to have his request for Fri 1 denied!\n",
    "print(\"Foil:\", foil, \"\\n\")\n",
    "\n",
    "other_prefs = [(w,pref) for w,pref in zip(*model.objective_.args) if nurse in str(pref) and str(pref) != desc]\n",
    "print(f\"{nurse}'s other preferences:\")\n",
    "for w,pref in other_prefs:\n",
    "    print(\"- Weight\",w,\":\",pref)"
   ]
  },
  {
   "cell_type": "markdown",
   "metadata": {
    "slideshow": {
     "slide_type": "slide"
    }
   },
   "source": [
    "## Counterfactual Explanations for <u>OPT</u> problems\n",
    "\n",
    "> [Korikov, Anton, and J. Christopher Beck. \"Counterfactual explanations via inverse constraint programming.\" In 27th International Conference on Principles and Practice of Constraint Programming (CP 2021).]\n",
    "\n",
    "Algorithmically, it is a beautiful inverse optimisation problem with a multi-solver main/subproblem algorithm"
   ]
  },
  {
   "cell_type": "code",
   "execution_count": null,
   "metadata": {
    "slideshow": {
     "slide_type": "fragment"
    }
   },
   "outputs": [],
   "source": [
    "from explanations.counterfactual import inverse_optimize\n",
    "\n",
    "v = model.objective_value()\n",
    "new_obj = inverse_optimize(model=model, minimize=True,\n",
    "                           user_sol = foil,\n",
    "                           allowed_to_change = set(p[1] for p in other_prefs))\n",
    "print(f\"Done! Found solution with total penalty {new_obj.value()}, was {v}\\n\")\n",
    "\n",
    "# Let's look at the preferences he should enter, to avoid Fri 1!\n",
    "print(f\"{nurse} should change the following preferences:\")\n",
    "for w,pref in zip(*new_obj.args):\n",
    "    if nurse in str(pref) and str(pref) != desc and w != 1:  # previous weights were 1\n",
    "        print(\"- set to weight:\", w, \"--\", pref)"
   ]
  },
  {
   "cell_type": "markdown",
   "metadata": {
    "slideshow": {
     "slide_type": "slide"
    }
   },
   "source": [
    "## Hands-on Explainable Constraint Programming (XCP)\n",
    "\n",
    "<img src=\"img/interaction_figure4.png\" width=\"20%\" align=\"right\" style=\"margin:50px;\">\n",
    "\n",
    "## Part 1: Deductive explanations (What causes X?) &#9989;\n",
    "\n",
    "* UNSAT: minimal unsatisfiable subsets\n",
    "  - efficient MUSes\n",
    "  - preferred MUSes\n",
    "* SAT: explaining logical consequences\n",
    "* OPT: explaining that no better solution exists\n",
    "\n",
    "## Part 2: Counterfactual explanation (What if Y instead of X?) &#9989;\n",
    "\n",
    "* UNSAT: minimum correction subsets\n",
    "* UNSAT: corrective actions\n",
    "* SAT: checking a foil\n",
    "* OPT: correcting the objective function\n",
    "    "
   ]
  },
  {
   "cell_type": "markdown",
   "metadata": {
    "slideshow": {
     "slide_type": "slide"
    }
   },
   "source": [
    "## Explainable Constraint Programming (XCP)\n",
    "\n",
    "Recurring challenges:\n",
    "* <b>Definition</b> of explanation: _question and answer format_\n",
    "* Computational efficiency, <b>incremental</b> solvers\n",
    "* Explanation <b>selection</b>: _which explanation to show; learn preferences?_\n",
    "* User <b>Interaction</b>? _(visualisation, conversational, stateful, ...)_\n",
    "* Explanation <b>evaluation</b>: _computational, formal, user survey, user study, ..._\n"
   ]
  },
  {
   "cell_type": "markdown",
   "metadata": {
    "slideshow": {
     "slide_type": "slide"
    }
   },
   "source": [
    "<img src=\"img/chatopt.png\" height=\"800px\">"
   ]
  },
  {
   "cell_type": "markdown",
   "metadata": {
    "slideshow": {
     "slide_type": "slide"
    }
   },
   "source": [
    "## Connections to wider XAI\n",
    "\n",
    "* Explanations in planning, e.g. MUGS _[Eiflet et al]_, Model Reconciliation _[Chakraborti et al]_, ...\n",
    "* Explanations for KR/justifications _[Swartout et al]_, ASP _[Fandinno et al]_, in OWL _[Kalyanpur et al]_, ...\n",
    "* Formal explanations of ML models (e.g. impl. hitting-set based, _[Ignatiev et al]_)"
   ]
  },
  {
   "cell_type": "markdown",
   "metadata": {
    "slideshow": {
     "slide_type": "slide"
    }
   },
   "source": [
    "## Conclusion (final slide)\n",
    "\n",
    "\n",
    "<img src=\"img/interaction_figure4.png\" width=\"20%\" align=\"right\" style=\"margin:50px;\">\n",
    "\n",
    "* Deductive and Constrastive Explanation of UNSAT/SAT/Opt      \n",
    "* Deductive explanations relate back to finding a MUS/OUS\n",
    "* XCP requires programmable (multi-solver) tooling (here: CPMpy)\n",
    "\n",
    "&nbsp;\n",
    "\n",
    "* Many open challenges and new problems!\n",
    "* Less developed: counterfactual and interactive methods\n",
    "* We need incremental CP-solvers!\n",
    "\n",
    "\n"
   ]
  },
  {
   "cell_type": "markdown",
   "metadata": {
    "slideshow": {
     "slide_type": "slide"
    }
   },
   "source": [
    "# Want to learn more?\n",
    "\n",
    "<img src=\"img/qr-code.png\" align=\"right\" width=\"30%\" style=\"margin-top:20px\">\n",
    "\n",
    "Tutorial as notebook available at https://github.com/CPMpy/XCP-explain\n",
    "\n",
    "\n",
    "(PS. Hiring a post-doc, tell your colleagues to contact me...)\n"
   ]
  },
  {
   "cell_type": "markdown",
   "metadata": {
    "slideshow": {
     "slide_type": "slide"
    }
   },
   "source": [
    "### References mentioned (many more exist!!!)\n",
    "\n",
    "<small>\n",
    "    \n",
    "##### MUS\n",
    "* Liffiton, M. H., & Sakallah, K. A. (2008). Algorithms for computing minimal unsatisfiable subsets of constraints. Journal of Automated Reasoning, 40, 1-33.\n",
    "\n",
    "* Ignatiev, A., Previti, A., Liffiton, M., & Marques-Silva, J. (2015, August). Smallest MUS extraction with minimal hitting set dualization. In International Conference on Principles and Practice of Constraint Programming (pp. 173-182). Cham: Springer International Publishing.\n",
    "\n",
    "* Joao Marques-Silva. Minimal Unsatisfiability: Models, Algorithms and Applications. ISMVL 2010. pp. 9-14\n",
    "\n",
    "##### Feasibility restoration\n",
    "\n",
    "* Senthooran, I., Klapperstueck, M., Belov, G., Czauderna, T., Leo, K., Wallace, M., ... & De La Banda, M. G. (2021). Human-centred feasibility restoration. In 27th International Conference on Principles and Practice of Constraint Programming (CP 2021). Schloss Dagstuhl-Leibniz-Zentrum für Informatik.\n",
    "\n",
    "##### Explaining optimization problems\n",
    "* Korikov, A., & Beck, J. C. (2021). Counterfactual explanations via inverse constraint programming. In 27th International Conference on Principles and Practice of Constraint Programming (CP 2021). Schloss Dagstuhl-Leibniz-Zentrum für Informatik.\n",
    "\n",
    "##### Explanation in planning, ASP,  KR\n",
    "* Eifler, Rebecca, Michael Cashmore, Jörg Hoffmann, Daniele Magazzeni, and Marcel Steinmetz. \"A new approach to plan-space explanation: Analyzing plan-property dependencies in oversubscription planning.\" In Proceedings of the AAAI Conference on Artificial Intelligence, vol. 34, no. 06, pp. 9818-9826. 2020.\n",
    "* Chakraborti, Tathagata, Sarath Sreedharan, Yu Zhang, and Subbarao Kambhampati. \"Plan explanations as model reconciliation: moving beyond explanation as soliloquy.\" In Proceedings of the 26th International Joint Conference on Artificial Intelligence, pp. 156-163. 2017.\n",
    "* Fandinno, Jorge, and Claudia Schulz. \"Answering the “why” in answer set programming–A survey of explanation approaches.\" Theory and Practice of Logic Programming 19, no. 2 (2019): 114-203.\n",
    "* Swartout, William, Cecile Paris, and Johanna Moore. \"Explanations in knowledge systems: Design for explainable expert systems.\" IEEE Expert 6, no. 3 (1991): 58-64.\n",
    "* Kalyanpur, Aditya, Bijan Parsia, Evren Sirin, and Bernardo Cuenca-Grau. \"Repairing unsatisfiable concepts in OWL ontologies.\" In The Semantic Web: Research and Applications: 3rd European Semantic Web Conference, ESWC 2006 Budva, Montenegro, June 11-14, 2006 Proceedings 3, pp. 170-184. Springer Berlin Heidelberg, 2006.\n",
    "\n",
    "#### Formal explantions in ML\n",
    "* Ignatiev, Alexey, Nina Narodytska, and Joao Marques-Silva. \"Abduction-based explanations for machine learning models.\" In Proceedings of the AAAI Conference on Artificial Intelligence, vol. 33, no. 01, pp. 1511-1519. 2019.\n",
    "\n",
    "</small>"
   ]
  }
 ],
 "metadata": {
  "celltoolbar": "Slideshow",
  "kernelspec": {
   "display_name": "Python 3",
   "language": "python",
   "name": "python3"
  },
  "language_info": {
   "codemirror_mode": {
    "name": "ipython",
    "version": 3
   },
   "file_extension": ".py",
   "mimetype": "text/x-python",
   "name": "python",
   "nbconvert_exporter": "python",
   "pygments_lexer": "ipython3",
   "version": "3.9.2"
  },
  "rise": {
   "transition": "none"
  },
  "varInspector": {
   "cols": {
    "lenName": 16,
    "lenType": 16,
    "lenVar": 40
   },
   "kernels_config": {
    "python": {
     "delete_cmd_postfix": "",
     "delete_cmd_prefix": "del ",
     "library": "var_list.py",
     "varRefreshCmd": "print(var_dic_list())"
    },
    "r": {
     "delete_cmd_postfix": ") ",
     "delete_cmd_prefix": "rm(",
     "library": "var_list.r",
     "varRefreshCmd": "cat(var_dic_list()) "
    }
   },
   "types_to_exclude": [
    "module",
    "function",
    "builtin_function_or_method",
    "instance",
    "_Feature"
   ],
   "window_display": false
  }
 },
 "nbformat": 4,
 "nbformat_minor": 4
}
