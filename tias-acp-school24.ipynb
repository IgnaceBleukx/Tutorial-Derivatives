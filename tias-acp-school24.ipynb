{
 "cells": [
  {
   "cell_type": "code",
   "execution_count": null,
   "metadata": {
    "pycharm": {
     "name": "#%%\n"
    },
    "slideshow": {
     "slide_type": "-"
    }
   },
   "outputs": [],
   "source": [
    " %load_ext autoreload\n",
    "%autoreload 2\n",
    "\"\"\"\n",
    "    Some imports used throughout the notebook\n",
    "\"\"\"\n",
    "import time\n",
    "\n",
    "from visualize import *\n",
    "\n",
    "import cpmpy\n",
    "from cpmpy.transformations.normalize import toplevel_list\n",
    "from factory import *\n",
    "from read_data import get_data\n",
    "from cpmpy.tools.explain import mus\n",
    "\n",
    "import numpy as np\n",
    "np.set_printoptions(linewidth=90)\n",
    "# preload solvers\n",
    "from cpmpy import SolverLookup\n",
    "names = SolverLookup.solvernames()\n",
    "\n",
    "import networkx as nx\n",
    "import re\n",
    "draw = lambda g,**kwargs : nx.draw_circular(g, width=5, node_size=500,**kwargs)\n",
    "cmap = [\"black\", \"yellow\", \"cyan\", \"lightgreen\", \"blue\"]\n",
    "\n",
    "def pinpoint_to_constraints(G, model):\n",
    "    #assert model.solve()\n",
    "    draw_conflict(G, mus(m.constraints))\n",
    "\n",
    "def graph_coloring(G, max_colors=None):\n",
    "    n = G.number_of_nodes()\n",
    "    if max_colors is None:\n",
    "        max_colors = n\n",
    "    \n",
    "    m = cp.Model()\n",
    "    # worst case: give each node a different color\n",
    "    nodes = cp.intvar(1, max_colors, shape=n, name=\"Node\")\n",
    "    # constrain edges to have differently colored nodes\n",
    "    m += [nodes[n1] != nodes[n2] for n1, n2 in G.edges()]\n",
    "    m.minimize(cp.max(nodes))\n",
    "    \n",
    "    return m, nodes\n",
    "\n",
    "def graph_highlight(graph, cons, **kwargs):\n",
    "    edges = []\n",
    "    for c in cons:\n",
    "        n1, n2 = c.args\n",
    "        if n1.name == \"max\": continue\n",
    "        a = int(re.search(\"\\[[0-9]*\\]\", str(n1)).group()[1:-1])\n",
    "        b = int(re.search(\"\\[[0-9]*\\]\", str(n2)).group()[1:-1])\n",
    "        edges.append((a,b))\n",
    "        \n",
    "    colors = [\"red\" if (a,b) in edges else \"black\" for (a,b) in graph.edges()]       \n",
    "    return draw(graph, edge_color=colors, **kwargs)\n",
    "\n",
    "def get_avg_outputlits(seq):\n",
    "    lits = sum(len(out.literals()) for _,_,out in seq[:-1])\n",
    "    return lits / (len(seq)-1)\n",
    "\n",
    "def get_avg_stepsize(seq):\n",
    "    return sum(len(s) for _,s,_ in seq) / len(seq)"
   ]
  },
  {
   "cell_type": "markdown",
   "metadata": {
    "pycharm": {
     "name": "#%% md\n"
    },
    "slideshow": {
     "slide_type": "slide"
    }
   },
   "source": [
    "## Explanation techniques for CP\n",
    "### Prof. Tias Guns, KU Leuven, Belgium\n",
    "#### In collaboration with Ignace Bleukx, Emilio Gamba, Bart Bogaerts, Jo Devriendt, Dimos Tsouros\n",
    "\n",
    "<p>&nbsp;</p>\n",
    "\n",
    "<table><tr style=\"background: white;\">\n",
    "    <td>&nbsp;</td>\n",
    "    <td style=\"text-align: center; vertical-align: middle;\"><img src=\"img/kul.jpg\" width=40%></td>\n",
    "    <td style=\"text-align: center; vertical-align: middle;\"><img src=\"img/erc.jpg\" width=45%></td>\n",
    "</tr></table>\n",
    "\n",
    "<!-- Thanks to Bart Bogaerts, Emilio Gamba and Jo Devriendt -->"
   ]
  },
  {
   "cell_type": "markdown",
   "metadata": {
    "pycharm": {
     "name": "#%% md\n"
    },
    "slideshow": {
     "slide_type": "fragment"
    }
   },
   "source": [
    "\n",
    "<small>This presentation is an executable Jupyter notebook</small>\n",
    "\n",
    "Link to slides and more examples: https://github.com/CPMpy/XCP-explain"
   ]
  },
  {
   "cell_type": "markdown",
   "metadata": {
    "slideshow": {
     "slide_type": "skip"
    }
   },
   "source": [
    "## AI and Constraint Solving\n",
    "\n",
    "<center><img src=\"img/intro_ai.png\" width=\"65%\" align=\"center\" style=\"margin-top:10px\"></center>"
   ]
  },
  {
   "cell_type": "markdown",
   "metadata": {
    "slideshow": {
     "slide_type": "slide"
    }
   },
   "source": [
    "\n",
    "## Constraint Solving\n",
    "\n",
    "<img src=\"img/solutions_vizual.png\" width=\"45%\" align=\"right\" style=\"margin-top:100px\">\n",
    "\n",
    "Solving combinatorial optimization problems in AI\n",
    "\n",
    "- Vehicle Routing\n",
    "\n",
    "- Scheduling\n",
    "\n",
    "- Manufacturing\n",
    "\n",
    "- Other combinatorial problems ..."
   ]
  },
  {
   "cell_type": "markdown",
   "metadata": {
    "pycharm": {
     "name": "#%% md\n"
    },
    "slideshow": {
     "slide_type": "slide"
    }
   },
   "source": [
    "## Model + Solve\n",
    "\n",
    "<center><img src=\"img/model_solve.png\" width=70%></center>"
   ]
  },
  {
   "cell_type": "markdown",
   "metadata": {
    "slideshow": {
     "slide_type": "-"
    }
   },
   "source": [
    "- Reason over the constraints to find a solution\n",
    "- Find the optimal solution according to the objective \n",
    "    - (maximize gain or minimize penalty)"
   ]
  },
  {
   "cell_type": "markdown",
   "metadata": {
    "slideshow": {
     "slide_type": "slide"
    }
   },
   "source": [
    "## What happens after Model + Solve?\n",
    "\n",
    "<center><img src=\"img/model_solve.png\" width=70%></center>\n",
    "\n",
    "- What if no solution?\n",
    "- What if user does not _like_ the solution?\n",
    "- What if the user _expected_ a different solution?\n",
    "- ...\n",
    "\n",
    "Need for **explanations**"
   ]
  },
  {
   "cell_type": "markdown",
   "metadata": {
    "pycharm": {
     "name": "#%% md\n"
    },
    "slideshow": {
     "slide_type": "slide"
    }
   },
   "source": [
    "## Explainable Constraint Programming (XCP)\n",
    "\n",
    "In general, \"**Why X?**\" &nbsp;&nbsp;&nbsp;&nbsp;&nbsp;&nbsp; (with X a solution or UNSAT)\n",
    "\n",
    "<img src=\"img/interaction_figure4.png\" width=30% align=\"right\">\n",
    "\n",
    "- **Deductive explanation:**\n",
    "  - _What causes X?_\n",
    "- **Counterfactual explanation**:\n",
    "  - _What if I want Y instead of X?_\n",
    "\n",
    "\n",
    "<!-- Can be combined in interactive systems:\n",
    "  - _Iteratively refine explanation & model_ -->"
   ]
  },
  {
   "cell_type": "markdown",
   "metadata": {
    "slideshow": {
     "slide_type": "slide"
    }
   },
   "source": [
    "# Example XCP interaction\n",
    "\n",
    "Toy example, graph coloring:\n",
    "\n",
    "color each node such that no adjacent nodes have the same color"
   ]
  },
  {
   "cell_type": "code",
   "execution_count": null,
   "metadata": {},
   "outputs": [],
   "source": [
    "G = nx.fast_gnp_random_graph(5, 0.8, seed=0)\n",
    "draw(G)"
   ]
  },
  {
   "cell_type": "markdown",
   "metadata": {
    "slideshow": {
     "slide_type": "slide"
    }
   },
   "source": [
    "# Example XCP interaction\n",
    "\n",
    "## Lets color this graph..."
   ]
  },
  {
   "cell_type": "code",
   "execution_count": null,
   "metadata": {
    "slideshow": {
     "slide_type": "fragment"
    }
   },
   "outputs": [],
   "source": [
    "m, nodes = graph_coloring(G, max_colors=None)\n",
    "if m.solve():\n",
    "    print(m.status())\n",
    "    print(f\"Found optimal coloring with {m.objective_value()} colors\")\n",
    "    draw(G, node_color=[cmap[n.value()] for n in nodes])\n",
    "else:\n",
    "    print(\"No solution found.\")"
   ]
  },
  {
   "cell_type": "markdown",
   "metadata": {
    "slideshow": {
     "slide_type": "slide"
    }
   },
   "source": [
    "# Example XCP interaction\n",
    "\n",
    "## Lets color this graph..."
   ]
  },
  {
   "cell_type": "code",
   "execution_count": null,
   "metadata": {
    "slideshow": {
     "slide_type": "fragment"
    }
   },
   "outputs": [],
   "source": [
    "draw(G, node_color=[cmap[n.value()] for n in nodes])"
   ]
  },
  {
   "cell_type": "markdown",
   "metadata": {
    "slideshow": {
     "slide_type": "fragment"
    }
   },
   "source": [
    "<img src=\"img/why.png\" width=\"15%\" align=\"left\" style=\"margin-top:-40px; margin-right:50px; margin-left: 300px\">\n",
    "yes... but why do we need 4? "
   ]
  },
  {
   "cell_type": "markdown",
   "metadata": {
    "slideshow": {
     "slide_type": "slide"
    }
   },
   "source": [
    "# Example XCP interaction\n",
    "\n",
    "## _Why_ do we need 4 colors?\n",
    "\n",
    "Deductive explanation: pinpoint to constraints _causing_ this fact"
   ]
  },
  {
   "cell_type": "code",
   "execution_count": null,
   "metadata": {
    "slideshow": {
     "slide_type": "fragment"
    }
   },
   "outputs": [],
   "source": [
    "m, nodes = graph_coloring(G, max_colors=3) # less than 4?\n",
    "if not m.solve():\n",
    "    conflict = cpmpy.tools.explain.mus(m.constraints)  # Minimal Unsatisfiable Subset\n",
    "    print(\"UNSAT is caused by the following constraints:\")\n",
    "    graph_highlight(G, conflict)"
   ]
  },
  {
   "cell_type": "markdown",
   "metadata": {
    "slideshow": {
     "slide_type": "slide"
    }
   },
   "source": [
    "# Example XCP interaction\n",
    "\n",
    "## _Why_ do we need 4 colors?\n",
    "\n",
    "Counterfactual explanation: pinpoint to constraint *changes* that would allow, e.g. 3 colors"
   ]
  },
  {
   "cell_type": "code",
   "execution_count": null,
   "metadata": {
    "slideshow": {
     "slide_type": "fragment"
    }
   },
   "outputs": [],
   "source": [
    "m, nodes = graph_coloring(G, max_colors=3) # less than 4?\n",
    "if not m.solve():    \n",
    "    corr = cpmpy.tools.explain.mcs(m.constraints)  # Minimal Correction Subset\n",
    "    print(\"UNSAT can be resolved by removing the following constraints:\")\n",
    "    graph_highlight(G, corr)"
   ]
  },
  {
   "cell_type": "code",
   "execution_count": null,
   "metadata": {
    "slideshow": {
     "slide_type": "fragment"
    }
   },
   "outputs": [],
   "source": [
    "# compute and visualise counter-factual solution\n",
    "m2 = cp.Model([c for c in m.constraints if c not in corr])\n",
    "m2.solve()\n",
    "graph_highlight(G, corr, node_color=[cmap[n.value()] for n in nodes])"
   ]
  },
  {
   "cell_type": "markdown",
   "metadata": {
    "slideshow": {
     "slide_type": "slide"
    }
   },
   "source": [
    "# Explanation techniques in the wild\n",
    "\n",
    "<center><img src=\"img/app_explanations.png\"  style=\"max-width: 80%;\"></center>"
   ]
  },
  {
   "cell_type": "markdown",
   "metadata": {
    "slideshow": {
     "slide_type": "slide"
    }
   },
   "source": [
    "## CPMpy: http://cpmpy.readthedocs.io\n",
    "\n",
    "We will use the CPMpy modeling library in Python for this presentation\n",
    "\n",
    "<center><img src=\"img/cpmpy-intro.png\" style=\"max-width: 70%;\" /></center>\n"
   ]
  },
  {
   "cell_type": "markdown",
   "metadata": {
    "pycharm": {
     "name": "#%% md\n"
    },
    "slideshow": {
     "slide_type": "skip"
    }
   },
   "source": [
    "## Running example in this talk: Nurse Scheduling\n",
    "\n",
    "* The assignment of _shifts_ and _holidays_ to nurses.\n",
    "* Each nurse has their own restrictions and preferences,\n",
    "    as does the hospital."
   ]
  },
  {
   "cell_type": "markdown",
   "metadata": {
    "pycharm": {
     "name": "#%% md\n"
    },
    "slideshow": {
     "slide_type": "skip"
    }
   },
   "source": [
    "### hospital constraints:\n",
    "\n",
    "<img src=\"img/nurse_rost_prob.jpg\" align=\"right\">\n",
    "\n",
    "* nb of shifts required on each day\n",
    "* max nb of shifts per nurse\n",
    "* max nb of weekend shifts\n",
    "* min/max consecutive shifts\n",
    "\n",
    "### nurse constraints / preferences:\n",
    "\n",
    "* specific days off-duty\n",
    "* specific shift requests (on/off)"
   ]
  },
  {
   "cell_type": "markdown",
   "metadata": {
    "pycharm": {
     "name": "#%% md\n"
    },
    "slideshow": {
     "slide_type": "slide"
    }
   },
   "source": [
    "## Running example in this talk: Nurse Scheduling\n",
    "\n",
    "* The assignment of _shifts_ and _holidays_ to nurses.\n",
    "* Each nurse has their own restrictions and preferences,\n",
    "    as does the hospital."
   ]
  },
  {
   "cell_type": "code",
   "execution_count": null,
   "metadata": {
    "slideshow": {
     "slide_type": "skip"
    }
   },
   "outputs": [],
   "source": [
    "instance = \"Benchmarks/Instance1.txt\"  # \"http://www.schedulingbenchmarks.org/nrp/data/Instance1.txt\"\n",
    "data = get_data(instance)"
   ]
  },
  {
   "cell_type": "markdown",
   "metadata": {
    "pycharm": {
     "name": "#%% md\n"
    },
    "slideshow": {
     "slide_type": "skip"
    }
   },
   "source": [
    "## Nurse Rostering: data\n",
    "\n",
    "Instances from http://www.schedulingbenchmarks.org/\n",
    "\n",
    "\"benchmark test instances from various sources including industrial collaborators and scientific publications.\"\n",
    "\n",
    "<!-- 7 types of hospital constraints, 2 types of nurse constraints -->"
   ]
  },
  {
   "cell_type": "code",
   "execution_count": null,
   "metadata": {
    "pycharm": {
     "name": "#%%\n"
    },
    "slideshow": {
     "slide_type": "-"
    }
   },
   "outputs": [],
   "source": [
    "#instance = \"http://www.schedulingbenchmarks.org/nrp/data/Instance1.txt\"\n",
    "instance = \"Benchmarks/Instance1.txt\"\n",
    "data = get_data(instance)\n",
    "\n",
    "factory = NurseSchedulingFactory(data)\n",
    "model, nurse_view = factory.get_full_model()  # CPMpy model with all constraints\n",
    "\n",
    "model.solve() \n",
    "visualize(nurse_view.value(), factory)  # live decorated dataframe"
   ]
  },
  {
   "cell_type": "code",
   "execution_count": null,
   "metadata": {
    "pycharm": {
     "name": "#%%\n"
    },
    "slideshow": {
     "slide_type": "skip"
    }
   },
   "outputs": [],
   "source": [
    "print(\"Nr of days to schedule:\", data.horizon)\n",
    "print(\"Nr of shift types:\", len(data.shifts))\n",
    "\n",
    "pd.merge(data.days_off, data.staff[[\"# ID\",\"name\"]], left_on=\"EmployeeID\", right_on=\"# ID\", how=\"left\")"
   ]
  },
  {
   "cell_type": "markdown",
   "metadata": {
    "slideshow": {
     "slide_type": "slide"
    }
   },
   "source": [
    "# Outline of the talk\n",
    "\n",
    "## Part 1: Deductive explanations (What causes X?)\n",
    "\n",
    "* UNSAT: minimal unsatisfiable subsets &#9194;\n",
    "  - efficient MUSes\n",
    "  - preferred MUSes\n",
    "* SAT: explaining logical consequences\n",
    "* OPT: explaining that no better solution exists\n",
    "\n",
    "## Part 2: Counterfactual explanation (What if Y instead of X?)\n",
    "\n",
    "* UNSAT: minimum correction subsets\n",
    "* UNSAT: corrective actions\n",
    "* SAT: checking a foil\n",
    "* OPT: correcting the objective function\n",
    "    "
   ]
  },
  {
   "cell_type": "markdown",
   "metadata": {
    "slideshow": {
     "slide_type": "slide"
    }
   },
   "source": [
    "## Deductive Explanations for UNSAT problems"
   ]
  },
  {
   "cell_type": "code",
   "execution_count": null,
   "metadata": {
    "pycharm": {
     "name": "#%%\n"
    },
    "slideshow": {
     "slide_type": "fragment"
    }
   },
   "outputs": [],
   "source": [
    "# decision model, add all nurse preferences as hard constraints\n",
    "factory = NurseSchedulingFactory(data)\n",
    "model, nurse_view = factory.get_decision_model()\n",
    "model.solve()"
   ]
  },
  {
   "cell_type": "markdown",
   "metadata": {
    "pycharm": {
     "name": "#%% md\n"
    },
    "slideshow": {
     "slide_type": "fragment"
    }
   },
   "source": [
    "... no solution found"
   ]
  },
  {
   "cell_type": "code",
   "execution_count": null,
   "metadata": {
    "pycharm": {
     "name": "#%%\n"
    },
    "slideshow": {
     "slide_type": "fragment"
    }
   },
   "outputs": [],
   "source": [
    "constraints = toplevel_list(model.constraints, merge_and=False) # normalization for later\n",
    "print(f\"Model has {len(constraints)} constraints:\")\n",
    "for cons in constraints: print(\"-\", cons)"
   ]
  },
  {
   "cell_type": "markdown",
   "metadata": {
    "pycharm": {
     "name": "#%% md\n"
    },
    "slideshow": {
     "slide_type": "skip"
    }
   },
   "source": [
    "## Converting to Decision model\n",
    "\n",
    "\n",
    "<img src=\"img/explain_unsat.png\" width=\"15%\" align=\"left\" style=\"margin:50px;\">\n",
    "\n",
    "* Model nurse rostering problem as decision problem <br>\n",
    "    (no objective)\n",
    "        \n",
    "* Nurse **preferences** are also hard constraints"
   ]
  },
  {
   "cell_type": "markdown",
   "metadata": {
    "slideshow": {
     "slide_type": "slide"
    }
   },
   "source": [
    "## Deductive Explanations for UNSAT problems\n",
    "\n",
    "The set of all constraints is unsatisfiable.\n",
    "\n",
    "<img src=\"img/allcons.png\" width=\"20%\" float=\"right\" style=\"margin:50px;\">\n"
   ]
  },
  {
   "cell_type": "markdown",
   "metadata": {
    "slideshow": {
     "slide_type": "fragment"
    }
   },
   "source": [
    "But do all constraints contribute to this?"
   ]
  },
  {
   "cell_type": "markdown",
   "metadata": {
    "pycharm": {
     "name": "#%% md\n"
    },
    "slideshow": {
     "slide_type": "slide"
    }
   },
   "source": [
    "## Deductive Explanations for UNSAT problems\n",
    "\n",
    "### Minimal Unsatisfiable Subset (MUS)\n",
    "\n",
    "<img src=\"img/mus.png\" width=\"20%\" align=\"left\" style=\"margin:50px;\">\n",
    "\n",
    "Pinpoint to constraints causing a conflict\n",
    "\n",
    "... trim model to minimal set of constraints\n",
    "\n",
    "... minimize cognitive burden for user\n"
   ]
  },
  {
   "cell_type": "markdown",
   "metadata": {
    "pycharm": {
     "name": "#%% md\n"
    },
    "slideshow": {
     "slide_type": "slide"
    }
   },
   "source": [
    "### How to compute a MUS?\n",
    "\n",
    "Deletion-based MUS algorithm\n",
    "\n",
    "_[Joao Marques-Silva. Minimal Unsatisfiability: Models, Algorithms and Applications. ISMVL 2010. pp. 9-14]_"
   ]
  },
  {
   "cell_type": "code",
   "execution_count": null,
   "metadata": {
    "pycharm": {
     "name": "#%%\n"
    },
    "slideshow": {
     "slide_type": "fragment"
    }
   },
   "outputs": [],
   "source": [
    "def mus_naive(constraints):\n",
    "    m = cp.Model(constraints)\n",
    "    assert m.solve() is False, \"Model should be UNSAT\"\n",
    "    \n",
    "    core = constraints\n",
    "    i = 0\n",
    "    while i < len(core):\n",
    "        subcore = core[:i] + core[i+1:]  # try all but constraint 'i'\n",
    "        if cp.Model(subcore).solve() is True:\n",
    "            i += 1  # removing 'i' makes it SAT, need to keep for UNSAT\n",
    "        else:\n",
    "            core = subcore #  can safely delete 'i'\n",
    "    return core"
   ]
  },
  {
   "cell_type": "markdown",
   "metadata": {
    "slideshow": {
     "slide_type": "slide"
    }
   },
   "source": [
    "### How to compute a MUS, <u>efficiently</u>?"
   ]
  },
  {
   "cell_type": "code",
   "execution_count": null,
   "metadata": {
    "slideshow": {
     "slide_type": "fragment"
    }
   },
   "outputs": [],
   "source": [
    "t0 = time.time()\n",
    "core = mus_naive(model.constraints)\n",
    "print(f\"Naive MUS took {time.time()-t0} seconds\")"
   ]
  },
  {
   "cell_type": "code",
   "execution_count": null,
   "metadata": {
    "scrolled": true,
    "slideshow": {
     "slide_type": "fragment"
    }
   },
   "outputs": [],
   "source": [
    "t0 = time.time()\n",
    "core = cpmpy.tools.explain.mus(model.constraints)\n",
    "print(f\"Assumption-based MUS took {time.time()-t0} seconds\")"
   ]
  },
  {
   "cell_type": "markdown",
   "metadata": {
    "slideshow": {
     "slide_type": "slide"
    }
   },
   "source": [
    "### How to compute a MUS, <u>efficiently</u>?\n",
    "\n"
   ]
  },
  {
   "cell_type": "code",
   "execution_count": null,
   "metadata": {
    "slideshow": {
     "slide_type": "fragment"
    }
   },
   "outputs": [],
   "source": [
    "def mus_assum(constraints, solver=\"ortools\"):\n",
    "    # add indicator variable per constraint\n",
    "    constraints = toplevel_list(constraints, merge_and=False)\n",
    "    assump = cp.boolvar(shape=len(constraints), name=\"assump\")  # Boolean indicators\n",
    "    m = cp.Model(assump.implies(constraints))  # [assump[i] -> constraints[i] for all i]\n",
    "    \n",
    "    s = cp.SolverLookup.get(solver, model)\n",
    "    assert s.solve(assumptions=assump) is False, \"Model should be UNSAT\"\n",
    "\n",
    "    core = s.get_core()  # start from solver's UNSAT core\n",
    "    i = 0\n",
    "    while i < len(core):\n",
    "        subcore = core[:i] + core[i+1:]  # try all but constraint 'i'\n",
    "        if s.solve(assumptions=subcore) is True:\n",
    "            i += 1  # removing 'i' makes it SAT, need to keep for UNSAT\n",
    "        else:\n",
    "            core = subcore\n",
    "    return core"
   ]
  },
  {
   "cell_type": "markdown",
   "metadata": {
    "slideshow": {
     "slide_type": "slide"
    }
   },
   "source": [
    "### How to compute a MUS, <u>efficiently</u>?\n",
    "\n",
    "<center><img src=\"img/mus_assum.png\" style=\"max-width: 85%;\" /></center>"
   ]
  },
  {
   "cell_type": "markdown",
   "metadata": {
    "slideshow": {
     "slide_type": "slide"
    }
   },
   "source": [
    "## Deepdive: incremental CDCL solving with assumption variables 1/4\n",
    "\n",
    "<center><img src=\"img/slide_cdcl1.png\" style=\"max-width: 85%;\" /></center>"
   ]
  },
  {
   "cell_type": "markdown",
   "metadata": {
    "slideshow": {
     "slide_type": "slide"
    }
   },
   "source": [
    "## Deepdive: incremental CDCL solving with assumption variables 2/4\n",
    "\n",
    "<center><img src=\"img/slide_cdcl2.png\" style=\"max-width: 85%;\" /></center>"
   ]
  },
  {
   "cell_type": "markdown",
   "metadata": {
    "slideshow": {
     "slide_type": "slide"
    }
   },
   "source": [
    "## Deepdive: incremental CDCL solving with assumption variables 3/4\n",
    "\n",
    "<center><img src=\"img/slide_cdcl3.png\" style=\"max-width: 85%;\" /></center>"
   ]
  },
  {
   "cell_type": "markdown",
   "metadata": {
    "slideshow": {
     "slide_type": "slide"
    }
   },
   "source": [
    "## Deepdive: incremental CDCL solving with assumption variables 4/4\n",
    "\n",
    "<center><img src=\"img/slide_cdcl4.png\" style=\"max-width: 85%;\" /></center>"
   ]
  },
  {
   "cell_type": "markdown",
   "metadata": {
    "slideshow": {
     "slide_type": "slide"
    }
   },
   "source": [
    "### How to compute a MUS, <u>efficiently</u>? (recap after deepdive)\n",
    "\n",
    "<center><img src=\"img/mus_assum.png\" style=\"max-width: 85%;\" /></center>"
   ]
  },
  {
   "cell_type": "markdown",
   "metadata": {
    "slideshow": {
     "slide_type": "slide"
    }
   },
   "source": [
    "### How to compute a MUS, <u>efficiently</u>?\n",
    "\n",
    "Assumption-based incremental solving only for Boolean SAT problems?"
   ]
  },
  {
   "cell_type": "markdown",
   "metadata": {
    "slideshow": {
     "slide_type": "fragment"
    }
   },
   "source": [
    "<b>No!</b>\n",
    "\n",
    "* CP solvers: <i>Lazy Clause Generation</i> (e.g. OrTools)\n",
    "* Pseudo-Boolean solvers: <i>Conflict-Driven Cutting Plane Learning</i> (e.g. Exact)\n",
    "* SMT solvers: <i>SAT Module Theories with CDCL</i> (e.g. Z3)\n",
    "* MaxSAT solvers: <i>Core-guided solvers</i>"
   ]
  },
  {
   "cell_type": "markdown",
   "metadata": {
    "slideshow": {
     "slide_type": "slide"
    }
   },
   "source": [
    "## Deductive Explanations for UNSAT problems\n",
    "\n",
    "A MUS is a deductive explanation of UNSAT:\n",
    "\n",
    "these constraints minimally entail failure\n"
   ]
  },
  {
   "cell_type": "code",
   "execution_count": null,
   "metadata": {
    "pycharm": {
     "name": "#%%\n"
    },
    "scrolled": false,
    "slideshow": {
     "slide_type": "fragment"
    }
   },
   "outputs": [],
   "source": [
    "subset = cpmpy.tools.explain.mus(model.constraints)\n",
    "print(\"Length of MUS:\", len(subset))\n",
    "for cons in subset: print(\"-\", cons)"
   ]
  },
  {
   "cell_type": "code",
   "execution_count": null,
   "metadata": {
    "pycharm": {
     "name": "#%%\n"
    },
    "slideshow": {
     "slide_type": "subslide"
    }
   },
   "outputs": [],
   "source": [
    "visualize_constraints(subset, nurse_view, factory)"
   ]
  },
  {
   "cell_type": "markdown",
   "metadata": {
    "pycharm": {
     "name": "#%%\n"
    },
    "slideshow": {
     "slide_type": "slide"
    }
   },
   "source": [
    "### Many MUS'es may exist...\n",
    "\n",
    "_Liffiton, M.H., & Malik, A. (2013). Enumerating infeasibility: Finding multiple MUSes quickly. In\n",
    "Proceedings of the 10th International Conference on Integration of AI and OR Techniques in Constraint\n",
    "    Programming (CPAIOR 2013) (pp. 160–175)_"
   ]
  },
  {
   "cell_type": "code",
   "execution_count": null,
   "metadata": {
    "pycharm": {
     "name": "#%%\n"
    },
    "slideshow": {
     "slide_type": "-"
    }
   },
   "outputs": [],
   "source": [
    "# MARCO MUS/MSS enumeration\n",
    "from explanations.marco_mcs_mus import do_marco\n",
    "solver = \"ortools\"  # default solver\n",
    "if \"exact\" in cp.SolverLookup.solvernames(): solver = \"exact\"  # fast for increment solving\n",
    "    \n",
    "t0 = time.time()\n",
    "cnt = 0\n",
    "for (kind, sset) in do_marco(model, solver=solver):\n",
    "    if kind == \"MUS\":\n",
    "        print(\"M\", end=\"\")\n",
    "        cnt += 1\n",
    "    else: print(\".\", end=\"\") # MSS\n",
    "    \n",
    "    if time.time() - t0 > 15:  break  # for this presentation: break after 15s\n",
    "print(f\"\\nFound {cnt} MUSes in\", time.time() - t0)\n",
    " "
   ]
  },
  {
   "cell_type": "markdown",
   "metadata": {
    "pycharm": {
     "name": "#%%\n"
    },
    "slideshow": {
     "slide_type": "slide"
    }
   },
   "source": [
    "### Many MUS'es may exist...\n",
    "\n",
    "<img src=\"img/musses.png\" width=\"40%\" align=\"left\" style=\"margin-left:50px; margin-right:50px\">\n",
    "\n",
    "This problem has just 168 constraints, yet 100.000+ MUSes exist...\n",
    "\n",
    "Which one to show? \n",
    "\n",
    "In explanations less is more, so lets find the **smallest one directly!**"
   ]
  },
  {
   "cell_type": "markdown",
   "metadata": {
    "slideshow": {
     "slide_type": "slide"
    }
   },
   "source": [
    "## Influencing which MUS is found?\n",
    "\n",
    "<b>QuickXPlain algorithm</b> <i>(Junker, 2004)</i>.\n",
    "Widely used, in model-based diagnosis, recommender systems, verification, and more.\n",
    "\n",
    "Divide-and-conquer given a lexicographic order over the constraints:\n",
    "\n",
    "\n",
    "<center><img src=\"img/quickxplain.png\" style=\"max-width: 70%;\" /></center>"
   ]
  },
  {
   "cell_type": "markdown",
   "metadata": {
    "slideshow": {
     "slide_type": "slide"
    }
   },
   "source": [
    "## Influencing which MUS is found?\n",
    "\n",
    "<b>QuickXPlain algorithm</b> <i>(Junker, 2004)</i>.\n",
    "Widely used, in model-based diagnosis, recommender systems, verification, and more.\n",
    "\n",
    "Divide-and-conquer given a lexicographic order over the constraints"
   ]
  },
  {
   "cell_type": "code",
   "execution_count": null,
   "metadata": {
    "slideshow": {
     "slide_type": "skip"
    }
   },
   "outputs": [],
   "source": [
    "def define_order(cons):\n",
    "    if \"day off\" in str(cons):\n",
    "        return 100 # we do not want to mess with vacation days\n",
    "    return 10 # else\n",
    "\n",
    "constraints = toplevel_list(model.constraints, merge_and=False)\n",
    "constraints = sorted(constraints, key=define_order)\n",
    "\n",
    "# find core with quickXplain\n",
    "from cpmpy.tools.mus import quickxplain\n",
    "\n",
    "prefered_subset = quickxplain(constraints, solver=\"exact\")\n",
    "for cons in prefered_subset: print(\"-\",cons)"
   ]
  },
  {
   "cell_type": "code",
   "execution_count": null,
   "metadata": {
    "pycharm": {
     "name": "#%%\n"
    },
    "scrolled": false,
    "slideshow": {
     "slide_type": "-"
    }
   },
   "outputs": [],
   "source": [
    "subset = cpmpy.tools.explain.quickxplain(sorted(model.constraints, key=lambda c: -len(c)), solver=\"exact\")\n",
    "print(\"ordering '-len': Length of MUS:\", len(subset))\n",
    "subset = cpmpy.tools.explain.quickxplain(sorted(model.constraints, key=lambda c: len(c)), solver=\"exact\")\n",
    "print(\"ordering 'len': Length of MUS:\", len(subset))"
   ]
  },
  {
   "cell_type": "code",
   "execution_count": null,
   "metadata": {
    "pycharm": {
     "name": "#%%\n"
    },
    "slideshow": {
     "slide_type": "fragment"
    }
   },
   "outputs": [],
   "source": [
    "visualize_constraints(subset, nurse_view, factory)"
   ]
  },
  {
   "cell_type": "markdown",
   "metadata": {
    "slideshow": {
     "slide_type": "slide"
    }
   },
   "source": [
    "## Optimising which MUS is found?\n",
    "\n",
    "OUS: Optimal Unsatisfiable Subsets <i>(Gamba, Bogaerts, Guns, 2021)</i>. Every constraints has a weight.\n",
    "\n",
    "Implicit Hitting-Set Algorithm:\n",
    "\n",
    "1. If a subset is SAT, can <i>grow</i> it to a Maximal Satisfiable Subset (MSS)\n",
    "2. The complement of a MSS is a Minimum Correction Subset (MCS)\n",
    "3. Theorem: A MUS is a hitting set of the MCSes\n",
    "\n",
    "<table><tr>\n",
    "    <td width=10%>\n",
    "        <center><img width=60% src=\"img/mcs.png\" /></center>\n",
    "    </td> \n",
    "    <td width=10%>\n",
    "        <center><img width=60% src=\"img/hittingset.png\" /></center>\n",
    "    </td>\n",
    "</tr></table>"
   ]
  },
  {
   "cell_type": "markdown",
   "metadata": {
    "slideshow": {
     "slide_type": "slide"
    }
   },
   "source": [
    "## Optimising which MUS is found?\n",
    "\n",
    "OUS: Optimal Unsatisfiable Subsets <i>(Gamba, Bogaerts, Guns, 2021)</i>. Every constraints has a weight.\n",
    "\n",
    "1. Initialize sets-to-hit $\\mathcal{H}$ (e.g. insert set of all constraints)\n",
    "2. Find *optimal* hitting set $S$ and check if UNSAT\n",
    "3. If SAT: grow and take complement = MCS $K$, add to sets-to-hit $\\mathcal{H}$\n",
    "4. Repeat until UNSAT: optimal unsatisfiable subset $S$ found\n",
    "\n",
    "<center><img src=\"img/smus.png\" width=55% /></center>"
   ]
  },
  {
   "cell_type": "markdown",
   "metadata": {
    "slideshow": {
     "slide_type": "slide"
    }
   },
   "source": [
    "## <u>Efficiently</u> optimising which MUS is found?\n",
    "\n",
    "OUS: Optimal Unsatisfiable Subsets <i>(Gamba, Bogaerts, Guns, 2021)</i>. Every constraints has a weight.\n",
    "\n",
    "&nbsp;\n",
    "\n",
    "<center><img src=\"img/smus_efficient.png\" width=65%/></center>"
   ]
  },
  {
   "cell_type": "markdown",
   "metadata": {
    "slideshow": {
     "slide_type": "slide"
    }
   },
   "source": [
    "## Optimising which MUS is found?\n",
    "\n",
    "OUS: Optimal Unsatisfiable Subsets <i>(Gamba, Bogaerts, Guns, 2021)</i>. Every constraints has a weight."
   ]
  },
  {
   "cell_type": "code",
   "execution_count": null,
   "metadata": {
    "pycharm": {
     "name": "#%%\n"
    },
    "slideshow": {
     "slide_type": "-"
    }
   },
   "outputs": [],
   "source": [
    "from explanations.subset import omus  # not (yet) part of CPMpy\n",
    "\n",
    "small_subset = omus(model.constraints, weights=1, solver=\"exact\", hs_solver=\"ortools\")\n",
    "\n",
    "print(\"Length of OUS:\", len(small_subset))\n",
    "for cons in small_subset:  \n",
    "    print(\"-\", cons)"
   ]
  },
  {
   "cell_type": "code",
   "execution_count": null,
   "metadata": {
    "pycharm": {
     "name": "#%%\n"
    },
    "slideshow": {
     "slide_type": "-"
    }
   },
   "outputs": [],
   "source": [
    "visualize_constraints(small_subset, nurse_view, factory)"
   ]
  },
  {
   "cell_type": "markdown",
   "metadata": {
    "slideshow": {
     "slide_type": "slide"
    }
   },
   "source": [
    "# Outline of the talk\n",
    "\n",
    "## Part 1: Deductive explanations (What causes X?)\n",
    "\n",
    "* UNSAT: minimal unsatisfiable subsets\n",
    "  - efficient MUSes\n",
    "  - preferred MUSes\n",
    "* SAT: explaining logical consequences &#9194;\n",
    "* OPT: explaining that no better solution exists\n",
    "\n",
    "## Part 2: Counterfactual explanation (What if Y instead of X?)\n",
    "\n",
    "* UNSAT: minimum correction subsets\n",
    "* UNSAT: corrective actions\n",
    "* SAT: checking a foil\n",
    "* OPT: correcting the objective function\n",
    "    "
   ]
  },
  {
   "cell_type": "markdown",
   "metadata": {
    "slideshow": {
     "slide_type": "slide"
    }
   },
   "source": [
    "## Deductive Explanations for SAT problems\n",
    "\n",
    "### Explaining logical consequences\n",
    "\n",
    "<u>Logical consequence</u>: a variable assignment entailed by the constraints and the current partial assignment\n",
    "\n",
    "<u>Maximal consequence</u>: precision- maximal partial assignment\n",
    "\n",
    "* Maximal consequence = intersection of all possible solutions\n",
    "* If solution is unique, maximal consequence = unique solution"
   ]
  },
  {
   "cell_type": "markdown",
   "metadata": {
    "slideshow": {
     "slide_type": "skip"
    }
   },
   "source": [
    "### TODO: Simple algorithm of max-propagate? (not priority)"
   ]
  },
  {
   "cell_type": "markdown",
   "metadata": {
    "slideshow": {
     "slide_type": "slide"
    }
   },
   "source": [
    "## Deductive Explanations for SAT problems\n",
    "\n",
    "A framework for step-wise explaining how to solve constraint satisfaction problems <i>(Bogaerts, Gamba, Guns, 2021)</i>\n",
    "\n",
    "&nbsp;\n",
    "\n",
    "<center><img src=\"img/maxconsequence.png\" width=75%/></center>"
   ]
  },
  {
   "cell_type": "markdown",
   "metadata": {
    "slideshow": {
     "slide_type": "slide"
    }
   },
   "source": [
    "## Deductive Explanations for SAT problems\n",
    "\n",
    "A framework for step-wise explaining how to solve constraint satisfaction problems <i>(Bogaerts, Gamba, Guns, 2021)</i>\n",
    "\n",
    "&nbsp;\n",
    "\n",
    "<center><img src=\"img/stepwise.png\" /></center>"
   ]
  },
  {
   "cell_type": "markdown",
   "metadata": {
    "slideshow": {
     "slide_type": "slide"
    }
   },
   "source": [
    "## Deductive Explanations for SAT problems\n",
    "\n",
    "A framework for step-wise explaining how to solve constraint satisfaction problems <i>(Bogaerts, Gamba, Guns, 2021)</i>\n",
    "\n",
    "<table><tr style=\"background: white;\">\n",
    "    <td>&nbsp;</td>\n",
    "    <td style=\"text-align: center; vertical-align: middle;\"><img src=\"img/onestep_example.png\" width=90%></td>\n",
    "    <td style=\"text-align: center; vertical-align: middle;\"><img src=\"img/onestep_expl.png\" width=80%></td>\n",
    "</tr></table>"
   ]
  },
  {
   "cell_type": "markdown",
   "metadata": {
    "slideshow": {
     "slide_type": "slide"
    }
   },
   "source": [
    "## Deductive Explanations for SAT problems\n",
    "\n",
    "A framework for step-wise explaining how to solve constraint satisfaction problems <i>(Bogaerts, Gamba, Guns, 2021)</i>\n",
    "\n",
    "<center><img src=\"img/onestep_mus.png\" width=50%></center>"
   ]
  },
  {
   "cell_type": "markdown",
   "metadata": {
    "slideshow": {
     "slide_type": "slide"
    }
   },
   "source": [
    "## Deductive Explanations for SAT problems\n",
    "\n",
    "A framework for step-wise explaining how to solve constraint satisfaction problems <i>(Bogaerts, Gamba, Guns, 2021)</i>\n",
    "\n",
    "# TODO!! Help..."
   ]
  },
  {
   "cell_type": "code",
   "execution_count": null,
   "metadata": {
    "slideshow": {
     "slide_type": "-"
    }
   },
   "outputs": [],
   "source": [
    "# do CP propagate (the one of CPMpy main?) on nurse rostering satisfaction variant?\n",
    "# if it contains an assigned variable, take (one) of it and formulate as an OUS?\n",
    "# call OUS and display?\n",
    "# then again for another one? (optional)"
   ]
  },
  {
   "cell_type": "markdown",
   "metadata": {
    "slideshow": {
     "slide_type": "skip"
    }
   },
   "source": [
    "# Outline of the talk\n",
    "\n",
    "## Part 1: Deductive explanations (What causes X?)\n",
    "\n",
    "* UNSAT: unsatisfiable subsets\n",
    "  - Minimal Unsatisfiable Subsets\n",
    "  - MUSX naive algorithm\n",
    "  - Efficient MUSes with incremental solvers\n",
    "    - Assumption variables in clause learning solvers\n",
    "    - Unsat core extraction\n",
    "  - MUSX in practice (incremental + ordering of variables)\n",
    "  - Many MUSes (enumeration with Marco)\n",
    "  - Preferences over MUSes: QuickXplain algorithm\n",
    "  - Optimal unsatisfiable subsets: OUS\n",
    "    - hitting set algorithm\n",
    "    - in practice (objective incrementality HS, subset incrementality SAT, ?complementary MCSs?)\n",
    "* SAT: explaining logical consequences\n",
    "  - computing (all) logical consequences:\n",
    "      - unique solution\n",
    "      - propagated assignment\n",
    "      - maximal consequence algorithm\n",
    "  - explaining one logical consequence\n",
    "      - reformulation to MUS/OUS\n",
    "  - step-wise explaining all logical consequences\n",
    "      - OCUS\n",
    "* OPT: explaining that no better solution exists\n",
    "  - reformulation to MUS/OUS\n",
    "\n",
    "## Part 2: Counterfactual explanation (What if Y instead of X?)\n",
    "\n",
    "* UNSAT: Minimum Correction Subsets\n",
    "  - graph coloring example\n",
    "  - MCS / MSS relation\n",
    "  - Optimisation over indicator variables\n",
    "* UNSAT: corrective actions\n",
    "  - Slack variables\n",
    "  - Optimisation over slack variables\n",
    "* SAT: checking a foil\n",
    "  - concept of a 'foil'\n",
    "  - add foil, recompute (explain UNSAT if needed)\n",
    "* OPT: correcting the objective function\n",
    "  - inverse optimisation\n",
    "    "
   ]
  },
  {
   "cell_type": "markdown",
   "metadata": {
    "slideshow": {
     "slide_type": "slide"
    }
   },
   "source": [
    "## Deductive explanations with MUS - conclusions\n",
    "\n",
    "- MUS'es can poinpoint the user to a conflict, helps to understand\n",
    "\n",
    "BUT\n",
    "\n",
    "- There can be many MUSes, which one to show? Smallest? _Learn_ preferences?\n",
    "- No guarantee the smallest MUS is understandable\n",
    "    - Worst case, all constraints in conflict! (e.g., pigeon-hole problem)\n",
    "- **MUSes do not show interaction between constraints**"
   ]
  },
  {
   "cell_type": "markdown",
   "metadata": {
    "pycharm": {
     "name": "#%% md\n"
    },
    "slideshow": {
     "slide_type": "slide"
    }
   },
   "source": [
    "## Step-wise explanation\n",
    "\n",
    "<img src=\"img/explain_step-wise.png\" width=\"20%\" align=\"right\" style=\"margin:50px;\">\n",
    "\n",
    "- Disect the conflict into smaller steps \n",
    "- Show _interaction_ between constraints <br>\n",
    "  -> Step-wise Explanations\n",
    "\n",
    "> Ignace Bleukx, Jo Devriendt, Emilio Gamba, Bart Bogaerts, Tias Guns. Simplifying Step-wise Explanation Sequences. 29th International Conference on Principles and Practice of Constraint Programming (CP23), 2023."
   ]
  },
  {
   "cell_type": "markdown",
   "metadata": {
    "slideshow": {
     "slide_type": "slide"
    }
   },
   "source": [
    "## Step-wise explanations\n",
    "\n",
    "Find a sequence of small derivation steps, _explaining_ a goal set of literals (or a goal _fact_)\n",
    "\n",
    "Each _step_ consists of a tuple $(\\mathcal{E}, \\mathcal{S}, \\mathcal{N})$"
   ]
  },
  {
   "cell_type": "markdown",
   "metadata": {
    "slideshow": {
     "slide_type": "fragment"
    }
   },
   "source": [
    "\n",
    "Current work: explain how to solve logic puzzles **with a single solution** \n",
    "\n",
    "> Bogaerts, Bart, Emilio Gamba, and Tias Guns. \"A framework for step-wise explaining how to solve constraint satisfaction problems.\" Artificial Intelligence 300 (2021): 103550."
   ]
  },
  {
   "cell_type": "markdown",
   "metadata": {
    "slideshow": {
     "slide_type": "subslide"
    }
   },
   "source": [
    "<img src=\"img/stepwise.png\" width=\"100%\" align=\"center\" style=\"\">\n"
   ]
  },
  {
   "cell_type": "markdown",
   "metadata": {
    "slideshow": {
     "slide_type": "fragment"
    }
   },
   "source": [
    "In that setting _no_ risk on redundancy as **every** literal (cell in the sudoku) needs to be explained"
   ]
  },
  {
   "cell_type": "markdown",
   "metadata": {
    "slideshow": {
     "slide_type": "subslide"
    }
   },
   "source": [
    "Imagine only a subset of the cells needs to be explained.\n",
    "\n",
    "How to decide which cells to derive during the sequence? Maybe \"uninteresting cells\" to the user are usefull as intermediate result?"
   ]
  },
  {
   "cell_type": "markdown",
   "metadata": {
    "slideshow": {
     "slide_type": "fragment"
    }
   },
   "source": [
    "Also applies to the UNSAT case, on which we will focus for now"
   ]
  },
  {
   "cell_type": "markdown",
   "metadata": {
    "slideshow": {
     "slide_type": "subslide"
    }
   },
   "source": [
    "## Step wise explaining unsatisfiability\n",
    "\n",
    "**Challenges**\n",
    "\n",
    "- How to find interpretable sequences? \n",
    "    - _I.e., with few and small steps?_\n",
    "- How to deal with redundancy in the sequence? \n",
    "    - _I.e., how to decide what information is relevant to derive?_\n",
    "- How to keep the algorithm interactive?\n",
    "    - _I.e., how to find good sequences fast?_"
   ]
  },
  {
   "cell_type": "markdown",
   "metadata": {
    "slideshow": {
     "slide_type": "subslide"
    }
   },
   "source": [
    "## 3-phase approach:\n",
    "\n",
    "Greedy construction of the sequence:\n",
    "<img src=\"img/manysteps.png\" width=\"80%\" style=\"margin-bottom: -150px; margin-top: -50px\"><br>\n",
    "Removing redundant steps:\n",
    "<img src=\"img/littledirtysteps.png\" width=\"80%\" style=\"margin-bottom: -100px;  margin-top:-50px;\">\n",
    "Clean each step from spurious input/output:\n",
    " <img src=\"img/littlecleansteps.png\" width=\"45%\" style=\"margin-top:-120px\">"
   ]
  },
  {
   "cell_type": "markdown",
   "metadata": {
    "slideshow": {
     "slide_type": "subslide"
    }
   },
   "source": [
    "###  1. Greedy construction\n",
    "\n",
    "<img src=\"img/greedy_construct.png\" width=\"50%\" align=\"left\" style=\"margin:20px;\">\n",
    "\n",
    "**Maximal sequences**: \n",
    "- Use everyting available\n",
    "- Derive everything possible\n",
    "\n"
   ]
  },
  {
   "cell_type": "markdown",
   "metadata": {
    "slideshow": {
     "slide_type": "subslide"
    }
   },
   "source": [
    "## Greedy construction for the Nurse rostering problem"
   ]
  },
  {
   "cell_type": "code",
   "execution_count": null,
   "metadata": {
    "slideshow": {
     "slide_type": "fragment"
    }
   },
   "outputs": [],
   "source": [
    "from explanations.stepwise import forward_construction\n",
    "        \n",
    "seq = forward_construction(model.constraints)\n",
    "print(f\"Found sequence of length {len(seq)}\")\n",
    "print(\"Avg nb of constraints used:\", get_avg_stepsize(seq))"
   ]
  },
  {
   "cell_type": "code",
   "execution_count": null,
   "metadata": {
    "slideshow": {
     "slide_type": "subslide"
    }
   },
   "outputs": [],
   "source": [
    "nurse_view.clear()\n",
    "for step in seq:\n",
    "    display(visualize_step(step, nurse_view, factory))"
   ]
  },
  {
   "cell_type": "markdown",
   "metadata": {
    "slideshow": {
     "slide_type": "subslide"
    }
   },
   "source": [
    "\\+ The good: <br>\n",
    "- we get a sequence of explanation steps leading to the conflict!\n",
    "- each step has low number of constraints\n",
    "\n",
    "\\- The bad: <br>\n",
    "- the sequence is VERY long..."
   ]
  },
  {
   "cell_type": "markdown",
   "metadata": {
    "slideshow": {
     "slide_type": "slide"
    }
   },
   "source": [
    "### 2. Filtering redundant steps\n",
    "\n",
    "<img src=\"img/deletion_filter.png\" width=\"40%\" align=\"left\" style=\"margin-right:40px;\">\n",
    "Try to remove step from sequence and check if sequence is valid\n",
    "\n",
    "- If yes: remove the step,\n",
    "- If no: we need the step in the sequence\n",
    "\n",
    "Produces **maximal sequences**"
   ]
  },
  {
   "cell_type": "code",
   "execution_count": null,
   "metadata": {
    "slideshow": {
     "slide_type": "subslide"
    }
   },
   "outputs": [],
   "source": [
    "from explanations.stepwise import backward_filtering\n",
    "\n",
    "filtered = backward_filtering(model.constraints, seq)\n",
    "print(f\"Filtered sequence to length {len(filtered)}\")\n",
    "print(\"Avg nb of output literals:\", get_avg_outputlits(filtered))"
   ]
  },
  {
   "cell_type": "code",
   "execution_count": null,
   "metadata": {
    "scrolled": true,
    "slideshow": {
     "slide_type": "subslide"
    }
   },
   "outputs": [],
   "source": [
    "nurse_view.clear()\n",
    "for step in filtered:\n",
    "    display(visualize_step(step, nurse_view, factory))"
   ]
  },
  {
   "cell_type": "markdown",
   "metadata": {
    "slideshow": {
     "slide_type": "subslide"
    }
   },
   "source": [
    "\\+ The good: <br>\n",
    "- Our sequence is much shorter and easier to comprehend\n",
    "\n",
    "\\- The bad: <br>\n",
    "- Individual steps may derive or use too much information"
   ]
  },
  {
   "cell_type": "markdown",
   "metadata": {
    "slideshow": {
     "slide_type": "subslide"
    }
   },
   "source": [
    "### 3. Simplify steps by removig input/output information\n",
    "\n",
    "<img src=\"img/relaxation.png\" width=\"50%\" align=\"left\" style=\"margin-right:40px;\">"
   ]
  },
  {
   "cell_type": "code",
   "execution_count": null,
   "metadata": {
    "pycharm": {
     "name": "#%%\n"
    },
    "slideshow": {
     "slide_type": "subslide"
    }
   },
   "outputs": [],
   "source": [
    "from explanations.stepwise import relax_sequence\n",
    "\n",
    "relaxed = relax_sequence(filtered, time_limit=100)\n",
    "print(f\"Relaxed sequence has length {len(relaxed)}\")\n",
    "print(\"Avg nb of output literals:\", get_avg_outputlits(relaxed))"
   ]
  },
  {
   "cell_type": "code",
   "execution_count": null,
   "metadata": {
    "scrolled": true,
    "slideshow": {
     "slide_type": "subslide"
    }
   },
   "outputs": [],
   "source": [
    "nurse_view.clear()\n",
    "for step in relaxed:\n",
    "    display(visualize_step(step, nurse_view, factory))"
   ]
  },
  {
   "cell_type": "markdown",
   "metadata": {
    "slideshow": {
     "slide_type": "slide"
    }
   },
   "source": [
    "## Results on benchmarks\n",
    "\n",
    "<img src=\"img/steps.png\" width=\"80%\">"
   ]
  },
  {
   "cell_type": "markdown",
   "metadata": {
    "slideshow": {
     "slide_type": "subslide"
    }
   },
   "source": [
    "<img src=\"img/inputlits.png\" width=\"80%\">"
   ]
  },
  {
   "cell_type": "markdown",
   "metadata": {
    "slideshow": {
     "slide_type": "subslide"
    }
   },
   "source": [
    "<img src=\"img/outputlits.png\" width=\"80%\">"
   ]
  },
  {
   "cell_type": "markdown",
   "metadata": {
    "slideshow": {
     "slide_type": "subslide"
    }
   },
   "source": [
    "<img src=\"img/sudoku_runtime.pdf\" width=44.5% style=\"float:left\">\n",
    "<img src=\"img/jobshop_runtime.pdf\" width=\"40%\" style=\"float:left;margin-top:25px\">"
   ]
  },
  {
   "cell_type": "markdown",
   "metadata": {
    "slideshow": {
     "slide_type": "slide"
    }
   },
   "source": [
    "# Conclusions\n",
    "\n",
    "- Deductive explanations are a helpful means of explaining _why_ a problem is unsatisfiable\n",
    "\n",
    "- Step-wise explanations can be applied to the problem of explaining unsatisfiability, BUT:\n",
    "    - Need to take care for redundancy\n",
    "- Open questions:\n",
    "    - _Which_ sequence to show? _The_ shortest one? _Learn_ preferences?\n",
    "    - How to improve runtime of the algorithm?\n",
    "    - Tighter integration of forward-construction and backwards-filtering?\n",
    "    \n",
    "    \n",
    "\n",
    "\n"
   ]
  },
  {
   "cell_type": "markdown",
   "metadata": {
    "slideshow": {
     "slide_type": "slide"
    }
   },
   "source": [
    "# Want to learn more?\n",
    "\n",
    "<img src=\"img/qr-code.png\" align=\"right\" width=\"30%\" style=\"margin-top:20px\">\n",
    "\n",
    "Tutorial with variety of explanation techniques recorded\n",
    "\n",
    "Also includes _how_ to adapt the model to make it satisfiable \n",
    "\n",
    "(i.e., _contrastive_ explanations)\n",
    "\n"
   ]
  }
 ],
 "metadata": {
  "celltoolbar": "Slideshow",
  "kernelspec": {
   "display_name": "Python 3",
   "language": "python",
   "name": "python3"
  },
  "language_info": {
   "codemirror_mode": {
    "name": "ipython",
    "version": 3
   },
   "file_extension": ".py",
   "mimetype": "text/x-python",
   "name": "python",
   "nbconvert_exporter": "python",
   "pygments_lexer": "ipython3",
   "version": "3.9.2"
  },
  "rise": {
   "transition": "none"
  },
  "varInspector": {
   "cols": {
    "lenName": 16,
    "lenType": 16,
    "lenVar": 40
   },
   "kernels_config": {
    "python": {
     "delete_cmd_postfix": "",
     "delete_cmd_prefix": "del ",
     "library": "var_list.py",
     "varRefreshCmd": "print(var_dic_list())"
    },
    "r": {
     "delete_cmd_postfix": ") ",
     "delete_cmd_prefix": "rm(",
     "library": "var_list.r",
     "varRefreshCmd": "cat(var_dic_list()) "
    }
   },
   "types_to_exclude": [
    "module",
    "function",
    "builtin_function_or_method",
    "instance",
    "_Feature"
   ],
   "window_display": false
  }
 },
 "nbformat": 4,
 "nbformat_minor": 4
}
