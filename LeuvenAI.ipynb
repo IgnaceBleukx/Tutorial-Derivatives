{
 "cells": [
  {
   "cell_type": "code",
   "execution_count": 1,
   "id": "53e7143f",
   "metadata": {},
   "outputs": [],
   "source": [
    "## sneaky imports and redefinitions\n",
    "import networkx as nx\n",
    "import matplotlib.pyplot as plt\n",
    "import cpmpy as cp\n",
    "import time\n",
    "import copy\n",
    "draw = nx.draw_circular\n",
    "\n",
    "cmap = [\"yellow\", \"cyan\", \"lightgreen\"]\n",
    "import re\n",
    "\n",
    "from cpmpy.expressions.core import Comparison\n",
    "def remove_edge(graph, constraint):\n",
    "    graph = copy.deepcopy(graph)\n",
    "    \n",
    "    assert isinstance(constraint, Comparison)\n",
    "    n1, n2 = constraint.args\n",
    "    a = int(re.search(\"\\[[0-9]*\\]\", str(n1)).group()[1:-1])\n",
    "    b = int(re.search(\"\\[[0-9]*\\]\", str(n2)).group()[1:-1])\n",
    "    graph.remove_edge(a,b)\n",
    "    return graph\n",
    "\n",
    "def draw_conflict(graph, conflict, **kwargs):\n",
    "    \n",
    "    conflicting = []\n",
    "    for cons in conflict:\n",
    "        n1, n2 = cons.args\n",
    "        if n1.name == \"max\": continue\n",
    "        a = int(re.search(\"\\[[0-9]*\\]\", str(n1)).group()[1:-1])\n",
    "        b = int(re.search(\"\\[[0-9]*\\]\", str(n2)).group()[1:-1])\n",
    "        conflicting.append((a,b))\n",
    "        \n",
    "    colors = [\"red\" if (a,b) in conflicting else \"black\" for (a,b) in graph.edges()]       \n",
    "    return draw(graph, edge_color=colors, **kwargs)\n",
    "\n",
    "\n",
    "import numpy as np\n",
    "\n",
    "e = 0 # value for empty cells\n",
    "given = np.array([\n",
    "        [e, e, e,  2, e, 5,  e, e, e],\n",
    "        [e, 9, e,  e, e, e,  7, 3, e],\n",
    "        [e, e, 2,  e, e, 9,  e, 6, e],\n",
    "\n",
    "        [2, e, e,  e, e, e,  4, e, 9],\n",
    "        [e, e, e,  e, 7, e,  e, e, e],\n",
    "        [6, e, 9,  e, e, e,  e, e, 1],\n",
    "\n",
    "        [e, 8, e,  4, e, e,  1, e, e],\n",
    "        [e, 6, 3,  e, e, e,  e, 8, e],\n",
    "        [e, e, e,  6, e, 8,  e, e, e]])\n",
    "\n",
    "from visualize import *\n",
    "\n",
    "from cpmpy.transformations.normalize import toplevel_list\n",
    "from factory import *\n",
    "from read_data import get_data\n",
    "    \n",
    "\n",
    "def partition_csp(soft, hard=[]):\n",
    "    \n",
    "    soft = toplevel_list(soft, merge_and=False)\n",
    "    ind = cp.boolvar(shape=len(soft))  # Boolean indicator variable for each constraint\n",
    "    \n",
    "    maxsat_model = cp.Model(ind.implies(soft))  # add reified constraints\n",
    "    maxsat_model.maximize(cp.sum(ind))  # find largest MSS = smallest MCS\n",
    "    maxsat_model += hard\n",
    "    \n",
    "    \n",
    "    assert maxsat_model.solve()\n",
    "    \n",
    "    mss = [c for a,c in zip(ind, soft) if a.value() is True]\n",
    "    mcs = [c for a,c in zip(ind, soft) if a.value() is False]\n",
    "    \n",
    "    return mss, mcs"
   ]
  },
  {
   "cell_type": "markdown",
   "id": "15ea5f55",
   "metadata": {
    "slideshow": {
     "slide_type": "slide"
    }
   },
   "source": [
    "\n",
    "<img src=\"img/kul.jpg\" width=\"15%\" align=\"right\" style=\"margin:50px;\">\n",
    "\n",
    "# Explainable Constraint Solving\n",
    "\n",
    "Dimos Tsouros, Ignace Bleukx\n",
    "\n",
    "dimos.tsouros@kuleuven.be, ignace.bleukx@kuleuven.be\n",
    "\n"
   ]
  },
  {
   "cell_type": "markdown",
   "id": "3a183dc7",
   "metadata": {
    "slideshow": {
     "slide_type": "slide"
    }
   },
   "source": [
    "\n",
    "## Constraint Solving\n",
    "\n",
    "<img src=\"img/solutions_vizual.png\" width=\"45%\" align=\"right\" style=\"margin:50px;\">\n",
    "\n",
    "Solving combinatorial optimization problems in AI\n",
    "\n",
    "- Vehicle Routing\n",
    "\n",
    "- Scheduling\n",
    "\n",
    "- Manufacturing\n",
    "\n",
    "- Other combinatorial problems ..."
   ]
  },
  {
   "cell_type": "markdown",
   "id": "850a83fc",
   "metadata": {},
   "source": [
    "## Combinatorial Problems\n",
    "\n",
    "Real-world problems in many different domains!\n",
    "\n",
    "- Huge number (exponentially large) of possible solutions\n",
    "- Exhaustive search (Brute-Force) not possible\n",
    "- Intelligent search is needed, rulling out large parts of the search space"
   ]
  },
  {
   "cell_type": "markdown",
   "id": "d30c98e3",
   "metadata": {
    "slideshow": {
     "slide_type": "slide"
    }
   },
   "source": [
    "\n",
    "## Model + Solve Paradigm\n",
    "\n",
    "<img src=\"img/model_solve.png\" width=\"85%\" align=\"left\" style=\"margin:10px;\">\n",
    "\n"
   ]
  },
  {
   "cell_type": "markdown",
   "id": "9dc85a75",
   "metadata": {
    "slideshow": {
     "slide_type": "fragment"
    }
   },
   "source": [
    "- Reason over the constraints to find a solution\n",
    "- Find the optimal solution according to the objective (maximize gain or minimize penalty)"
   ]
  },
  {
   "cell_type": "markdown",
   "id": "c0decab6",
   "metadata": {
    "slideshow": {
     "slide_type": "slide"
    }
   },
   "source": [
    "## Constraint Model\n",
    "\n",
    " Describe the problem entities and their relation\n",
    "- <strong>Variables</strong>: Entities of the problem we need to solve.\n",
    "- <strong>Domains</strong>: Define the possible values each variable can take.\n",
    "- <strong>Constraints</strong>: Describe relationships between variables.\n",
    "- <strong>Objective Function</strong>: Quantifies the goal or measure of success."
   ]
  },
  {
   "cell_type": "markdown",
   "id": "614f9b6e",
   "metadata": {
    "slideshow": {
     "slide_type": "slide"
    }
   },
   "source": [
    "## Room Assignment\n",
    "\n",
    "<img src=\"img/room_assign.png\" width=\"90%\" align=\"left\" style=\"margin:10px;\">\n"
   ]
  },
  {
   "cell_type": "markdown",
   "id": "7ae92a26",
   "metadata": {
    "slideshow": {
     "slide_type": "slide"
    }
   },
   "source": [
    "# Solving technologies\n",
    "\n",
    "Many different methods, depending on solving paradigm\n",
    "- Clause learning, Constraint Propagation, Relaxations ..."
   ]
  },
  {
   "attachments": {},
   "cell_type": "markdown",
   "id": "31ee9d0c",
   "metadata": {
    "slideshow": {
     "slide_type": "fragment"
    }
   },
   "source": [
    "### E.g. Constraint Propagation\n",
    "\n",
    "<img src=\"img/propagate.png\" width=\"65%\" align=\"center\" style=\"margin:10px;\">\n"
   ]
  },
  {
   "cell_type": "markdown",
   "id": "4b327bf1",
   "metadata": {
    "slideshow": {
     "slide_type": "slide"
    }
   },
   "source": [
    "# Solving technologies\n",
    "\n",
    "#### Different solving paradigms: \n",
    "\n",
    "- SAT: Boolean decision variables; clauses as constraints\n",
    "- MIP: Integer decision variables; linear constraints\n",
    "- CP: Integer decision variables; logical, mathematical, global constraints\n"
   ]
  },
  {
   "cell_type": "markdown",
   "id": "81d01eac",
   "metadata": {
    "slideshow": {
     "slide_type": "slide"
    }
   },
   "source": [
    "## How to choose between SAT/MIP/CP solvers?\n",
    "\n",
    "Not trivial! General guidelines:\n",
    "- if decision problem: try SAT first\n",
    "- if inherently Boolean: try (max)SAT first\n",
    "- if few constraints or natural to relax: try MIP first\n",
    "- if suitable globals or complex constraints: try CP first\n"
   ]
  },
  {
   "cell_type": "markdown",
   "id": "3725dadd",
   "metadata": {
    "slideshow": {
     "slide_type": "fragment"
    }
   },
   "source": [
    "## Constraint Solving Tools\n",
    "\n",
    " - Solvers: Google OR-Tools, Choco, Gurobi ...\n",
    " - Modeling languages: MiniZinc, CPMpy ...\n"
   ]
  },
  {
   "cell_type": "markdown",
   "id": "f331fbb0",
   "metadata": {
    "slideshow": {
     "slide_type": "slide"
    }
   },
   "source": [
    "## Modeling languages\n",
    "- High level modeling, easier for the user\n",
    "- Can use different solvers/solving technologies\n",
    "- Transform constraint model in acceptable input for the solver"
   ]
  },
  {
   "cell_type": "markdown",
   "id": "b6930b8e",
   "metadata": {
    "slideshow": {
     "slide_type": "fragment"
    }
   },
   "source": [
    "<center><img src=\"img/slide1.png\" style=\"max-width: 45%;\" /></center>\n"
   ]
  },
  {
   "cell_type": "markdown",
   "id": "c1cb21af",
   "metadata": {
    "slideshow": {
     "slide_type": "skip"
    }
   },
   "source": [
    "## CPMpy Transformations\n",
    "\n",
    "<center><img src=\"img/transformations.png\" style=\"max-width: 70%;\" /></center>\n"
   ]
  },
  {
   "cell_type": "markdown",
   "id": "b0e2a20c",
   "metadata": {
    "slideshow": {
     "slide_type": "slide"
    }
   },
   "source": [
    "## Beyond Model + Solve \n",
    "\n",
    "<center><img src=\"img/model-solve.png\" style=\"max-width: 50%;\" /></center>\n"
   ]
  },
  {
   "cell_type": "markdown",
   "id": "fe1c66d7",
   "metadata": {
    "slideshow": {
     "slide_type": "subslide"
    }
   },
   "source": [
    "## Beyond Model + Solve \n",
    "\n",
    "\n",
    "<center><img src=\"img/model-solve-other.png\" style=\"max-width: 50%;\" /></center>\n"
   ]
  },
  {
   "cell_type": "markdown",
   "id": "f8259932",
   "metadata": {
    "slideshow": {
     "slide_type": "fragment"
    }
   },
   "source": [
    "- What happens before and after solving?   \n",
    "- Integrate ML predictions   \n",
    "- Explain output to the user\n",
    "- ..."
   ]
  },
  {
   "cell_type": "markdown",
   "id": "a113f828",
   "metadata": {
    "slideshow": {
     "slide_type": "slide"
    }
   },
   "source": [
    "## Beyond Model + Solve: Perception-based solving\n",
    "\n",
    "<center><img src=\"img/app-sudoku.png\" width=70%></center>"
   ]
  },
  {
   "cell_type": "markdown",
   "id": "15189ee3",
   "metadata": {
    "slideshow": {
     "slide_type": "slide"
    }
   },
   "source": [
    "## Beyond Model + Solve: Perception-based solving\n",
    "\n",
    "<center><img src=\"img/award-sudoku.png\" width=70%></center>"
   ]
  },
  {
   "cell_type": "markdown",
   "id": "645a1e90",
   "metadata": {
    "slideshow": {
     "slide_type": "slide"
    }
   },
   "source": [
    "## Beyond Model + Solve: Perception-based solving\n",
    "\n",
    "<center><img src=\"img/perception-solving.png\" width=60%></center>\n",
    "\n",
    "- Each cell predicts the maximum likelihood value:\n",
    "- But you need all 81 predictions (one for each given cell), it is a multi-output problem!\n",
    "- If solve_sudoku(y) = False: no solution, interpretation is wrong..."
   ]
  },
  {
   "cell_type": "markdown",
   "id": "6551e8a7",
   "metadata": {
    "slideshow": {
     "slide_type": "fragment"
    }
   },
   "source": [
    "#### Constraint Solving layer\n",
    "\n",
    "- Get probabilities for each cell's value from the Neural Network    \n",
    "- Find values to filled cells s.t. sudoku rules (i.e. constraints) are respected\n",
    "    - maximizing the values probabilities\n",
    "<center><img src=\"img/app-sudoku-objective.png\" width=40%></center>\n"
   ]
  },
  {
   "attachments": {
    "image.png": {
     "image/png": "[encoded data removed]"
    }
   },
   "cell_type": "markdown",
   "id": "21c7e1c6",
   "metadata": {
    "slideshow": {
     "slide_type": "slide"
    }
   },
   "source": [
    "## Beyond Model + Solve: Explanations\n",
    "\n",
    "### What happens after solving?\n",
    "\n",
    "- Explain solution to the user:\n",
    "\n",
    "![image.png](attachment:image.png)"
   ]
  },
  {
   "cell_type": "markdown",
   "id": "b5f58428",
   "metadata": {
    "slideshow": {
     "slide_type": "slide"
    }
   },
   "source": [
    "## CPMpy\n",
    "\n",
    "We will use the CPMpy modeling library in python for this workshop\n",
    "\n",
    "<center><img src=\"img/cpmpy-intro.png\" style=\"max-width: 70%;\" /></center>\n",
    " "
   ]
  },
  {
   "cell_type": "markdown",
   "id": "ffa1cda5",
   "metadata": {
    "slideshow": {
     "slide_type": "subslide"
    }
   },
   "source": [
    "\n",
    "### Advantages of CPMpy\n",
    "\n",
    "* Efficient repeated solving\n",
    "  * Incremental\n",
    "* Use CP/SAT/MIP or any combination\n",
    "  * solver independent and multi-solver\n",
    "* Easy integration with Machine Learning or Visualization or any other libraries\n",
    "  * Python and numpy arrays"
   ]
  },
  {
   "cell_type": "markdown",
   "id": "87d33ee4",
   "metadata": {
    "slideshow": {
     "slide_type": "slide"
    }
   },
   "source": [
    "## CP modelling - Examples\n",
    "\n",
    "### Graph coloring\n",
    "\n",
    "Given a graph $G(V,E)$ with vertices $V$ and edges $E$, a valid graph coloring assigs a different color to each of the connected vertices.\n",
    "\n",
    "<center><img src=\"img/graph_coloring.png\" style=\"width: 35%;\" /></center>\n"
   ]
  },
  {
   "cell_type": "markdown",
   "id": "351efa99",
   "metadata": {
    "slideshow": {
     "slide_type": "subslide"
    }
   },
   "source": [
    "Applications:\n",
    "- Task allocation on workers for manufacturing\n",
    "- Room assignment\n",
    "- Exam Timetabling\n",
    "- ..."
   ]
  },
  {
   "cell_type": "code",
   "execution_count": 8,
   "id": "cfc70a4f",
   "metadata": {
    "slideshow": {
     "slide_type": "slide"
    }
   },
   "outputs": [],
   "source": [
    "def graph_coloring(G):\n",
    "    m = cp.Model()\n",
    "    max_colors = G.number_of_nodes()\n",
    "    # dict of node-names to intvar\n",
    "    nodes = cp.intvar(1, max_colors+1, shape=max_colors, name=\"Node\")\n",
    "    # constrain adges to have differently colored nodes\n",
    "    m += [nodes[n1] != nodes[n2] for n1, n2 in G.edges()]\n",
    "    m.minimize(cp.max(nodes))\n",
    "    \n",
    "    return m, nodes"
   ]
  },
  {
   "cell_type": "markdown",
   "id": "060c45c9",
   "metadata": {
    "slideshow": {
     "slide_type": "subslide"
    }
   },
   "source": [
    "Lets generate a random graph"
   ]
  },
  {
   "cell_type": "code",
   "execution_count": 9,
   "id": "414dfdd2",
   "metadata": {
    "slideshow": {
     "slide_type": "fragment"
    }
   },
   "outputs": [
    {
     "data": {
      "image/png": "[encoded data removed]",
      "text/plain": [
       "<Figure size 640x480 with 1 Axes>"
      ]
     },
     "metadata": {},
     "output_type": "display_data"
    }
   ],
   "source": [
    "import networkx as nx\n",
    "\n",
    "G = nx.fast_gnp_random_graph(7, 0.5, seed=0)\n",
    "draw(G, with_labels=True)"
   ]
  },
  {
   "cell_type": "code",
   "execution_count": 10,
   "id": "48f19933",
   "metadata": {
    "slideshow": {
     "slide_type": "subslide"
    }
   },
   "outputs": [
    {
     "name": "stdout",
     "output_type": "stream",
     "text": [
      "Number of colors: 3 -- ExitStatus.OPTIMAL (0.0202797 seconds)\n"
     ]
    }
   ],
   "source": [
    "# modela and variables\n",
    "model, nodes = graph_coloring(G)\n",
    "\n",
    "assert model.solve()\n",
    "\n",
    "print(f\"Number of colors: {model.objective_value()} -- {model.status()}\")"
   ]
  },
  {
   "cell_type": "code",
   "execution_count": 11,
   "id": "be5753be",
   "metadata": {
    "slideshow": {
     "slide_type": "subslide"
    }
   },
   "outputs": [
    {
     "data": {
      "image/png": "[encoded data removed]",
      "text/plain": [
       "<Figure size 640x480 with 1 Axes>"
      ]
     },
     "metadata": {},
     "output_type": "display_data"
    }
   ],
   "source": [
    "# and visualize it now with colors\n",
    "color_map = [cmap[n.value()-1] for n in nodes]\n",
    "draw(G, with_labels=True, node_color=color_map)"
   ]
  },
  {
   "cell_type": "markdown",
   "id": "16c0d500",
   "metadata": {
    "slideshow": {
     "slide_type": "slide"
    }
   },
   "source": [
    "## CP modelling - Examples\n",
    "\n",
    "<img src=\"img/sudoku_puzzle.png\" width=\"45%\" align=\"right\" style=\"margin:50px;\">\n",
    "\n",
    "### Sudoku puzzle\n",
    "\n",
    "Fill in empty cells such that:\n",
    "- in each row all 9 numbers occur\n",
    "- in each column all 9 numbers occur\n",
    "- in each 9x9 block all numbers occur"
   ]
  },
  {
   "cell_type": "markdown",
   "id": "6eef2755",
   "metadata": {},
   "source": [
    "Sudoku puzzle            |  Sudoku code\n",
    ":-------------------------: |:-------------------------:\n",
    " ![](img/sudoku_code.png)  |  ![](img/sudoku_puzzle.png) \n"
   ]
  },
  {
   "cell_type": "code",
   "execution_count": 12,
   "id": "002272da",
   "metadata": {
    "slideshow": {
     "slide_type": "notes"
    }
   },
   "outputs": [],
   "source": [
    "import numpy as np\n",
    "\n",
    "e = 0 # value for empty cells\n",
    "given = np.array([\n",
    "        [e, e, e,  2, e, 5,  e, e, e],\n",
    "        [e, 9, e,  e, e, e,  7, 3, e],\n",
    "        [e, e, 2,  e, e, 9,  e, 6, e],\n",
    "\n",
    "        [2, e, e,  e, e, e,  4, e, 9],\n",
    "        [e, e, e,  e, 7, e,  e, e, e],\n",
    "        [6, e, 9,  e, e, e,  e, e, 1],\n",
    "\n",
    "        [e, 8, e,  4, e, e,  1, e, e],\n",
    "        [e, 6, 3,  e, e, e,  e, 8, e],\n",
    "        [e, e, e,  6, e, 8,  e, e, e]])"
   ]
  },
  {
   "cell_type": "code",
   "execution_count": 13,
   "id": "fb99c922",
   "metadata": {
    "slideshow": {
     "slide_type": "subslide"
    }
   },
   "outputs": [],
   "source": [
    "def sudoku(given):\n",
    "    \n",
    "    cells = cp.intvar(1,9,shape=(9,9), name=\"cell\") # decision variables\n",
    "    \n",
    "    m = cp.Model()\n",
    "    m += [cp.AllDifferent(row) for row in cells]\n",
    "    m += [cp.AllDifferent(col) for col in cells.T] # use numpy transpose\n",
    "    for i in range(0,3,9):\n",
    "        for j in range(0,3,9):\n",
    "            m += cp.AllDifferent(cells[i:i+3, j:j+3])\n",
    "    \n",
    "    # given cells must be filled in\n",
    "    m += cells[given != e] == given[given != e]\n",
    "    \n",
    "    return m, cells"
   ]
  },
  {
   "cell_type": "code",
   "execution_count": 14,
   "id": "7616a251",
   "metadata": {
    "slideshow": {
     "slide_type": "fragment"
    }
   },
   "outputs": [
    {
     "data": {
      "text/plain": [
       "array([[7, 3, 6, 2, 8, 5, 9, 1, 4],\n",
       "       [5, 9, 8, 1, 4, 6, 7, 3, 2],\n",
       "       [4, 1, 2, 7, 5, 9, 3, 6, 8],\n",
       "       [2, 5, 1, 8, 6, 3, 4, 7, 9],\n",
       "       [8, 2, 4, 3, 7, 1, 6, 9, 5],\n",
       "       [6, 4, 9, 5, 3, 7, 8, 2, 1],\n",
       "       [3, 8, 7, 4, 9, 2, 1, 5, 6],\n",
       "       [1, 6, 3, 9, 2, 4, 5, 8, 7],\n",
       "       [9, 7, 5, 6, 1, 8, 2, 4, 3]])"
      ]
     },
     "execution_count": 14,
     "metadata": {},
     "output_type": "execute_result"
    }
   ],
   "source": [
    "model, cells = sudoku(given)\n",
    "\n",
    "assert model.solve()\n",
    "\n",
    "cells.value()"
   ]
  },
  {
   "cell_type": "markdown",
   "id": "d4d525d9",
   "metadata": {
    "slideshow": {
     "slide_type": "slide"
    }
   },
   "source": [
    "## CP modelling - Examples\n",
    "\n",
    "### Nurse rostering\n",
    "\n",
    "<img src=\"img/nurse_rost_prob.jpg\">\n",
    "\n",
    "* The assignment of _shifts_ and _holidays_ to nurses.\n",
    "* Each nurse has their own restrictions and preferences,\n",
    "    as does the hospital.\n"
   ]
  },
  {
   "cell_type": "markdown",
   "id": "d077dda3",
   "metadata": {
    "slideshow": {
     "slide_type": "subslide"
    }
   },
   "source": [
    "## Nurse Rostering: constraints 1/2\n",
    "\n",
    "### hospital constraints/preferences:\n",
    "\n",
    "<img src=\"img/nurse_rost_prob.jpg\" align=\"right\">\n",
    "\n",
    "* nb of nurses assigned\n",
    "* max nb of shifts\n",
    "* max nb of weekend shifts\n",
    "* min nb of (consecutive) days off\n",
    "* min/max minutes worked\n",
    "* min/max consecutive shifts\n",
    "* shift rotation"
   ]
  },
  {
   "cell_type": "markdown",
   "id": "98281219",
   "metadata": {
    "slideshow": {
     "slide_type": "subslide"
    }
   },
   "source": [
    "## Nurse Rostering: constraints 2/2\n",
    "\n",
    "### nurse constraints/preferences:\n",
    "\n",
    "<img src=\"img/nurse_rost_prob.jpg\" align=\"right\">\n",
    "\n",
    "* specific days off-duty\n",
    "* specific shift requests (on/off)\n"
   ]
  },
  {
   "cell_type": "markdown",
   "id": "df79fd0c",
   "metadata": {
    "slideshow": {
     "slide_type": "subslide"
    }
   },
   "source": [
    "## Nurse rostering: data"
   ]
  },
  {
   "cell_type": "code",
   "execution_count": 15,
   "id": "5e518dd4",
   "metadata": {
    "slideshow": {
     "slide_type": "fragment"
    }
   },
   "outputs": [
    {
     "data": {
      "text/html": [
       "<div>\n",
       "<style scoped>\n",
       "    .dataframe tbody tr th:only-of-type {\n",
       "        vertical-align: middle;\n",
       "    }\n",
       "\n",
       "    .dataframe tbody tr th {\n",
       "        vertical-align: top;\n",
       "    }\n",
       "\n",
       "    .dataframe thead th {\n",
       "        text-align: right;\n",
       "    }\n",
       "</style>\n",
       "<table border=\"1\" class=\"dataframe\">\n",
       "  <thead>\n",
       "    <tr style=\"text-align: right;\">\n",
       "      <th></th>\n",
       "      <th># ID</th>\n",
       "      <th>MaxShifts</th>\n",
       "      <th>MaxTotalMinutes</th>\n",
       "      <th>MinTotalMinutes</th>\n",
       "      <th>MaxConsecutiveShifts</th>\n",
       "      <th>MinConsecutiveShifts</th>\n",
       "      <th>MinConsecutiveDaysOff</th>\n",
       "      <th>MaxWeekends</th>\n",
       "      <th>D</th>\n",
       "      <th>name</th>\n",
       "    </tr>\n",
       "  </thead>\n",
       "  <tbody>\n",
       "    <tr>\n",
       "      <th>0</th>\n",
       "      <td>A</td>\n",
       "      <td>D=14</td>\n",
       "      <td>4320</td>\n",
       "      <td>3360</td>\n",
       "      <td>5</td>\n",
       "      <td>2</td>\n",
       "      <td>2</td>\n",
       "      <td>1</td>\n",
       "      <td>14</td>\n",
       "      <td>Megan</td>\n",
       "    </tr>\n",
       "    <tr>\n",
       "      <th>1</th>\n",
       "      <td>B</td>\n",
       "      <td>D=14</td>\n",
       "      <td>4320</td>\n",
       "      <td>3360</td>\n",
       "      <td>5</td>\n",
       "      <td>2</td>\n",
       "      <td>2</td>\n",
       "      <td>1</td>\n",
       "      <td>14</td>\n",
       "      <td>Katherine</td>\n",
       "    </tr>\n",
       "    <tr>\n",
       "      <th>2</th>\n",
       "      <td>C</td>\n",
       "      <td>D=14</td>\n",
       "      <td>4320</td>\n",
       "      <td>3360</td>\n",
       "      <td>5</td>\n",
       "      <td>2</td>\n",
       "      <td>2</td>\n",
       "      <td>1</td>\n",
       "      <td>14</td>\n",
       "      <td>Robert</td>\n",
       "    </tr>\n",
       "    <tr>\n",
       "      <th>3</th>\n",
       "      <td>D</td>\n",
       "      <td>D=14</td>\n",
       "      <td>4320</td>\n",
       "      <td>3360</td>\n",
       "      <td>5</td>\n",
       "      <td>2</td>\n",
       "      <td>2</td>\n",
       "      <td>1</td>\n",
       "      <td>14</td>\n",
       "      <td>Jonathan</td>\n",
       "    </tr>\n",
       "    <tr>\n",
       "      <th>4</th>\n",
       "      <td>E</td>\n",
       "      <td>D=14</td>\n",
       "      <td>4320</td>\n",
       "      <td>3360</td>\n",
       "      <td>5</td>\n",
       "      <td>2</td>\n",
       "      <td>2</td>\n",
       "      <td>1</td>\n",
       "      <td>14</td>\n",
       "      <td>William</td>\n",
       "    </tr>\n",
       "    <tr>\n",
       "      <th>5</th>\n",
       "      <td>F</td>\n",
       "      <td>D=14</td>\n",
       "      <td>4320</td>\n",
       "      <td>3360</td>\n",
       "      <td>5</td>\n",
       "      <td>2</td>\n",
       "      <td>2</td>\n",
       "      <td>1</td>\n",
       "      <td>14</td>\n",
       "      <td>Richard</td>\n",
       "    </tr>\n",
       "    <tr>\n",
       "      <th>6</th>\n",
       "      <td>G</td>\n",
       "      <td>D=14</td>\n",
       "      <td>4320</td>\n",
       "      <td>3360</td>\n",
       "      <td>5</td>\n",
       "      <td>2</td>\n",
       "      <td>2</td>\n",
       "      <td>1</td>\n",
       "      <td>14</td>\n",
       "      <td>Kristen</td>\n",
       "    </tr>\n",
       "    <tr>\n",
       "      <th>7</th>\n",
       "      <td>H</td>\n",
       "      <td>D=14</td>\n",
       "      <td>4320</td>\n",
       "      <td>3360</td>\n",
       "      <td>5</td>\n",
       "      <td>2</td>\n",
       "      <td>2</td>\n",
       "      <td>1</td>\n",
       "      <td>14</td>\n",
       "      <td>Kevin</td>\n",
       "    </tr>\n",
       "  </tbody>\n",
       "</table>\n",
       "</div>"
      ],
      "text/plain": [
       "  # ID MaxShifts  MaxTotalMinutes  MinTotalMinutes  MaxConsecutiveShifts  \\\n",
       "0    A      D=14             4320             3360                     5   \n",
       "1    B      D=14             4320             3360                     5   \n",
       "2    C      D=14             4320             3360                     5   \n",
       "3    D      D=14             4320             3360                     5   \n",
       "4    E      D=14             4320             3360                     5   \n",
       "5    F      D=14             4320             3360                     5   \n",
       "6    G      D=14             4320             3360                     5   \n",
       "7    H      D=14             4320             3360                     5   \n",
       "\n",
       "   MinConsecutiveShifts  MinConsecutiveDaysOff  MaxWeekends   D       name  \n",
       "0                     2                      2            1  14      Megan  \n",
       "1                     2                      2            1  14  Katherine  \n",
       "2                     2                      2            1  14     Robert  \n",
       "3                     2                      2            1  14   Jonathan  \n",
       "4                     2                      2            1  14    William  \n",
       "5                     2                      2            1  14    Richard  \n",
       "6                     2                      2            1  14    Kristen  \n",
       "7                     2                      2            1  14      Kevin  "
      ]
     },
     "execution_count": 15,
     "metadata": {},
     "output_type": "execute_result"
    }
   ],
   "source": [
    "#instance = \"http://www.schedulingbenchmarks.org/nrp/data/Instance1.txt\"\n",
    "instance = \"Benchmarks/Instance1.txt\"\n",
    "data = get_data(instance)\n",
    "\n",
    "# all data is stored as DataFrame tables\n",
    "data.staff"
   ]
  },
  {
   "cell_type": "code",
   "execution_count": 16,
   "id": "e0d6bd7f",
   "metadata": {
    "slideshow": {
     "slide_type": "subslide"
    }
   },
   "outputs": [
    {
     "data": {
      "text/plain": [
       "True"
      ]
     },
     "execution_count": 16,
     "metadata": {},
     "output_type": "execute_result"
    }
   ],
   "source": [
    "factory = NurseSchedulingFactory(data)\n",
    "model, nurse_view = factory.get_full_model()\n",
    "\n",
    "model.solve()"
   ]
  },
  {
   "cell_type": "markdown",
   "id": "4fe48cf8",
   "metadata": {
    "slideshow": {
     "slide_type": "subslide"
    }
   },
   "source": [
    "Lets encode this in CPMpy!\n",
    "\n",
    "Specific days off-duty"
   ]
  },
  {
   "cell_type": "code",
   "execution_count": 17,
   "id": "8c691042",
   "metadata": {
    "slideshow": {
     "slide_type": "fragment"
    }
   },
   "outputs": [
    {
     "name": "stdout",
     "output_type": "stream",
     "text": [
      "- Megan should not work on day 0\n",
      "- Katherine should not work on day 5\n",
      "- Robert should not work on day 8\n",
      "- Jonathan should not work on day 2\n",
      "- William should not work on day 9\n",
      "- Richard should not work on day 5\n",
      "- Kristen should not work on day 1\n",
      "- Kevin should not work on day 7\n"
     ]
    }
   ],
   "source": [
    "for (empl_id, row) in data.days_off.iterrows():\n",
    "    empl_idx = data.staff.index[data.staff[\"# ID\"] == empl_id][0]\n",
    "    day_idx = row[\"DayIdx\"]\n",
    "    \n",
    "    con = (nurse_view[empl_idx, day_idx] == 0)\n",
    "    \n",
    "    con.set_description(f\"{data.staff.iloc[empl_idx]['name']} should not work on day {day_idx}\")\n",
    "    print(\"-\",con)"
   ]
  },
  {
   "cell_type": "code",
   "execution_count": 18,
   "id": "258210ba",
   "metadata": {
    "slideshow": {
     "slide_type": "subslide"
    }
   },
   "outputs": [
    {
     "data": {
      "text/html": [
       "<style type=\"text/css\">\n",
       "#T_7d219 .data {\n",
       "  text-align: center;\n",
       "}\n",
       "#T_7d219 .col_heading {\n",
       "  text-align: center;\n",
       "}\n",
       "#T_7d219 .col7 {\n",
       "  border-left: 2px solid black;\n",
       "}\n",
       "#T_7d219_row0_col0, #T_7d219_row0_col5, #T_7d219_row0_col6, #T_7d219_row0_col9, #T_7d219_row0_col10, #T_7d219_row1_col5, #T_7d219_row1_col6, #T_7d219_row1_col9, #T_7d219_row1_col10, #T_7d219_row1_col11, #T_7d219_row2_col3, #T_7d219_row2_col4, #T_7d219_row2_col7, #T_7d219_row2_col8, #T_7d219_row2_col12, #T_7d219_row2_col13, #T_7d219_row3_col2, #T_7d219_row3_col3, #T_7d219_row3_col4, #T_7d219_row3_col10, #T_7d219_row3_col11, #T_7d219_row3_col12, #T_7d219_row3_col13, #T_7d219_row4_col0, #T_7d219_row4_col5, #T_7d219_row4_col6, #T_7d219_row4_col9, #T_7d219_row4_col10, #T_7d219_row5_col3, #T_7d219_row5_col4, #T_7d219_row5_col5, #T_7d219_row5_col10, #T_7d219_row5_col11, #T_7d219_row5_col12, #T_7d219_row5_col13, #T_7d219_row6_col0, #T_7d219_row6_col1, #T_7d219_row6_col5, #T_7d219_row6_col6, #T_7d219_row6_col9, #T_7d219_row6_col10, #T_7d219_row7_col2, #T_7d219_row7_col3, #T_7d219_row7_col6, #T_7d219_row7_col7, #T_7d219_row7_col12, #T_7d219_row7_col13 {\n",
       "  border: 1px solid black;\n",
       "  background-color: rgb(141,211,199);\n",
       "}\n",
       "#T_7d219_row0_col1, #T_7d219_row0_col2, #T_7d219_row0_col3, #T_7d219_row0_col4, #T_7d219_row0_col7, #T_7d219_row0_col8, #T_7d219_row0_col11, #T_7d219_row0_col12, #T_7d219_row0_col13, #T_7d219_row1_col0, #T_7d219_row1_col1, #T_7d219_row1_col2, #T_7d219_row1_col3, #T_7d219_row1_col4, #T_7d219_row1_col7, #T_7d219_row1_col8, #T_7d219_row1_col12, #T_7d219_row1_col13, #T_7d219_row2_col0, #T_7d219_row2_col1, #T_7d219_row2_col2, #T_7d219_row2_col5, #T_7d219_row2_col6, #T_7d219_row2_col9, #T_7d219_row2_col10, #T_7d219_row2_col11, #T_7d219_row3_col0, #T_7d219_row3_col1, #T_7d219_row3_col5, #T_7d219_row3_col6, #T_7d219_row3_col7, #T_7d219_row3_col8, #T_7d219_row3_col9, #T_7d219_row4_col1, #T_7d219_row4_col2, #T_7d219_row4_col3, #T_7d219_row4_col4, #T_7d219_row4_col7, #T_7d219_row4_col8, #T_7d219_row4_col11, #T_7d219_row4_col12, #T_7d219_row4_col13, #T_7d219_row5_col0, #T_7d219_row5_col1, #T_7d219_row5_col2, #T_7d219_row5_col6, #T_7d219_row5_col7, #T_7d219_row5_col8, #T_7d219_row5_col9, #T_7d219_row6_col2, #T_7d219_row6_col3, #T_7d219_row6_col4, #T_7d219_row6_col7, #T_7d219_row6_col8, #T_7d219_row6_col11, #T_7d219_row6_col12, #T_7d219_row6_col13, #T_7d219_row7_col0, #T_7d219_row7_col1, #T_7d219_row7_col4, #T_7d219_row7_col5, #T_7d219_row7_col8, #T_7d219_row7_col9, #T_7d219_row7_col10, #T_7d219_row7_col11 {\n",
       "  border: 1px solid black;\n",
       "  background-color: rgb(255,255,179);\n",
       "}\n",
       "</style>\n",
       "<table id=\"T_7d219\">\n",
       "  <thead>\n",
       "    <tr>\n",
       "      <th class=\"blank level0\" >&nbsp;</th>\n",
       "      <th id=\"T_7d219_level0_col0\" class=\"col_heading level0 col0\" colspan=\"7\">Week 1</th>\n",
       "      <th id=\"T_7d219_level0_col7\" class=\"col_heading level0 col7\" colspan=\"7\">Week 2</th>\n",
       "      <th id=\"T_7d219_level0_col14\" class=\"col_heading level0 col14\" >Total shifts</th>\n",
       "    </tr>\n",
       "    <tr>\n",
       "      <th class=\"blank level1\" >&nbsp;</th>\n",
       "      <th id=\"T_7d219_level1_col0\" class=\"col_heading level1 col0\" >Mon</th>\n",
       "      <th id=\"T_7d219_level1_col1\" class=\"col_heading level1 col1\" >Tue</th>\n",
       "      <th id=\"T_7d219_level1_col2\" class=\"col_heading level1 col2\" >Wed</th>\n",
       "      <th id=\"T_7d219_level1_col3\" class=\"col_heading level1 col3\" >Thu</th>\n",
       "      <th id=\"T_7d219_level1_col4\" class=\"col_heading level1 col4\" >Fri</th>\n",
       "      <th id=\"T_7d219_level1_col5\" class=\"col_heading level1 col5\" >Sat</th>\n",
       "      <th id=\"T_7d219_level1_col6\" class=\"col_heading level1 col6\" >Sun</th>\n",
       "      <th id=\"T_7d219_level1_col7\" class=\"col_heading level1 col7\" >Mon</th>\n",
       "      <th id=\"T_7d219_level1_col8\" class=\"col_heading level1 col8\" >Tue</th>\n",
       "      <th id=\"T_7d219_level1_col9\" class=\"col_heading level1 col9\" >Wed</th>\n",
       "      <th id=\"T_7d219_level1_col10\" class=\"col_heading level1 col10\" >Thu</th>\n",
       "      <th id=\"T_7d219_level1_col11\" class=\"col_heading level1 col11\" >Fri</th>\n",
       "      <th id=\"T_7d219_level1_col12\" class=\"col_heading level1 col12\" >Sat</th>\n",
       "      <th id=\"T_7d219_level1_col13\" class=\"col_heading level1 col13\" >Sun</th>\n",
       "      <th id=\"T_7d219_level1_col14\" class=\"col_heading level1 col14\" ></th>\n",
       "    </tr>\n",
       "    <tr>\n",
       "      <th class=\"index_name level0\" >name</th>\n",
       "      <th class=\"blank col0\" >&nbsp;</th>\n",
       "      <th class=\"blank col1\" >&nbsp;</th>\n",
       "      <th class=\"blank col2\" >&nbsp;</th>\n",
       "      <th class=\"blank col3\" >&nbsp;</th>\n",
       "      <th class=\"blank col4\" >&nbsp;</th>\n",
       "      <th class=\"blank col5\" >&nbsp;</th>\n",
       "      <th class=\"blank col6\" >&nbsp;</th>\n",
       "      <th class=\"blank col7\" >&nbsp;</th>\n",
       "      <th class=\"blank col8\" >&nbsp;</th>\n",
       "      <th class=\"blank col9\" >&nbsp;</th>\n",
       "      <th class=\"blank col10\" >&nbsp;</th>\n",
       "      <th class=\"blank col11\" >&nbsp;</th>\n",
       "      <th class=\"blank col12\" >&nbsp;</th>\n",
       "      <th class=\"blank col13\" >&nbsp;</th>\n",
       "      <th class=\"blank col14\" >&nbsp;</th>\n",
       "    </tr>\n",
       "  </thead>\n",
       "  <tbody>\n",
       "    <tr>\n",
       "      <th id=\"T_7d219_level0_row0\" class=\"row_heading level0 row0\" >Megan</th>\n",
       "      <td id=\"T_7d219_row0_col0\" class=\"data row0 col0\" >F</td>\n",
       "      <td id=\"T_7d219_row0_col1\" class=\"data row0 col1\" >D</td>\n",
       "      <td id=\"T_7d219_row0_col2\" class=\"data row0 col2\" >D</td>\n",
       "      <td id=\"T_7d219_row0_col3\" class=\"data row0 col3\" >D</td>\n",
       "      <td id=\"T_7d219_row0_col4\" class=\"data row0 col4\" >D</td>\n",
       "      <td id=\"T_7d219_row0_col5\" class=\"data row0 col5\" >F</td>\n",
       "      <td id=\"T_7d219_row0_col6\" class=\"data row0 col6\" >F</td>\n",
       "      <td id=\"T_7d219_row0_col7\" class=\"data row0 col7\" >D</td>\n",
       "      <td id=\"T_7d219_row0_col8\" class=\"data row0 col8\" >D</td>\n",
       "      <td id=\"T_7d219_row0_col9\" class=\"data row0 col9\" >F</td>\n",
       "      <td id=\"T_7d219_row0_col10\" class=\"data row0 col10\" >F</td>\n",
       "      <td id=\"T_7d219_row0_col11\" class=\"data row0 col11\" >D</td>\n",
       "      <td id=\"T_7d219_row0_col12\" class=\"data row0 col12\" >D</td>\n",
       "      <td id=\"T_7d219_row0_col13\" class=\"data row0 col13\" >D</td>\n",
       "      <td id=\"T_7d219_row0_col14\" class=\"data row0 col14\" >9</td>\n",
       "    </tr>\n",
       "    <tr>\n",
       "      <th id=\"T_7d219_level0_row1\" class=\"row_heading level0 row1\" >Katherine</th>\n",
       "      <td id=\"T_7d219_row1_col0\" class=\"data row1 col0\" >D</td>\n",
       "      <td id=\"T_7d219_row1_col1\" class=\"data row1 col1\" >D</td>\n",
       "      <td id=\"T_7d219_row1_col2\" class=\"data row1 col2\" >D</td>\n",
       "      <td id=\"T_7d219_row1_col3\" class=\"data row1 col3\" >D</td>\n",
       "      <td id=\"T_7d219_row1_col4\" class=\"data row1 col4\" >D</td>\n",
       "      <td id=\"T_7d219_row1_col5\" class=\"data row1 col5\" >F</td>\n",
       "      <td id=\"T_7d219_row1_col6\" class=\"data row1 col6\" >F</td>\n",
       "      <td id=\"T_7d219_row1_col7\" class=\"data row1 col7\" >D</td>\n",
       "      <td id=\"T_7d219_row1_col8\" class=\"data row1 col8\" >D</td>\n",
       "      <td id=\"T_7d219_row1_col9\" class=\"data row1 col9\" >F</td>\n",
       "      <td id=\"T_7d219_row1_col10\" class=\"data row1 col10\" >F</td>\n",
       "      <td id=\"T_7d219_row1_col11\" class=\"data row1 col11\" >F</td>\n",
       "      <td id=\"T_7d219_row1_col12\" class=\"data row1 col12\" >D</td>\n",
       "      <td id=\"T_7d219_row1_col13\" class=\"data row1 col13\" >D</td>\n",
       "      <td id=\"T_7d219_row1_col14\" class=\"data row1 col14\" >9</td>\n",
       "    </tr>\n",
       "    <tr>\n",
       "      <th id=\"T_7d219_level0_row2\" class=\"row_heading level0 row2\" >Robert</th>\n",
       "      <td id=\"T_7d219_row2_col0\" class=\"data row2 col0\" >D</td>\n",
       "      <td id=\"T_7d219_row2_col1\" class=\"data row2 col1\" >D</td>\n",
       "      <td id=\"T_7d219_row2_col2\" class=\"data row2 col2\" >D</td>\n",
       "      <td id=\"T_7d219_row2_col3\" class=\"data row2 col3\" >F</td>\n",
       "      <td id=\"T_7d219_row2_col4\" class=\"data row2 col4\" >F</td>\n",
       "      <td id=\"T_7d219_row2_col5\" class=\"data row2 col5\" >D</td>\n",
       "      <td id=\"T_7d219_row2_col6\" class=\"data row2 col6\" >D</td>\n",
       "      <td id=\"T_7d219_row2_col7\" class=\"data row2 col7\" >F</td>\n",
       "      <td id=\"T_7d219_row2_col8\" class=\"data row2 col8\" >F</td>\n",
       "      <td id=\"T_7d219_row2_col9\" class=\"data row2 col9\" >D</td>\n",
       "      <td id=\"T_7d219_row2_col10\" class=\"data row2 col10\" >D</td>\n",
       "      <td id=\"T_7d219_row2_col11\" class=\"data row2 col11\" >D</td>\n",
       "      <td id=\"T_7d219_row2_col12\" class=\"data row2 col12\" >F</td>\n",
       "      <td id=\"T_7d219_row2_col13\" class=\"data row2 col13\" >F</td>\n",
       "      <td id=\"T_7d219_row2_col14\" class=\"data row2 col14\" >8</td>\n",
       "    </tr>\n",
       "    <tr>\n",
       "      <th id=\"T_7d219_level0_row3\" class=\"row_heading level0 row3\" >Jonathan</th>\n",
       "      <td id=\"T_7d219_row3_col0\" class=\"data row3 col0\" >D</td>\n",
       "      <td id=\"T_7d219_row3_col1\" class=\"data row3 col1\" >D</td>\n",
       "      <td id=\"T_7d219_row3_col2\" class=\"data row3 col2\" >F</td>\n",
       "      <td id=\"T_7d219_row3_col3\" class=\"data row3 col3\" >F</td>\n",
       "      <td id=\"T_7d219_row3_col4\" class=\"data row3 col4\" >F</td>\n",
       "      <td id=\"T_7d219_row3_col5\" class=\"data row3 col5\" >D</td>\n",
       "      <td id=\"T_7d219_row3_col6\" class=\"data row3 col6\" >D</td>\n",
       "      <td id=\"T_7d219_row3_col7\" class=\"data row3 col7\" >D</td>\n",
       "      <td id=\"T_7d219_row3_col8\" class=\"data row3 col8\" >D</td>\n",
       "      <td id=\"T_7d219_row3_col9\" class=\"data row3 col9\" >D</td>\n",
       "      <td id=\"T_7d219_row3_col10\" class=\"data row3 col10\" >F</td>\n",
       "      <td id=\"T_7d219_row3_col11\" class=\"data row3 col11\" >F</td>\n",
       "      <td id=\"T_7d219_row3_col12\" class=\"data row3 col12\" >F</td>\n",
       "      <td id=\"T_7d219_row3_col13\" class=\"data row3 col13\" >F</td>\n",
       "      <td id=\"T_7d219_row3_col14\" class=\"data row3 col14\" >7</td>\n",
       "    </tr>\n",
       "    <tr>\n",
       "      <th id=\"T_7d219_level0_row4\" class=\"row_heading level0 row4\" >William</th>\n",
       "      <td id=\"T_7d219_row4_col0\" class=\"data row4 col0\" >F</td>\n",
       "      <td id=\"T_7d219_row4_col1\" class=\"data row4 col1\" >D</td>\n",
       "      <td id=\"T_7d219_row4_col2\" class=\"data row4 col2\" >D</td>\n",
       "      <td id=\"T_7d219_row4_col3\" class=\"data row4 col3\" >D</td>\n",
       "      <td id=\"T_7d219_row4_col4\" class=\"data row4 col4\" >D</td>\n",
       "      <td id=\"T_7d219_row4_col5\" class=\"data row4 col5\" >F</td>\n",
       "      <td id=\"T_7d219_row4_col6\" class=\"data row4 col6\" >F</td>\n",
       "      <td id=\"T_7d219_row4_col7\" class=\"data row4 col7\" >D</td>\n",
       "      <td id=\"T_7d219_row4_col8\" class=\"data row4 col8\" >D</td>\n",
       "      <td id=\"T_7d219_row4_col9\" class=\"data row4 col9\" >F</td>\n",
       "      <td id=\"T_7d219_row4_col10\" class=\"data row4 col10\" >F</td>\n",
       "      <td id=\"T_7d219_row4_col11\" class=\"data row4 col11\" >D</td>\n",
       "      <td id=\"T_7d219_row4_col12\" class=\"data row4 col12\" >D</td>\n",
       "      <td id=\"T_7d219_row4_col13\" class=\"data row4 col13\" >D</td>\n",
       "      <td id=\"T_7d219_row4_col14\" class=\"data row4 col14\" >9</td>\n",
       "    </tr>\n",
       "    <tr>\n",
       "      <th id=\"T_7d219_level0_row5\" class=\"row_heading level0 row5\" >Richard</th>\n",
       "      <td id=\"T_7d219_row5_col0\" class=\"data row5 col0\" >D</td>\n",
       "      <td id=\"T_7d219_row5_col1\" class=\"data row5 col1\" >D</td>\n",
       "      <td id=\"T_7d219_row5_col2\" class=\"data row5 col2\" >D</td>\n",
       "      <td id=\"T_7d219_row5_col3\" class=\"data row5 col3\" >F</td>\n",
       "      <td id=\"T_7d219_row5_col4\" class=\"data row5 col4\" >F</td>\n",
       "      <td id=\"T_7d219_row5_col5\" class=\"data row5 col5\" >F</td>\n",
       "      <td id=\"T_7d219_row5_col6\" class=\"data row5 col6\" >D</td>\n",
       "      <td id=\"T_7d219_row5_col7\" class=\"data row5 col7\" >D</td>\n",
       "      <td id=\"T_7d219_row5_col8\" class=\"data row5 col8\" >D</td>\n",
       "      <td id=\"T_7d219_row5_col9\" class=\"data row5 col9\" >D</td>\n",
       "      <td id=\"T_7d219_row5_col10\" class=\"data row5 col10\" >F</td>\n",
       "      <td id=\"T_7d219_row5_col11\" class=\"data row5 col11\" >F</td>\n",
       "      <td id=\"T_7d219_row5_col12\" class=\"data row5 col12\" >F</td>\n",
       "      <td id=\"T_7d219_row5_col13\" class=\"data row5 col13\" >F</td>\n",
       "      <td id=\"T_7d219_row5_col14\" class=\"data row5 col14\" >7</td>\n",
       "    </tr>\n",
       "    <tr>\n",
       "      <th id=\"T_7d219_level0_row6\" class=\"row_heading level0 row6\" >Kristen</th>\n",
       "      <td id=\"T_7d219_row6_col0\" class=\"data row6 col0\" >F</td>\n",
       "      <td id=\"T_7d219_row6_col1\" class=\"data row6 col1\" >F</td>\n",
       "      <td id=\"T_7d219_row6_col2\" class=\"data row6 col2\" >D</td>\n",
       "      <td id=\"T_7d219_row6_col3\" class=\"data row6 col3\" >D</td>\n",
       "      <td id=\"T_7d219_row6_col4\" class=\"data row6 col4\" >D</td>\n",
       "      <td id=\"T_7d219_row6_col5\" class=\"data row6 col5\" >F</td>\n",
       "      <td id=\"T_7d219_row6_col6\" class=\"data row6 col6\" >F</td>\n",
       "      <td id=\"T_7d219_row6_col7\" class=\"data row6 col7\" >D</td>\n",
       "      <td id=\"T_7d219_row6_col8\" class=\"data row6 col8\" >D</td>\n",
       "      <td id=\"T_7d219_row6_col9\" class=\"data row6 col9\" >F</td>\n",
       "      <td id=\"T_7d219_row6_col10\" class=\"data row6 col10\" >F</td>\n",
       "      <td id=\"T_7d219_row6_col11\" class=\"data row6 col11\" >D</td>\n",
       "      <td id=\"T_7d219_row6_col12\" class=\"data row6 col12\" >D</td>\n",
       "      <td id=\"T_7d219_row6_col13\" class=\"data row6 col13\" >D</td>\n",
       "      <td id=\"T_7d219_row6_col14\" class=\"data row6 col14\" >8</td>\n",
       "    </tr>\n",
       "    <tr>\n",
       "      <th id=\"T_7d219_level0_row7\" class=\"row_heading level0 row7\" >Kevin</th>\n",
       "      <td id=\"T_7d219_row7_col0\" class=\"data row7 col0\" >D</td>\n",
       "      <td id=\"T_7d219_row7_col1\" class=\"data row7 col1\" >D</td>\n",
       "      <td id=\"T_7d219_row7_col2\" class=\"data row7 col2\" >F</td>\n",
       "      <td id=\"T_7d219_row7_col3\" class=\"data row7 col3\" >F</td>\n",
       "      <td id=\"T_7d219_row7_col4\" class=\"data row7 col4\" >D</td>\n",
       "      <td id=\"T_7d219_row7_col5\" class=\"data row7 col5\" >D</td>\n",
       "      <td id=\"T_7d219_row7_col6\" class=\"data row7 col6\" >F</td>\n",
       "      <td id=\"T_7d219_row7_col7\" class=\"data row7 col7\" >F</td>\n",
       "      <td id=\"T_7d219_row7_col8\" class=\"data row7 col8\" >D</td>\n",
       "      <td id=\"T_7d219_row7_col9\" class=\"data row7 col9\" >D</td>\n",
       "      <td id=\"T_7d219_row7_col10\" class=\"data row7 col10\" >D</td>\n",
       "      <td id=\"T_7d219_row7_col11\" class=\"data row7 col11\" >D</td>\n",
       "      <td id=\"T_7d219_row7_col12\" class=\"data row7 col12\" >F</td>\n",
       "      <td id=\"T_7d219_row7_col13\" class=\"data row7 col13\" >F</td>\n",
       "      <td id=\"T_7d219_row7_col14\" class=\"data row7 col14\" >8</td>\n",
       "    </tr>\n",
       "    <tr>\n",
       "      <th id=\"T_7d219_level0_row8\" class=\"row_heading level0 row8\" >Cover D</th>\n",
       "      <td id=\"T_7d219_row8_col0\" class=\"data row8 col0\" >5/5</td>\n",
       "      <td id=\"T_7d219_row8_col1\" class=\"data row8 col1\" >7/7</td>\n",
       "      <td id=\"T_7d219_row8_col2\" class=\"data row8 col2\" >6/6</td>\n",
       "      <td id=\"T_7d219_row8_col3\" class=\"data row8 col3\" >4/4</td>\n",
       "      <td id=\"T_7d219_row8_col4\" class=\"data row8 col4\" >5/5</td>\n",
       "      <td id=\"T_7d219_row8_col5\" class=\"data row8 col5\" >3/5</td>\n",
       "      <td id=\"T_7d219_row8_col6\" class=\"data row8 col6\" >3/5</td>\n",
       "      <td id=\"T_7d219_row8_col7\" class=\"data row8 col7\" >6/6</td>\n",
       "      <td id=\"T_7d219_row8_col8\" class=\"data row8 col8\" >7/7</td>\n",
       "      <td id=\"T_7d219_row8_col9\" class=\"data row8 col9\" >4/4</td>\n",
       "      <td id=\"T_7d219_row8_col10\" class=\"data row8 col10\" >2/2</td>\n",
       "      <td id=\"T_7d219_row8_col11\" class=\"data row8 col11\" >5/5</td>\n",
       "      <td id=\"T_7d219_row8_col12\" class=\"data row8 col12\" >4/6</td>\n",
       "      <td id=\"T_7d219_row8_col13\" class=\"data row8 col13\" >4/4</td>\n",
       "      <td id=\"T_7d219_row8_col14\" class=\"data row8 col14\" >14</td>\n",
       "    </tr>\n",
       "  </tbody>\n",
       "</table>\n"
      ],
      "text/plain": [
       "<pandas.io.formats.style.Styler at 0x18c3187ce80>"
      ]
     },
     "execution_count": 18,
     "metadata": {},
     "output_type": "execute_result"
    }
   ],
   "source": [
    "visualize(nurse_view.value(), factory)"
   ]
  },
  {
   "cell_type": "markdown",
   "id": "2b439ce6",
   "metadata": {
    "slideshow": {
     "slide_type": "slide"
    }
   },
   "source": [
    "# Explainable constraint solving"
   ]
  },
  {
   "cell_type": "markdown",
   "id": "54aeef22",
   "metadata": {
    "slideshow": {
     "slide_type": "slide"
    }
   },
   "source": [
    "## Model + Solve\n",
    "\n",
    "<center><img src=\"img/model_solve.png\" width=70%></center>"
   ]
  },
  {
   "cell_type": "markdown",
   "id": "4d8812f8",
   "metadata": {
    "slideshow": {
     "slide_type": "fragment"
    }
   },
   "source": [
    "- What if the model is UNSAT?\n",
    "- What if the solution is unexpected?\n",
    "- What if the user wants to change something?"
   ]
  },
  {
   "cell_type": "markdown",
   "id": "97c6abc8",
   "metadata": {
    "slideshow": {
     "slide_type": "fragment"
    }
   },
   "source": [
    "--> Trustworthy & Explainable AI"
   ]
  },
  {
   "cell_type": "markdown",
   "id": "5eba7965",
   "metadata": {
    "slideshow": {
     "slide_type": "slide"
    }
   },
   "source": [
    "## Trustworthy & Explainable constraint solving\n",
    "\n",
    "Human-aware AI:\n",
    "\n",
    "- Respect human _agency_\n",
    "- _Support_ users in decision making\n",
    "- Provide explanations and learning opportunities"
   ]
  },
  {
   "cell_type": "markdown",
   "id": "20da5dc9",
   "metadata": {
    "slideshow": {
     "slide_type": "fragment"
    }
   },
   "source": [
    "Acknowledges that a 'model' is only an approximation,<br />\n",
    "that it might result in _undesirable_ solutions."
   ]
  },
  {
   "cell_type": "markdown",
   "id": "92b7b25e",
   "metadata": {
    "slideshow": {
     "slide_type": "slide"
    }
   },
   "source": [
    "### Explainable AI (XAI), brief highlights\n",
    "\n",
    "#### D. Gunning, 2015: DARPA XAI challenge\n",
    "\"Every explanation is set within a context that depends...\" <!-- on the task, abilities, and expectations of the user of the AI system.\" --> -> domain dependent\n",
    "\n",
    "#### M. Fox et al, 2017: Explainable Planning\n",
    "\n",
    "Need for trust, interaction and transparancy.\n",
    "\n",
    "#### T. Miller, 2018: Explainable AI: Beware of Inmates Running the Asylum\n",
    "\n",
    "Insights from the social sciences: _Someone_ explains _something_ to _someone_\n",
    "\n",
    "#### R. Guidotti, 2018: A survey of methods for explaining black box ML models\n",
    "\n",
    "The vast majority of work/attention..."
   ]
  },
  {
   "cell_type": "markdown",
   "id": "6b1439d5",
   "metadata": {
    "slideshow": {
     "slide_type": "slide"
    }
   },
   "source": [
    "## Explainable Constraint Programming (XCP)\n",
    "\n",
    "In general, \"**Why X?**\" &nbsp;&nbsp;&nbsp;&nbsp;&nbsp;&nbsp; (with X a solution or UNSAT)\n",
    "\n",
    "To be defined... 3 patterns:\n",
    "- Causal explanation:\n",
    "  - _How was X derived?_\n",
    "- Contrastive explanation:\n",
    "  - _Why X and not Z?_\n",
    "- Conversational explanation:\n",
    "  - _Iteratively refine explanation & model_\n"
   ]
  },
  {
   "cell_type": "markdown",
   "id": "73324428",
   "metadata": {
    "slideshow": {
     "slide_type": "subslide"
    }
   },
   "source": [
    "## Hands-on Explainable Constraint Programming (XCP)\n",
    "\n",
    "\n",
    "<img src=\"img/interaction_figure4.png\" width=\"20%\" align=\"right\" style=\"margin:50px;\">\n",
    "\n",
    "- The model: Nurse Rostering\n",
    "- The system: CPMpy modeling library\n",
    "- **Explain UNSAT**:\n",
    "  - **Causal explanations (MUS, OUS)**\n",
    "  - Conversational explanations"
   ]
  },
  {
   "cell_type": "code",
   "execution_count": null,
   "id": "7fd40e92",
   "metadata": {
    "slideshow": {
     "slide_type": "subslide"
    }
   },
   "outputs": [],
   "source": [
    "# model as decision model\n",
    "factory = NurseSchedulingFactory(data)\n",
    "model, nurse_view = factory.get_decision_model()  # CMPpy DECISION Model\n",
    "model.solve()"
   ]
  },
  {
   "cell_type": "markdown",
   "id": "756b341f",
   "metadata": {
    "slideshow": {
     "slide_type": "fragment"
    }
   },
   "source": [
    "... no solution found"
   ]
  },
  {
   "cell_type": "code",
   "execution_count": null,
   "id": "e8ed7ec1",
   "metadata": {
    "slideshow": {
     "slide_type": "slide"
    }
   },
   "outputs": [],
   "source": [
    "constraints = toplevel_list(model.constraints, merge_and=False) # normalization for later\n",
    "print(f\"Model has {len(constraints)} constraints:\")\n",
    "for cons in constraints: print(\"-\", cons)"
   ]
  },
  {
   "cell_type": "markdown",
   "id": "6137049d",
   "metadata": {
    "slideshow": {
     "slide_type": "slide"
    }
   },
   "source": [
    "<img src=\"img/mus.png\" width=\"20%\" align=\"left\" style=\"margin:50px;\">\n",
    "\n",
    "Trim model to minimal set of constraints\n",
    "\n",
    "... minimize cognitive burden for user\n"
   ]
  },
  {
   "cell_type": "markdown",
   "id": "125fe5eb",
   "metadata": {
    "slideshow": {
     "slide_type": "subslide"
    }
   },
   "source": [
    "### How to compute a MUS?\n",
    "\n",
    "CPMpy implements a deletion-based MUS algorithm,using assumption variables\n",
    "\n",
    "* `cpmpy.tools.mus`"
   ]
  },
  {
   "cell_type": "code",
   "execution_count": null,
   "id": "25e776dd",
   "metadata": {
    "slideshow": {
     "slide_type": "subslide"
    }
   },
   "outputs": [],
   "source": [
    "from cpmpy.tools.mus import mus\n",
    "\n",
    "solver = \"ortools\"\n",
    "subset = mus(model.constraints, solver=solver) \n",
    "\n",
    "print(\"Length of MUS:\", len(subset))\n",
    "for cons in subset: print(\"-\", cons)"
   ]
  },
  {
   "cell_type": "code",
   "execution_count": null,
   "id": "ca004a89",
   "metadata": {
    "slideshow": {
     "slide_type": "subslide"
    }
   },
   "outputs": [],
   "source": [
    "visualize_constraints(subset, nurse_view, factory)"
   ]
  },
  {
   "cell_type": "markdown",
   "id": "b8f2d226",
   "metadata": {
    "slideshow": {
     "slide_type": "slide"
    }
   },
   "source": [
    "### Many MUS'es may exist...\n",
    "\n",
    "_Liffiton, M.H., & Malik, A. (2013). Enumerating infeasibility: Finding multiple MUSes quickly. In\n",
    "Proceedings of the 10th International Conference on Integration of AI and OR Techniques in Constraint\n",
    "    Programming (CPAIOR 2013) (pp. 160–175)_"
   ]
  },
  {
   "cell_type": "code",
   "execution_count": null,
   "id": "73de8aa6",
   "metadata": {
    "slideshow": {
     "slide_type": "subslide"
    }
   },
   "outputs": [],
   "source": [
    "# MARCO MUS/MSS enumeration\n",
    "from explanations.marco_mcs_mus import do_marco\n",
    "solver = \"ortools\"  # default solver\n",
    "if \"exact\" in cp.SolverLookup.solvernames(): solver = \"exact\"  # fast for increment solving\n",
    "    \n",
    "t0 = time.time()\n",
    "cnt = 0\n",
    "for (kind, sset) in do_marco(model, solver=solver):\n",
    "    if kind == \"MUS\":\n",
    "        print(\"M\", end=\"\")\n",
    "        cnt += 1\n",
    "    else: print(\".\", end=\"\") # MSS\n",
    "    \n",
    "    if time.time() - t0 > 20:  break  # for tutorial: break after 20s\n",
    "print(f\"\\nFound {cnt} MUSes in\", time.time() - t0)\n"
   ]
  },
  {
   "cell_type": "markdown",
   "id": "7bfcae1e",
   "metadata": {
    "slideshow": {
     "slide_type": "subslide"
    }
   },
   "source": [
    "### Many MUS'es may exist...\n",
    "\n",
    "<img src=\"img/musses.png\" width=\"40%\" align=\"left\" style=\"margin-left:50px; margin-right:50px\">\n",
    "\n",
    "This problem has just 168 constraints, yet 100.000+ MUSes exist...\n",
    "\n",
    "Which one to show? \n",
    "\n",
    "In explanations less is more, so lets find the **smallest one directly!**"
   ]
  },
  {
   "cell_type": "markdown",
   "id": "03df7b0f",
   "metadata": {
    "slideshow": {
     "slide_type": "fragment"
    }
   },
   "source": [
    "> Ignatiev, Alexey, et al. \"Smallest MUS extraction with minimal hitting set dualization.\" International Conference on Principles and Practice of Constraint Programming. Cham: Springer International Publishing, 2015."
   ]
  },
  {
   "cell_type": "code",
   "execution_count": null,
   "id": "beea330d",
   "metadata": {
    "slideshow": {
     "slide_type": "slide"
    }
   },
   "outputs": [],
   "source": [
    "from explanations.subset import smus\n",
    "\n",
    "small_subset = smus(model.constraints, solver=\"ortools\", hs_solver=\"gurobi\")\n",
    "\n",
    "print(\"Length of sMUS:\", len(small_subset))\n",
    "for cons in small_subset:  \n",
    "    print(\"-\", cons)"
   ]
  },
  {
   "cell_type": "code",
   "execution_count": null,
   "id": "327a57fe",
   "metadata": {
    "slideshow": {
     "slide_type": "subslide"
    }
   },
   "outputs": [],
   "source": [
    "visualize_constraints(small_subset, nurse_view, factory)"
   ]
  },
  {
   "cell_type": "markdown",
   "id": "59b6d4f8",
   "metadata": {
    "slideshow": {
     "slide_type": "slide"
    }
   },
   "source": [
    "<img src=\"img/nowwhat.gif\" width=\"40%\" align=\"right\" style=\"margin-left:50px; margin-right:50px\">\n",
    "\n",
    "... We found a conflict!\n",
    "\n",
    "Now what?\n",
    "\n",
    "Let's correct it!\n",
    "\n",
    "How? \n",
    "\n",
    "**First idea:** remove one of the constraints in the conflict"
   ]
  },
  {
   "cell_type": "markdown",
   "id": "c52b5a16",
   "metadata": {
    "slideshow": {
     "slide_type": "fragment"
    }
   },
   "source": [
    "Let's illustrate with graph coloring example"
   ]
  },
  {
   "cell_type": "code",
   "execution_count": null,
   "id": "434b880c",
   "metadata": {
    "slideshow": {
     "slide_type": "subslide"
    }
   },
   "outputs": [],
   "source": [
    "graph_model, nodes = graph_coloring(G)\n",
    "graph_model.solve()"
   ]
  },
  {
   "cell_type": "code",
   "execution_count": null,
   "id": "86d1eb07",
   "metadata": {
    "slideshow": {
     "slide_type": "fragment"
    }
   },
   "outputs": [],
   "source": [
    "from explanations.subset import smus\n",
    "\n",
    "graph_model += cp.max(nodes) < 3\n",
    "graph_model.solve()"
   ]
  },
  {
   "cell_type": "code",
   "execution_count": null,
   "id": "4be8fe33",
   "metadata": {
    "slideshow": {
     "slide_type": "fragment"
    }
   },
   "outputs": [],
   "source": [
    "conflict = smus(graph_model.constraints)\n",
    "for cons in conflict:\n",
    "    print(\"-\", cons)"
   ]
  },
  {
   "cell_type": "code",
   "execution_count": null,
   "id": "e2a6eba1",
   "metadata": {
    "slideshow": {
     "slide_type": "subslide"
    }
   },
   "outputs": [],
   "source": [
    "draw_conflict(G,conflict, node_color=color_map, with_labels=True)"
   ]
  },
  {
   "cell_type": "code",
   "execution_count": null,
   "id": "ed12e974",
   "metadata": {
    "slideshow": {
     "slide_type": "subslide"
    }
   },
   "outputs": [],
   "source": [
    "new_G = remove_edge(G, conflict[0])\n",
    "draw(new_G, node_color=color_map, with_labels=True)"
   ]
  },
  {
   "cell_type": "code",
   "execution_count": null,
   "id": "8e12885c",
   "metadata": {
    "slideshow": {
     "slide_type": "subslide"
    }
   },
   "outputs": [],
   "source": [
    "new_model, nodes = graph_coloring(new_G)\n",
    "new_model += cp.max(nodes) < 3\n",
    "new_model.solve()"
   ]
  },
  {
   "cell_type": "markdown",
   "id": "154ff3a4",
   "metadata": {
    "slideshow": {
     "slide_type": "fragment"
    }
   },
   "source": [
    "... still UNSAT\n",
    "\n",
    "Remember, MANY conflics may exist..."
   ]
  },
  {
   "cell_type": "code",
   "execution_count": null,
   "id": "8a634c07",
   "metadata": {
    "slideshow": {
     "slide_type": "subslide"
    }
   },
   "outputs": [],
   "source": [
    "conflict = smus(new_model.constraints, solver=\"ortools\", hs_solver=\"gurobi\")\n",
    "draw_conflict(new_G,conflict, node_color=color_map, with_labels=True)"
   ]
  },
  {
   "cell_type": "markdown",
   "id": "995cd2d8",
   "metadata": {
    "slideshow": {
     "slide_type": "subslide"
    }
   },
   "source": [
    "...rinse and repeat?\n",
    "\n",
    "**NO**\n",
    "\n",
    "Find a way to correct the model in one step!"
   ]
  },
  {
   "cell_type": "markdown",
   "id": "90a30b47",
   "metadata": {
    "slideshow": {
     "slide_type": "slide"
    }
   },
   "source": [
    "## Fixing UNSAT Models\n",
    "\n",
    "\n",
    "<img src=\"img/fixing_mcs.png\" width=\"20%\" align=\"left\" style=\"margin:50px;\">\n",
    "\n",
    "How to **change the model**, in order to find a solution?\n",
    "\n",
    "find subset of _soft constraints_ to keep <br> \n",
    "= <br>\n",
    "find constraints to be **removed**, e.g. remove a correction subset! "
   ]
  },
  {
   "cell_type": "markdown",
   "id": "019e2dd3",
   "metadata": {
    "slideshow": {
     "slide_type": "subslide"
    }
   },
   "source": [
    "### Fixing UNSAT Models\n",
    "\n",
    "<img src=\"img/mcs.png\" width=\"20%\" align=\"left\" style=\"margin:50px;\">\n",
    "\n",
    "Find maximal satisfiable subset (MSS) and take complement"
   ]
  },
  {
   "cell_type": "code",
   "execution_count": null,
   "id": "b358aed0",
   "metadata": {
    "slideshow": {
     "slide_type": "subslide"
    }
   },
   "outputs": [],
   "source": [
    "from explanations.subset import mcs  # using assumption variables\n",
    "constraints = list(reversed(graph_model.constraints))\n",
    "\n",
    "corr_subset = mcs(constraints)\n",
    "\n",
    "print(corr_subset)\n",
    "draw_conflict(G,corr_subset, node_color=color_map, with_labels=True)"
   ]
  },
  {
   "cell_type": "markdown",
   "id": "fe911068",
   "metadata": {
    "slideshow": {
     "slide_type": "slide"
    }
   },
   "source": [
    "## Fixing UNSAT models - Nurse rostering"
   ]
  },
  {
   "cell_type": "code",
   "execution_count": null,
   "id": "512b1ace",
   "metadata": {
    "slideshow": {
     "slide_type": "fragment"
    }
   },
   "outputs": [],
   "source": [
    "# model as decision model\n",
    "factory = NurseSchedulingFactory(data)\n",
    "model, nurse_view = factory.get_decision_model()  # CMPpy DECISION Model\n",
    "model.solve()"
   ]
  },
  {
   "cell_type": "code",
   "execution_count": null,
   "id": "92875aed",
   "metadata": {
    "slideshow": {
     "slide_type": "subslide"
    }
   },
   "outputs": [],
   "source": [
    "corr_subset = mcs(model.constraints)\n",
    "\n",
    "print(\"By removing these constraints, the model becomes SAT:\")\n",
    "for cons in corr_subset: print(\"-\",cons)\n",
    "    \n",
    "visualize_constraints(corr_subset, nurse_view, factory)"
   ]
  },
  {
   "cell_type": "code",
   "execution_count": null,
   "id": "3be2493b",
   "metadata": {
    "slideshow": {
     "slide_type": "subslide"
    }
   },
   "outputs": [],
   "source": [
    "mss = set(toplevel_list(model.constraints, merge_and=False)) - set(corr_subset)\n",
    "        \n",
    "corrected_model = cp.Model(list(mss))\n",
    "assert corrected_model.solve()\n",
    "\n",
    "visualize(nurse_view.value(), factory)"
   ]
  },
  {
   "cell_type": "markdown",
   "id": "71438dff",
   "metadata": {
    "slideshow": {
     "slide_type": "slide"
    }
   },
   "source": [
    "## Fixing UNSAT Models\n",
    "\n",
    "_Removing_ constraints from the model is drastic...\n",
    "\n",
    "In the previous solution, no nurses on Sunday? What if you break your leg that day?\n",
    "\n",
    "<br>\n",
    "\n",
    "<img src=\"img/fixing_mcs.png\" width=\"20%\" align=\"right\" style=\"margin:50px;\">\n",
    "\n",
    "Second idea:\n",
    "\n",
    "Slightly **violate** constraints which allows for **relaxation** of constraints\n",
    "\n",
    "E.g. **feasbility restoration** by modifying rather then removing constraints"
   ]
  },
  {
   "cell_type": "markdown",
   "id": "d61c5d62",
   "metadata": {
    "slideshow": {
     "slide_type": "subslide"
    }
   },
   "source": [
    "### Relaxation of constraints\n",
    "\n",
    "<img src=\"img/slack.png\" width=\"20%\" align=\"left\" style=\"margin:20px;\">\n",
    "\n",
    "* Boolean constraints can only be turned on/off\n",
    "* Numerical constraints can be __violated__ to some extend\n",
    "* Introduce slack for each numerical constraint\n",
    "* Slack indicates how much a constraint may be violated\n",
    "   - = fine grained penalty of solution!\n",
    "* Minimize aggregate of slack values"
   ]
  },
  {
   "cell_type": "markdown",
   "id": "013a684b",
   "metadata": {
    "slideshow": {
     "slide_type": "-"
    }
   },
   "source": [
    "> Senthooran I, Klapperstueck M, Belov G, Czauderna T, Leo K, Wallace M, Wybrow M, Garcia de la Banda M. Human-centred feasibility restoration in practice. Constraints. 2023 Jul 20:1-41."
   ]
  },
  {
   "cell_type": "markdown",
   "id": "f52d9139",
   "metadata": {
    "slideshow": {
     "slide_type": "subslide"
    }
   },
   "source": [
    "### Relaxation of constraints\n",
    "\n",
    "<img src=\"img/slack.png\" width=\"20%\" align=\"left\" style=\"margin:20px;\">\n",
    "\n",
    "E.g., allow violation of _cover constraints_ <br>\n",
    "    --> Allow shifts to be slightly under/overstaffed"
   ]
  },
  {
   "cell_type": "code",
   "execution_count": null,
   "id": "d5cfe230",
   "metadata": {
    "slideshow": {
     "slide_type": "subslide"
    }
   },
   "outputs": [],
   "source": [
    "slack_model, slack_nurse_view, slack_under, slack_over = factory.get_slack_model()  # CMPpy Model\n",
    "\n",
    "for _, cover in factory.data.cover.iterrows():\n",
    "    # read the data\n",
    "    day = cover[\"# Day\"]\n",
    "    shift = factory.shift_name_to_idx[cover[\"ShiftID\"]]\n",
    "    requirement = cover[\"Requirement\"]\n",
    "    \n",
    "    nb_nurses = cp.Count(nurse_view[:, day], shift)\n",
    "    expr = nb_nurses == requirement - slack_under[day] + slack_over[day]"
   ]
  },
  {
   "cell_type": "markdown",
   "id": "8ea1590d",
   "metadata": {
    "slideshow": {
     "slide_type": "subslide"
    }
   },
   "source": [
    "#### Minimize global violation"
   ]
  },
  {
   "cell_type": "code",
   "execution_count": null,
   "id": "d88baede",
   "metadata": {
    "slideshow": {
     "slide_type": "-"
    }
   },
   "outputs": [],
   "source": [
    "slack_model, slack_nurse_view, slack_under, slack_over = factory.get_slack_model()  # CMPpy Model\n",
    "slack = cp.cpm_array(np.append(slack_under, slack_over))"
   ]
  },
  {
   "cell_type": "code",
   "execution_count": null,
   "id": "05806467",
   "metadata": {
    "slideshow": {
     "slide_type": "fragment"
    }
   },
   "outputs": [],
   "source": [
    "slack_model.minimize(cp.sum(slack)) # minimize global violation\n",
    "\n",
    "assert slack_model.solve()\n",
    "style = visualize(slack_nurse_view.value(), factory, highlight_cover=True)\n",
    "style.data.loc[\"Slack under\"] = list(slack_under.value()) + [\" \"]\n",
    "style.data.loc[\"Slack over\"] = list(slack_over.value()) + [\" \"]\n",
    "display(style)"
   ]
  },
  {
   "cell_type": "markdown",
   "id": "0b9baa8d",
   "metadata": {
    "slideshow": {
     "slide_type": "subslide"
    }
   },
   "source": [
    "#### Minimize maximum violation"
   ]
  },
  {
   "cell_type": "code",
   "execution_count": null,
   "id": "eae98f6c",
   "metadata": {
    "slideshow": {
     "slide_type": "-"
    }
   },
   "outputs": [],
   "source": [
    "slack_model.minimize(cp.max(slack)) # minimize max violation\n",
    " \n",
    "assert slack_model.solve() \n",
    "style = visualize(slack_nurse_view.value(), factory, highlight_cover=True)\n",
    "style.data.loc[\"Slack under\"] = list(slack_under.value()) + [\" \"]\n",
    "style.data.loc[\"Slack over\"] = list(slack_over.value()) + [\" \"]\n",
    "display(style)"
   ]
  },
  {
   "cell_type": "markdown",
   "id": "c5a446f6",
   "metadata": {
    "slideshow": {
     "slide_type": "subslide"
    }
   },
   "source": [
    "#### Minimize nb of violations"
   ]
  },
  {
   "cell_type": "code",
   "execution_count": null,
   "id": "235a608f",
   "metadata": {},
   "outputs": [],
   "source": [
    "slack_model.minimize(cp.sum(slack != 0)) # minimize nb of violated constraints\n",
    " \n",
    "assert slack_model.solve()\n",
    "style = visualize(slack_nurse_view.value(), factory, highlight_cover=True)\n",
    "style.data.loc[\"Slack under\"] = list(slack_under.value()) + [\" \"]\n",
    "style.data.loc[\"Slack over\"] = list(slack_over.value()) + [\" \"]\n",
    "display(style)"
   ]
  },
  {
   "cell_type": "markdown",
   "id": "a4cf4534",
   "metadata": {
    "slideshow": {
     "slide_type": "subslide"
    }
   },
   "source": [
    "#### Or any combination"
   ]
  },
  {
   "cell_type": "code",
   "execution_count": null,
   "id": "d5ea0fb6",
   "metadata": {
    "slideshow": {
     "slide_type": "-"
    }
   },
   "outputs": [],
   "source": [
    "obj1 = cp.max(slack)       # minimize max violation\n",
    "obj2 = cp.sum(slack != 0)  # minimize nb of violations\n",
    "obj3 = cp.sum(slack)       # minimize global violation\n",
    "\n",
    "slack_model.minimize(10000 * obj1 + 1000 * obj2 + obj3) # multi-objective optimization\n",
    "\n",
    "assert slack_model.solve()\n",
    "style = visualize(slack_nurse_view.value(), factory, highlight_cover=True)\n",
    "style.data.loc[\"Slack under\"] = list(slack_under.value()) + [\" \"]\n",
    "style.data.loc[\"Slack over\"] = list(slack_over.value()) + [\" \"]\n",
    "display(style)"
   ]
  },
  {
   "cell_type": "markdown",
   "id": "d3a325de",
   "metadata": {
    "slideshow": {
     "slide_type": "slide"
    }
   },
   "source": [
    "## Conclusions\n",
    "\n",
    "#### Explainable Constraint solving:\n",
    "- can optimally solve many real-world problems\n",
    "- constraint based methods are interpretable\n",
    " - good fit for explainable AI\n",
    " - different patterns of explanations"
   ]
  }
 ],
 "metadata": {
  "celltoolbar": "Slideshow",
  "kernelspec": {
   "display_name": "Python 3 (ipykernel)",
   "language": "python",
   "name": "python3"
  },
  "language_info": {
   "codemirror_mode": {
    "name": "ipython",
    "version": 3
   },
   "file_extension": ".py",
   "mimetype": "text/x-python",
   "name": "python",
   "nbconvert_exporter": "python",
   "pygments_lexer": "ipython3",
   "version": "3.9.13"
  }
 },
 "nbformat": 4,
 "nbformat_minor": 5
}
