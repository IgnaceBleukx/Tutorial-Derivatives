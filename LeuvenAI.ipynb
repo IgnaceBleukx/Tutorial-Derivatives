{
 "cells": [
  {
   "cell_type": "code",
   "execution_count": null,
   "id": "53e7143f",
   "metadata": {},
   "outputs": [],
   "source": [
    "## sneaky imports and redefinitions\n",
    "import networkx as nx\n",
    "import matplotlib.pyplot as plt\n",
    "import cpmpy as cp\n",
    "import time\n",
    "import copy\n",
    "draw = nx.draw_circular\n",
    "\n",
    "cmap = [\"yellow\", \"cyan\", \"lightgreen\"]\n",
    "import re\n",
    "\n",
    "from cpmpy.expressions.core import Comparison\n",
    "def remove_edge(graph, constraint):\n",
    "    graph = copy.deepcopy(graph)\n",
    "    \n",
    "    assert isinstance(constraint, Comparison)\n",
    "    n1, n2 = constraint.args\n",
    "    a = int(re.search(\"\\[[0-9]*\\]\", str(n1)).group()[1:-1])\n",
    "    b = int(re.search(\"\\[[0-9]*\\]\", str(n2)).group()[1:-1])\n",
    "    graph.remove_edge(a,b)\n",
    "    return graph\n",
    "\n",
    "def draw_conflict(graph, conflict, **kwargs):\n",
    "    \n",
    "    conflicting = []\n",
    "    for cons in conflict:\n",
    "        n1, n2 = cons.args\n",
    "        if n1.name == \"max\": continue\n",
    "        a = int(re.search(\"\\[[0-9]*\\]\", str(n1)).group()[1:-1])\n",
    "        b = int(re.search(\"\\[[0-9]*\\]\", str(n2)).group()[1:-1])\n",
    "        conflicting.append((a,b))\n",
    "        \n",
    "    colors = [\"red\" if (a,b) in conflicting else \"black\" for (a,b) in graph.edges()]       \n",
    "    return draw(graph, edge_color=colors, **kwargs)\n",
    "\n",
    "\n",
    "import numpy as np\n",
    "\n",
    "e = 0 # value for empty cells\n",
    "given = np.array([\n",
    "        [e, e, e,  2, e, 5,  e, e, e],\n",
    "        [e, 9, e,  e, e, e,  7, 3, e],\n",
    "        [e, e, 2,  e, e, 9,  e, 6, e],\n",
    "\n",
    "        [2, e, e,  e, e, e,  4, e, 9],\n",
    "        [e, e, e,  e, 7, e,  e, e, e],\n",
    "        [6, e, 9,  e, e, e,  e, e, 1],\n",
    "\n",
    "        [e, 8, e,  4, e, e,  1, e, e],\n",
    "        [e, 6, 3,  e, e, e,  e, 8, e],\n",
    "        [e, e, e,  6, e, 8,  e, e, e]])\n",
    "\n",
    "from visualize import *\n",
    "\n",
    "from cpmpy.transformations.normalize import toplevel_list\n",
    "from factory import *\n",
    "from read_data import get_data\n",
    "    \n",
    "\n",
    "def partition_csp(soft, hard=[]):\n",
    "    \n",
    "    soft = toplevel_list(soft, merge_and=False)\n",
    "    ind = cp.boolvar(shape=len(soft))  # Boolean indicator variable for each constraint\n",
    "    \n",
    "    maxsat_model = cp.Model(ind.implies(soft))  # add reified constraints\n",
    "    maxsat_model.maximize(cp.sum(ind))  # find largest MSS = smallest MCS\n",
    "    maxsat_model += hard\n",
    "    \n",
    "    \n",
    "    assert maxsat_model.solve()\n",
    "    \n",
    "    mss = [c for a,c in zip(ind, soft) if a.value() is True]\n",
    "    mcs = [c for a,c in zip(ind, soft) if a.value() is False]\n",
    "    \n",
    "    return mss, mcs"
   ]
  },
  {
   "cell_type": "markdown",
   "id": "15ea5f55",
   "metadata": {
    "slideshow": {
     "slide_type": "slide"
    }
   },
   "source": [
    "\n",
    "<img src=\"img/kul.jpg\" width=\"15%\" align=\"right\" style=\"margin:50px;\">\n",
    "\n",
    "# Explainable Constraint Solving\n",
    "\n",
    "Dimos Tsouros, Ignace Bleukx\n",
    "\n",
    "dimos.tsouros@kuleuven.be, ignace.bleukx@kuleuven.be\n",
    "\n"
   ]
  },
  {
   "cell_type": "markdown",
   "id": "3a183dc7",
   "metadata": {
    "slideshow": {
     "slide_type": "slide"
    }
   },
   "source": [
    "\n",
    "## Constraint Solving\n",
    "\n",
    "<img src=\"img/solutions_vizual.png\" width=\"45%\" align=\"right\" style=\"margin:50px;\">\n",
    "\n",
    "Solving combinatorial optimization problems in AI\n",
    "\n",
    "- Vehicle Routing\n",
    "\n",
    "- Scheduling\n",
    "\n",
    "- Manufacturing\n",
    "\n",
    "- Other combinatorial problems ..."
   ]
  },
  {
   "cell_type": "markdown",
   "id": "a57aa045",
   "metadata": {},
   "source": [
    "## Combinatorial Problems\n",
    "\n",
    "Real-world problems in many different domains!\n",
    "\n",
    "- Huge number (exponentially large) of possible solutions\n",
    "- Exhaustive search (Brute-Force) not possible\n",
    "- Intelligent search is needed, rulling out large parts of the search space"
   ]
  },
  {
   "cell_type": "markdown",
   "id": "d30c98e3",
   "metadata": {
    "slideshow": {
     "slide_type": "slide"
    }
   },
   "source": [
    "\n",
    "## Model + Solve Paradigm\n",
    "\n",
    "<img src=\"img/model_solve.png\" width=\"85%\" align=\"left\" style=\"margin:10px;\">\n",
    "\n"
   ]
  },
  {
   "cell_type": "markdown",
   "id": "9dc85a75",
   "metadata": {
    "slideshow": {
     "slide_type": "fragment"
    }
   },
   "source": [
    "- Reason over the constraints to find a solution\n",
    "- Find the optimal solution according to the objective (maximize gain or minimize penalty)"
   ]
  },
  {
   "cell_type": "markdown",
   "id": "c0decab6",
   "metadata": {
    "slideshow": {
     "slide_type": "slide"
    }
   },
   "source": [
    "## Constraint Model\n",
    "\n",
    " Describe the problem entities and their relation\n",
    "- <strong>Variables</strong>: Entities of the problem we need to solve.\n",
    "- <strong>Domains</strong>: Define the possible values each variable can take.\n",
    "- <strong>Constraints</strong>: Describe relationships between variables.\n",
    "- <strong>Objective Function</strong>: Quantifies the goal or measure of success."
   ]
  },
  {
   "cell_type": "markdown",
   "id": "614f9b6e",
   "metadata": {
    "slideshow": {
     "slide_type": "slide"
    }
   },
   "source": [
    "## Room Assignment\n",
    "\n",
    "<img src=\"img/room_assign.png\" width=\"90%\" align=\"left\" style=\"margin:10px;\">\n"
   ]
  },
  {
   "cell_type": "markdown",
   "id": "c0979534",
   "metadata": {
    "slideshow": {
     "slide_type": "slide"
    }
   },
   "source": [
    "# Solving technologies\n",
    "\n",
    "Many different methods, depending on solving paradigm\n",
    "- Clause learning, Constraint Propagation, Relaxations ..."
   ]
  },
  {
   "attachments": {},
   "cell_type": "markdown",
   "id": "39628611",
   "metadata": {
    "slideshow": {
     "slide_type": "fragment"
    }
   },
   "source": [
    "### E.g. Constraint Propagation\n",
    "\n",
    "<img src=\"img/propagate.png\" width=\"65%\" align=\"center\" style=\"margin:10px;\">\n"
   ]
  },
  {
   "cell_type": "markdown",
   "id": "4b327bf1",
   "metadata": {
    "slideshow": {
     "slide_type": "slide"
    }
   },
   "source": [
    "# Solving technologies\n",
    "\n",
    "#### Different solving paradigms: \n",
    "\n",
    "- SAT: Boolean decision variables; clauses as constraints\n",
    "- MIP: Integer decision variables; linear constraints\n",
    "- CP: Integer decision variables; logical, mathematical, global constraints\n"
   ]
  },
  {
   "cell_type": "markdown",
   "id": "81d01eac",
   "metadata": {
    "slideshow": {
     "slide_type": "slide"
    }
   },
   "source": [
    "## How to choose between SAT/MIP/CP solvers?\n",
    "\n",
    "Not trivial! General guidelines:\n",
    "- if decision problem: try SAT first\n",
    "- if inherently Boolean: try (max)SAT first\n",
    "- if few constraints or natural to relax: try MIP first\n",
    "- if suitable globals or complex constraints: try CP first\n"
   ]
  },
  {
   "cell_type": "markdown",
   "id": "3725dadd",
   "metadata": {
    "slideshow": {
     "slide_type": "fragment"
    }
   },
   "source": [
    "## Constraint Solving Tools\n",
    "\n",
    " - Solvers: Google OR-Tools, Choco, Gurobi ...\n",
    " - Modeling languages: MiniZinc, CPMpy ...\n"
   ]
  },
  {
   "cell_type": "markdown",
   "id": "cd7fac7e",
   "metadata": {
    "slideshow": {
     "slide_type": "slide"
    }
   },
   "source": [
    "## Modeling languages\n",
    "- High level modeling, easier for the user\n",
    "- Can use different solvers/solving technologies\n",
    "- Transform constraint model in acceptable input for the solver"
   ]
  },
  {
   "cell_type": "markdown",
   "id": "1e763dd6",
   "metadata": {
    "slideshow": {
     "slide_type": "fragment"
    }
   },
   "source": [
    "<center><img src=\"img/slide1.png\" style=\"max-width: 45%;\" /></center>\n"
   ]
  },
  {
   "cell_type": "markdown",
   "id": "3876f764",
   "metadata": {
    "slideshow": {
     "slide_type": "skip"
    }
   },
   "source": [
    "## CPMpy Transformations\n",
    "\n",
    "<center><img src=\"img/transformations.png\" style=\"max-width: 70%;\" /></center>\n"
   ]
  },
  {
   "cell_type": "markdown",
   "id": "b0e2a20c",
   "metadata": {
    "slideshow": {
     "slide_type": "slide"
    }
   },
   "source": [
    "## Beyond Model + Solve \n",
    "\n",
    "<center><img src=\"img/model-solve.png\" style=\"max-width: 50%;\" /></center>\n"
   ]
  },
  {
   "cell_type": "markdown",
   "id": "fe1c66d7",
   "metadata": {
    "slideshow": {
     "slide_type": "subslide"
    }
   },
   "source": [
    "## Beyond Model + Solve \n",
    "\n",
    "\n",
    "<center><img src=\"img/model-solve-other.png\" style=\"max-width: 50%;\" /></center>\n"
   ]
  },
  {
   "cell_type": "markdown",
   "id": "f8259932",
   "metadata": {
    "slideshow": {
     "slide_type": "fragment"
    }
   },
   "source": [
    "- What happens before and after solving?   \n",
    "- Integrate ML predictions   \n",
    "- Explain output to the user\n",
    "- ..."
   ]
  },
  {
   "cell_type": "markdown",
   "id": "a113f828",
   "metadata": {
    "slideshow": {
     "slide_type": "slide"
    }
   },
   "source": [
    "## Beyond Model + Solve: Perception-based solving\n",
    "\n",
    "<center><img src=\"img/app-sudoku.png\" width=70%></center>"
   ]
  },
  {
   "cell_type": "markdown",
   "id": "15189ee3",
   "metadata": {
    "slideshow": {
     "slide_type": "slide"
    }
   },
   "source": [
    "## Beyond Model + Solve: Perception-based solving\n",
    "\n",
    "<center><img src=\"img/award-sudoku.png\" width=70%></center>"
   ]
  },
  {
   "cell_type": "markdown",
   "id": "645a1e90",
   "metadata": {
    "slideshow": {
     "slide_type": "slide"
    }
   },
   "source": [
    "## Beyond Model + Solve: Perception-based solving\n",
    "\n",
    "<center><img src=\"img/perception-solving.png\" width=60%></center>\n",
    "\n",
    "- Each cell predicts the maximum likelihood value:\n",
    "- But you need all 81 predictions (one for each given cell), it is a multi-output problem!\n",
    "- If solve_sudoku(y) = False: no solution, interpretation is wrong..."
   ]
  },
  {
   "cell_type": "markdown",
   "id": "6551e8a7",
   "metadata": {
    "slideshow": {
     "slide_type": "fragment"
    }
   },
   "source": [
    "#### Constraint Solving layer\n",
    "\n",
    "- Get probabilities for each cell's value from the Neural Network    \n",
    "- Find values to filled cells s.t. sudoku rules (i.e. constraints) are respected\n",
    "    - maximizing the values probabilities\n",
    "<center><img src=\"img/app-sudoku-objective.png\" width=40%></center>\n"
   ]
  },
  {
   "attachments": {
    "image.png": {
     "image/png": "[encoded data removed]"
    }
   },
   "cell_type": "markdown",
   "id": "fe709444",
   "metadata": {
    "slideshow": {
     "slide_type": "slide"
    }
   },
   "source": [
    "## Beyond Model + Solve: Explanations\n",
    "\n",
    "### What happens after solving?\n",
    "\n",
    "- Explain solution to the user:\n",
    "\n",
    "![image.png](attachment:image.png)"
   ]
  },
  {
   "cell_type": "markdown",
   "id": "b16569aa",
   "metadata": {
    "slideshow": {
     "slide_type": "slide"
    }
   },
   "source": [
    "## CPMpy\n",
    "\n",
    "We will use the CPMpy modeling library in python for this workshop\n",
    "\n",
    "<center><img src=\"img/cpmpy-intro.png\" style=\"max-width: 70%;\" /></center>\n",
    " "
   ]
  },
  {
   "cell_type": "markdown",
   "id": "03ac6717",
   "metadata": {
    "slideshow": {
     "slide_type": "subslide"
    }
   },
   "source": [
    "\n",
    "### Advantages of CPMpy\n",
    "\n",
    "* Efficient repeated solving\n",
    "  * Incremental\n",
    "* Use CP/SAT/MIP or any combination\n",
    "  * solver independent and multi-solver\n",
    "* Easy integration with Machine Learning or Visualization or any other libraries\n",
    "  * Python and numpy arrays"
   ]
  },
  {
   "cell_type": "markdown",
   "id": "87d33ee4",
   "metadata": {
    "slideshow": {
     "slide_type": "slide"
    }
   },
   "source": [
    "## CP modelling - Examples\n",
    "\n",
    "### Graph coloring\n",
    "\n",
    "Given a graph $G(V,E)$ with vertices $V$ and edges $E$, a valid graph coloring assigs a different color to each of the connected vertices.\n",
    "\n",
    "<center><img src=\"img/graph_coloring.png\" style=\"width: 35%;\" /></center>\n"
   ]
  },
  {
   "cell_type": "markdown",
   "id": "351efa99",
   "metadata": {
    "slideshow": {
     "slide_type": "subslide"
    }
   },
   "source": [
    "Applications:\n",
    "- Task allocation on workers for manufacturing\n",
    "- Room assignment\n",
    "- Exam Timetabling\n",
    "- ..."
   ]
  },
  {
   "cell_type": "code",
   "execution_count": null,
   "id": "cfc70a4f",
   "metadata": {
    "slideshow": {
     "slide_type": "slide"
    }
   },
   "outputs": [],
   "source": [
    "def graph_coloring(G):\n",
    "    m = cp.Model()\n",
    "    max_colors = G.number_of_nodes()\n",
    "    # dict of node-names to intvar\n",
    "    nodes = cp.intvar(1, max_colors+1, shape=max_colors, name=\"Node\")\n",
    "    # constrain adges to have differently colored nodes\n",
    "    m += [nodes[n1] != nodes[n2] for n1, n2 in G.edges()]\n",
    "    m.minimize(cp.max(nodes))\n",
    "    \n",
    "    return m, nodes"
   ]
  },
  {
   "cell_type": "markdown",
   "id": "060c45c9",
   "metadata": {
    "slideshow": {
     "slide_type": "subslide"
    }
   },
   "source": [
    "Lets generate a random graph"
   ]
  },
  {
   "cell_type": "code",
   "execution_count": null,
   "id": "414dfdd2",
   "metadata": {
    "slideshow": {
     "slide_type": "fragment"
    }
   },
   "outputs": [],
   "source": [
    "import networkx as nx\n",
    "\n",
    "G = nx.fast_gnp_random_graph(7, 0.5, seed=0)\n",
    "draw(G, with_labels=True)"
   ]
  },
  {
   "cell_type": "code",
   "execution_count": null,
   "id": "48f19933",
   "metadata": {
    "slideshow": {
     "slide_type": "subslide"
    }
   },
   "outputs": [],
   "source": [
    "# modela and variables\n",
    "model, nodes = graph_coloring(G)\n",
    "\n",
    "assert model.solve()\n",
    "\n",
    "print(f\"Number of colors: {model.objective_value()} -- {model.status()}\")"
   ]
  },
  {
   "cell_type": "code",
   "execution_count": null,
   "id": "be5753be",
   "metadata": {
    "slideshow": {
     "slide_type": "subslide"
    }
   },
   "outputs": [],
   "source": [
    "# and visualize it now with colors\n",
    "color_map = [cmap[n.value()-1] for n in nodes]\n",
    "draw(G, with_labels=True, node_color=color_map)"
   ]
  },
  {
   "cell_type": "markdown",
   "id": "16c0d500",
   "metadata": {
    "slideshow": {
     "slide_type": "slide"
    }
   },
   "source": [
    "## CP modelling - Examples\n",
    "\n",
    "<img src=\"img/sudoku_puzzle.png\" width=\"45%\" align=\"right\" style=\"margin:50px;\">\n",
    "\n",
    "### Sudoku puzzle\n",
    "\n",
    "Fill in empty cells such that:\n",
    "- in each row all 9 numbers occur\n",
    "- in each column all 9 numbers occur\n",
    "- in each 9x9 block all numbers occur"
   ]
  },
  {
   "cell_type": "markdown",
   "id": "6eef2755",
   "metadata": {},
   "source": [
    "Sudoku puzzle            |  Sudoku code\n",
    ":-------------------------: |:-------------------------:\n",
    " ![](img/sudoku_code.png)  |  ![](img/sudoku_puzzle.png) \n"
   ]
  },
  {
   "cell_type": "code",
   "execution_count": null,
   "id": "002272da",
   "metadata": {
    "slideshow": {
     "slide_type": "notes"
    }
   },
   "outputs": [],
   "source": [
    "import numpy as np\n",
    "\n",
    "e = 0 # value for empty cells\n",
    "given = np.array([\n",
    "        [e, e, e,  2, e, 5,  e, e, e],\n",
    "        [e, 9, e,  e, e, e,  7, 3, e],\n",
    "        [e, e, 2,  e, e, 9,  e, 6, e],\n",
    "\n",
    "        [2, e, e,  e, e, e,  4, e, 9],\n",
    "        [e, e, e,  e, 7, e,  e, e, e],\n",
    "        [6, e, 9,  e, e, e,  e, e, 1],\n",
    "\n",
    "        [e, 8, e,  4, e, e,  1, e, e],\n",
    "        [e, 6, 3,  e, e, e,  e, 8, e],\n",
    "        [e, e, e,  6, e, 8,  e, e, e]])"
   ]
  },
  {
   "cell_type": "code",
   "execution_count": null,
   "id": "fb99c922",
   "metadata": {
    "slideshow": {
     "slide_type": "subslide"
    }
   },
   "outputs": [],
   "source": [
    "def sudoku(given):\n",
    "    \n",
    "    cells = cp.intvar(1,9,shape=(9,9), name=\"cell\") # decision variables\n",
    "    \n",
    "    m = cp.Model()\n",
    "    m += [cp.AllDifferent(row) for row in cells]\n",
    "    m += [cp.AllDifferent(col) for col in cells.T] # use numpy transpose\n",
    "    for i in range(0,3,9):\n",
    "        for j in range(0,3,9):\n",
    "            m += cp.AllDifferent(cells[i:i+3, j:j+3])\n",
    "    \n",
    "    # given cells must be filled in\n",
    "    m += cells[given != e] == given[given != e]\n",
    "    \n",
    "    return m, cells"
   ]
  },
  {
   "cell_type": "code",
   "execution_count": null,
   "id": "7616a251",
   "metadata": {
    "slideshow": {
     "slide_type": "fragment"
    }
   },
   "outputs": [],
   "source": [
    "model, cells = sudoku(given)\n",
    "\n",
    "assert model.solve()\n",
    "\n",
    "cells.value()"
   ]
  },
  {
   "cell_type": "markdown",
   "id": "d4d525d9",
   "metadata": {
    "slideshow": {
     "slide_type": "slide"
    }
   },
   "source": [
    "## CP modelling - Examples\n",
    "\n",
    "### Nurse rostering\n",
    "\n",
    "<img src=\"img/nurse_rost_prob.jpg\">\n",
    "\n",
    "* The assignment of _shifts_ and _holidays_ to nurses.\n",
    "* Each nurse has their own restrictions and preferences,\n",
    "    as does the hospital.\n"
   ]
  },
  {
   "cell_type": "markdown",
   "id": "d077dda3",
   "metadata": {
    "slideshow": {
     "slide_type": "subslide"
    }
   },
   "source": [
    "## Nurse Rostering: constraints 1/2\n",
    "\n",
    "### hospital constraints/preferences:\n",
    "\n",
    "<img src=\"img/nurse_rost_prob.jpg\" align=\"right\">\n",
    "\n",
    "* nb of nurses assigned\n",
    "* max nb of shifts\n",
    "* max nb of weekend shifts\n",
    "* min nb of (consecutive) days off\n",
    "* min/max minutes worked\n",
    "* min/max consecutive shifts\n",
    "* shift rotation"
   ]
  },
  {
   "cell_type": "markdown",
   "id": "98281219",
   "metadata": {
    "slideshow": {
     "slide_type": "subslide"
    }
   },
   "source": [
    "## Nurse Rostering: constraints 2/2\n",
    "\n",
    "### nurse constraints/preferences:\n",
    "\n",
    "<img src=\"img/nurse_rost_prob.jpg\" align=\"right\">\n",
    "\n",
    "* specific days off-duty\n",
    "* specific shift requests (on/off)\n"
   ]
  },
  {
   "cell_type": "markdown",
   "id": "df79fd0c",
   "metadata": {
    "slideshow": {
     "slide_type": "subslide"
    }
   },
   "source": [
    "## Nurse rostering: data"
   ]
  },
  {
   "cell_type": "code",
   "execution_count": null,
   "id": "5e518dd4",
   "metadata": {
    "slideshow": {
     "slide_type": "fragment"
    }
   },
   "outputs": [],
   "source": [
    "#instance = \"http://www.schedulingbenchmarks.org/nrp/data/Instance1.txt\"\n",
    "instance = \"Benchmarks/Instance1.txt\"\n",
    "data = get_data(instance)\n",
    "\n",
    "# all data is stored as DataFrame tables\n",
    "data.staff"
   ]
  },
  {
   "cell_type": "code",
   "execution_count": null,
   "id": "e0d6bd7f",
   "metadata": {
    "slideshow": {
     "slide_type": "subslide"
    }
   },
   "outputs": [],
   "source": [
    "factory = NurseSchedulingFactory(data)\n",
    "model, nurse_view = factory.get_full_model()\n",
    "\n",
    "model.solve()"
   ]
  },
  {
   "cell_type": "markdown",
   "id": "4fe48cf8",
   "metadata": {
    "slideshow": {
     "slide_type": "subslide"
    }
   },
   "source": [
    "Lets encode this in CPMpy!\n",
    "\n",
    "Specific days off-duty"
   ]
  },
  {
   "cell_type": "code",
   "execution_count": null,
   "id": "8c691042",
   "metadata": {
    "slideshow": {
     "slide_type": "fragment"
    }
   },
   "outputs": [],
   "source": [
    "for (empl_id, row) in data.days_off.iterrows():\n",
    "    empl_idx = data.staff.index[data.staff[\"# ID\"] == empl_id][0]\n",
    "    day_idx = row[\"DayIdx\"]\n",
    "    \n",
    "    con = (nurse_view[empl_idx, day_idx] == 0)\n",
    "    \n",
    "    con.set_description(f\"{data.staff.iloc[empl_idx]['name']} should not work on day {day_idx}\")\n",
    "    print(\"-\",con)"
   ]
  },
  {
   "cell_type": "code",
   "execution_count": null,
   "id": "258210ba",
   "metadata": {
    "slideshow": {
     "slide_type": "subslide"
    }
   },
   "outputs": [],
   "source": [
    "visualize(nurse_view.value(), factory)"
   ]
  },
  {
   "cell_type": "markdown",
   "id": "2b439ce6",
   "metadata": {
    "slideshow": {
     "slide_type": "slide"
    }
   },
   "source": [
    "# Explainable constraint solving"
   ]
  },
  {
   "cell_type": "markdown",
   "id": "54aeef22",
   "metadata": {
    "slideshow": {
     "slide_type": "slide"
    }
   },
   "source": [
    "## Model + Solve\n",
    "\n",
    "<center><img src=\"img/model_solve.png\" width=70%></center>"
   ]
  },
  {
   "cell_type": "markdown",
   "id": "4d8812f8",
   "metadata": {
    "slideshow": {
     "slide_type": "fragment"
    }
   },
   "source": [
    "- What if the model is UNSAT?\n",
    "- What if the solution is unexpected?\n",
    "- What if the user wants to change something?"
   ]
  },
  {
   "cell_type": "markdown",
   "id": "97c6abc8",
   "metadata": {
    "slideshow": {
     "slide_type": "fragment"
    }
   },
   "source": [
    "--> Trustworthy & Explainable AI"
   ]
  },
  {
   "cell_type": "markdown",
   "id": "5eba7965",
   "metadata": {
    "slideshow": {
     "slide_type": "slide"
    }
   },
   "source": [
    "## Trustworthy & Explainable constraint solving\n",
    "\n",
    "Human-aware AI:\n",
    "\n",
    "- Respect human _agency_\n",
    "- _Support_ users in decision making\n",
    "- Provide explanations and learning opportunities"
   ]
  },
  {
   "cell_type": "markdown",
   "id": "20da5dc9",
   "metadata": {
    "slideshow": {
     "slide_type": "fragment"
    }
   },
   "source": [
    "Acknowledges that a 'model' is only an approximation,<br />\n",
    "that it might result in _undesirable_ solutions."
   ]
  },
  {
   "cell_type": "markdown",
   "id": "92b7b25e",
   "metadata": {
    "slideshow": {
     "slide_type": "slide"
    }
   },
   "source": [
    "### Explainable AI (XAI), brief highlights\n",
    "\n",
    "#### D. Gunning, 2015: DARPA XAI challenge\n",
    "\"Every explanation is set within a context that depends...\" <!-- on the task, abilities, and expectations of the user of the AI system.\" --> -> domain dependent\n",
    "\n",
    "#### M. Fox et al, 2017: Explainable Planning\n",
    "\n",
    "Need for trust, interaction and transparancy.\n",
    "\n",
    "#### T. Miller, 2018: Explainable AI: Beware of Inmates Running the Asylum\n",
    "\n",
    "Insights from the social sciences: _Someone_ explains _something_ to _someone_\n",
    "\n",
    "#### R. Guidotti, 2018: A survey of methods for explaining black box ML models\n",
    "\n",
    "The vast majority of work/attention..."
   ]
  },
  {
   "cell_type": "markdown",
   "id": "6b1439d5",
   "metadata": {
    "slideshow": {
     "slide_type": "slide"
    }
   },
   "source": [
    "## Explainable Constraint Programming (XCP)\n",
    "\n",
    "In general, \"**Why X?**\" &nbsp;&nbsp;&nbsp;&nbsp;&nbsp;&nbsp; (with X a solution or UNSAT)\n",
    "\n",
    "To be defined... 3 patterns:\n",
    "- Causal explanation:\n",
    "  - _How was X derived?_\n",
    "- Contrastive explanation:\n",
    "  - _Why X and not Z?_\n",
    "- Conversational explanation:\n",
    "  - _Iteratively refine explanation & model_\n"
   ]
  },
  {
   "cell_type": "markdown",
   "id": "73324428",
   "metadata": {
    "slideshow": {
     "slide_type": "subslide"
    }
   },
   "source": [
    "## Hands-on Explainable Constraint Programming (XCP)\n",
    "\n",
    "\n",
    "<img src=\"img/interaction_figure4.png\" width=\"20%\" align=\"right\" style=\"margin:50px;\">\n",
    "\n",
    "- The model: Nurse Rostering\n",
    "- The system: CPMpy modeling library\n",
    "- **Explain UNSAT**:\n",
    "  - **Causal explanations (MUS, OUS)**\n",
    "  - Conversational explanations"
   ]
  },
  {
   "cell_type": "code",
   "execution_count": null,
   "id": "7fd40e92",
   "metadata": {
    "slideshow": {
     "slide_type": "subslide"
    }
   },
   "outputs": [],
   "source": [
    "# model as decision model\n",
    "factory = NurseSchedulingFactory(data)\n",
    "model, nurse_view = factory.get_decision_model()  # CMPpy DECISION Model\n",
    "model.solve()"
   ]
  },
  {
   "cell_type": "markdown",
   "id": "756b341f",
   "metadata": {
    "slideshow": {
     "slide_type": "fragment"
    }
   },
   "source": [
    "... no solution found"
   ]
  },
  {
   "cell_type": "code",
   "execution_count": null,
   "id": "e8ed7ec1",
   "metadata": {
    "slideshow": {
     "slide_type": "slide"
    }
   },
   "outputs": [],
   "source": [
    "constraints = toplevel_list(model.constraints, merge_and=False) # normalization for later\n",
    "print(f\"Model has {len(constraints)} constraints:\")\n",
    "for cons in constraints: print(\"-\", cons)"
   ]
  },
  {
   "cell_type": "markdown",
   "id": "6137049d",
   "metadata": {
    "slideshow": {
     "slide_type": "slide"
    }
   },
   "source": [
    "<img src=\"img/mus.png\" width=\"20%\" align=\"left\" style=\"margin:50px;\">\n",
    "\n",
    "Trim model to minimal set of constraints\n",
    "\n",
    "... minimize cognitive burden for user\n"
   ]
  },
  {
   "cell_type": "markdown",
   "id": "125fe5eb",
   "metadata": {
    "slideshow": {
     "slide_type": "subslide"
    }
   },
   "source": [
    "### How to compute a MUS?\n",
    "\n",
    "CPMpy implements a deletion-based MUS algorithm,using assumption variables\n",
    "\n",
    "* `cpmpy.tools.mus`"
   ]
  },
  {
   "cell_type": "code",
   "execution_count": null,
   "id": "25e776dd",
   "metadata": {
    "slideshow": {
     "slide_type": "subslide"
    }
   },
   "outputs": [],
   "source": [
    "from cpmpy.tools.mus import mus\n",
    "\n",
    "solver = \"ortools\"\n",
    "subset = mus(model.constraints, solver=solver) \n",
    "\n",
    "print(\"Length of MUS:\", len(subset))\n",
    "for cons in subset: print(\"-\", cons)"
   ]
  },
  {
   "cell_type": "code",
   "execution_count": null,
   "id": "ca004a89",
   "metadata": {
    "slideshow": {
     "slide_type": "subslide"
    }
   },
   "outputs": [],
   "source": [
    "visualize_constraints(subset, nurse_view, factory)"
   ]
  },
  {
   "cell_type": "markdown",
   "id": "b8f2d226",
   "metadata": {
    "slideshow": {
     "slide_type": "slide"
    }
   },
   "source": [
    "### Many MUS'es may exist...\n",
    "\n",
    "_Liffiton, M.H., & Malik, A. (2013). Enumerating infeasibility: Finding multiple MUSes quickly. In\n",
    "Proceedings of the 10th International Conference on Integration of AI and OR Techniques in Constraint\n",
    "    Programming (CPAIOR 2013) (pp. 160–175)_"
   ]
  },
  {
   "cell_type": "code",
   "execution_count": null,
   "id": "73de8aa6",
   "metadata": {
    "slideshow": {
     "slide_type": "subslide"
    }
   },
   "outputs": [],
   "source": [
    "# MARCO MUS/MSS enumeration\n",
    "from explanations.marco_mcs_mus import do_marco\n",
    "solver = \"ortools\"  # default solver\n",
    "if \"exact\" in cp.SolverLookup.solvernames(): solver = \"exact\"  # fast for increment solving\n",
    "    \n",
    "t0 = time.time()\n",
    "cnt = 0\n",
    "for (kind, sset) in do_marco(model, solver=solver):\n",
    "    if kind == \"MUS\":\n",
    "        print(\"M\", end=\"\")\n",
    "        cnt += 1\n",
    "    else: print(\".\", end=\"\") # MSS\n",
    "    \n",
    "    if time.time() - t0 > 20:  break  # for tutorial: break after 20s\n",
    "print(f\"\\nFound {cnt} MUSes in\", time.time() - t0)\n"
   ]
  },
  {
   "cell_type": "markdown",
   "id": "7bfcae1e",
   "metadata": {
    "slideshow": {
     "slide_type": "subslide"
    }
   },
   "source": [
    "### Many MUS'es may exist...\n",
    "\n",
    "<img src=\"img/musses.png\" width=\"40%\" align=\"left\" style=\"margin-left:50px; margin-right:50px\">\n",
    "\n",
    "This problem has just 168 constraints, yet 100.000+ MUSes exist...\n",
    "\n",
    "Which one to show? \n",
    "\n",
    "In explanations less is more, so lets find the **smallest one directly!**"
   ]
  },
  {
   "cell_type": "markdown",
   "id": "03df7b0f",
   "metadata": {
    "slideshow": {
     "slide_type": "fragment"
    }
   },
   "source": [
    "> Ignatiev, Alexey, et al. \"Smallest MUS extraction with minimal hitting set dualization.\" International Conference on Principles and Practice of Constraint Programming. Cham: Springer International Publishing, 2015."
   ]
  },
  {
   "cell_type": "code",
   "execution_count": null,
   "id": "beea330d",
   "metadata": {
    "slideshow": {
     "slide_type": "slide"
    }
   },
   "outputs": [],
   "source": [
    "from explanations.subset import smus\n",
    "\n",
    "small_subset = smus(model.constraints, solver=\"ortools\", hs_solver=\"gurobi\")\n",
    "\n",
    "print(\"Length of sMUS:\", len(small_subset))\n",
    "for cons in small_subset:  \n",
    "    print(\"-\", cons)"
   ]
  },
  {
   "cell_type": "code",
   "execution_count": null,
   "id": "327a57fe",
   "metadata": {
    "slideshow": {
     "slide_type": "subslide"
    }
   },
   "outputs": [],
   "source": [
    "visualize_constraints(small_subset, nurse_view, factory)"
   ]
  },
  {
   "cell_type": "markdown",
   "id": "59b6d4f8",
   "metadata": {
    "slideshow": {
     "slide_type": "slide"
    }
   },
   "source": [
    "<img src=\"img/nowwhat.gif\" width=\"40%\" align=\"right\" style=\"margin-left:50px; margin-right:50px\">\n",
    "\n",
    "... We found a conflict!\n",
    "\n",
    "Now what?\n",
    "\n",
    "Let's correct it!\n",
    "\n",
    "How? \n",
    "\n",
    "**First idea:** remove one of the constraints in the conflict"
   ]
  },
  {
   "cell_type": "markdown",
   "id": "c52b5a16",
   "metadata": {
    "slideshow": {
     "slide_type": "fragment"
    }
   },
   "source": [
    "Let's illustrate with graph coloring example"
   ]
  },
  {
   "cell_type": "code",
   "execution_count": null,
   "id": "434b880c",
   "metadata": {
    "slideshow": {
     "slide_type": "subslide"
    }
   },
   "outputs": [],
   "source": [
    "graph_model, nodes = graph_coloring(G)\n",
    "graph_model.solve()"
   ]
  },
  {
   "cell_type": "code",
   "execution_count": null,
   "id": "86d1eb07",
   "metadata": {
    "slideshow": {
     "slide_type": "fragment"
    }
   },
   "outputs": [],
   "source": [
    "from explanations.subset import smus\n",
    "\n",
    "graph_model += cp.max(nodes) < 3\n",
    "graph_model.solve()"
   ]
  },
  {
   "cell_type": "code",
   "execution_count": null,
   "id": "4be8fe33",
   "metadata": {
    "slideshow": {
     "slide_type": "fragment"
    }
   },
   "outputs": [],
   "source": [
    "conflict = smus(graph_model.constraints)\n",
    "for cons in conflict:\n",
    "    print(\"-\", cons)"
   ]
  },
  {
   "cell_type": "code",
   "execution_count": null,
   "id": "e2a6eba1",
   "metadata": {
    "slideshow": {
     "slide_type": "subslide"
    }
   },
   "outputs": [],
   "source": [
    "draw_conflict(G,conflict, node_color=color_map, with_labels=True)"
   ]
  },
  {
   "cell_type": "code",
   "execution_count": null,
   "id": "ed12e974",
   "metadata": {
    "slideshow": {
     "slide_type": "subslide"
    }
   },
   "outputs": [],
   "source": [
    "new_G = remove_edge(G, conflict[0])\n",
    "draw(new_G, node_color=color_map, with_labels=True)"
   ]
  },
  {
   "cell_type": "code",
   "execution_count": null,
   "id": "8e12885c",
   "metadata": {
    "slideshow": {
     "slide_type": "subslide"
    }
   },
   "outputs": [],
   "source": [
    "new_model, nodes = graph_coloring(new_G)\n",
    "new_model += cp.max(nodes) < 3\n",
    "new_model.solve()"
   ]
  },
  {
   "cell_type": "markdown",
   "id": "154ff3a4",
   "metadata": {
    "slideshow": {
     "slide_type": "fragment"
    }
   },
   "source": [
    "... still UNSAT\n",
    "\n",
    "Remember, MANY conflics may exist..."
   ]
  },
  {
   "cell_type": "code",
   "execution_count": null,
   "id": "8a634c07",
   "metadata": {
    "slideshow": {
     "slide_type": "subslide"
    }
   },
   "outputs": [],
   "source": [
    "conflict = smus(new_model.constraints, solver=\"ortools\", hs_solver=\"gurobi\")\n",
    "draw_conflict(new_G,conflict, node_color=color_map, with_labels=True)"
   ]
  },
  {
   "cell_type": "markdown",
   "id": "995cd2d8",
   "metadata": {
    "slideshow": {
     "slide_type": "subslide"
    }
   },
   "source": [
    "...rinse and repeat?\n",
    "\n",
    "**NO**\n",
    "\n",
    "Find a way to correct the model in one step!"
   ]
  },
  {
   "cell_type": "markdown",
   "id": "90a30b47",
   "metadata": {
    "slideshow": {
     "slide_type": "slide"
    }
   },
   "source": [
    "## Fixing UNSAT Models\n",
    "\n",
    "\n",
    "<img src=\"img/fixing_mcs.png\" width=\"20%\" align=\"left\" style=\"margin:50px;\">\n",
    "\n",
    "How to **change the model**, in order to find a solution?\n",
    "\n",
    "find subset of _soft constraints_ to keep <br> \n",
    "= <br>\n",
    "find constraints to be **removed**, e.g. remove a correction subset! "
   ]
  },
  {
   "cell_type": "markdown",
   "id": "019e2dd3",
   "metadata": {
    "slideshow": {
     "slide_type": "subslide"
    }
   },
   "source": [
    "### Fixing UNSAT Models\n",
    "\n",
    "<img src=\"img/mcs.png\" width=\"20%\" align=\"left\" style=\"margin:50px;\">\n",
    "\n",
    "Find maximal satisfiable subset (MSS) and take complement"
   ]
  },
  {
   "cell_type": "code",
   "execution_count": null,
   "id": "b358aed0",
   "metadata": {
    "slideshow": {
     "slide_type": "subslide"
    }
   },
   "outputs": [],
   "source": [
    "from explanations.subset import mcs  # using assumption variables\n",
    "constraints = list(reversed(graph_model.constraints))\n",
    "\n",
    "corr_subset = mcs(constraints)\n",
    "\n",
    "print(corr_subset)\n",
    "draw_conflict(G,corr_subset, node_color=color_map, with_labels=True)"
   ]
  },
  {
   "cell_type": "markdown",
   "id": "fe911068",
   "metadata": {
    "slideshow": {
     "slide_type": "slide"
    }
   },
   "source": [
    "## Fixing UNSAT models - Nurse rostering"
   ]
  },
  {
   "cell_type": "code",
   "execution_count": null,
   "id": "512b1ace",
   "metadata": {
    "slideshow": {
     "slide_type": "fragment"
    }
   },
   "outputs": [],
   "source": [
    "# model as decision model\n",
    "factory = NurseSchedulingFactory(data)\n",
    "model, nurse_view = factory.get_decision_model()  # CMPpy DECISION Model\n",
    "model.solve()"
   ]
  },
  {
   "cell_type": "code",
   "execution_count": null,
   "id": "92875aed",
   "metadata": {
    "slideshow": {
     "slide_type": "subslide"
    }
   },
   "outputs": [],
   "source": [
    "corr_subset = mcs(model.constraints)\n",
    "\n",
    "print(\"By removing these constraints, the model becomes SAT:\")\n",
    "for cons in corr_subset: print(\"-\",cons)\n",
    "    \n",
    "visualize_constraints(corr_subset, nurse_view, factory)"
   ]
  },
  {
   "cell_type": "code",
   "execution_count": null,
   "id": "3be2493b",
   "metadata": {
    "slideshow": {
     "slide_type": "subslide"
    }
   },
   "outputs": [],
   "source": [
    "mss = set(toplevel_list(model.constraints, merge_and=False)) - set(corr_subset)\n",
    "        \n",
    "corrected_model = cp.Model(list(mss))\n",
    "assert corrected_model.solve()\n",
    "\n",
    "visualize(nurse_view.value(), factory)"
   ]
  },
  {
   "cell_type": "markdown",
   "id": "71438dff",
   "metadata": {
    "slideshow": {
     "slide_type": "slide"
    }
   },
   "source": [
    "## Fixing UNSAT Models\n",
    "\n",
    "_Removing_ constraints from the model is drastic...\n",
    "\n",
    "In the previous solution, no nurses on Sunday? What if you break your leg that day?\n",
    "\n",
    "<br>\n",
    "\n",
    "<img src=\"img/fixing_mcs.png\" width=\"20%\" align=\"right\" style=\"margin:50px;\">\n",
    "\n",
    "Second idea:\n",
    "\n",
    "Slightly **violate** constraints which allows for **relaxation** of constraints\n",
    "\n",
    "E.g. **feasbility restoration** by modifying rather then removing constraints"
   ]
  },
  {
   "cell_type": "markdown",
   "id": "d61c5d62",
   "metadata": {
    "slideshow": {
     "slide_type": "subslide"
    }
   },
   "source": [
    "### Relaxation of constraints\n",
    "\n",
    "<img src=\"img/slack.png\" width=\"20%\" align=\"left\" style=\"margin:20px;\">\n",
    "\n",
    "* Boolean constraints can only be turned on/off\n",
    "* Numerical constraints can be __violated__ to some extend\n",
    "* Introduce slack for each numerical constraint\n",
    "* Slack indicates how much a constraint may be violated\n",
    "   - = fine grained penalty of solution!\n",
    "* Minimize aggregate of slack values"
   ]
  },
  {
   "cell_type": "markdown",
   "id": "013a684b",
   "metadata": {
    "slideshow": {
     "slide_type": "-"
    }
   },
   "source": [
    "> Senthooran I, Klapperstueck M, Belov G, Czauderna T, Leo K, Wallace M, Wybrow M, Garcia de la Banda M. Human-centred feasibility restoration in practice. Constraints. 2023 Jul 20:1-41."
   ]
  },
  {
   "cell_type": "markdown",
   "id": "f52d9139",
   "metadata": {
    "slideshow": {
     "slide_type": "subslide"
    }
   },
   "source": [
    "### Relaxation of constraints\n",
    "\n",
    "<img src=\"img/slack.png\" width=\"20%\" align=\"left\" style=\"margin:20px;\">\n",
    "\n",
    "E.g., allow violation of _cover constraints_ <br>\n",
    "    --> Allow shifts to be slightly under/overstaffed"
   ]
  },
  {
   "cell_type": "code",
   "execution_count": null,
   "id": "d5cfe230",
   "metadata": {
    "slideshow": {
     "slide_type": "subslide"
    }
   },
   "outputs": [],
   "source": [
    "slack_model, slack_nurse_view, slack_under, slack_over = factory.get_slack_model()  # CMPpy Model\n",
    "\n",
    "for _, cover in factory.data.cover.iterrows():\n",
    "    # read the data\n",
    "    day = cover[\"# Day\"]\n",
    "    shift = factory.shift_name_to_idx[cover[\"ShiftID\"]]\n",
    "    requirement = cover[\"Requirement\"]\n",
    "    \n",
    "    nb_nurses = cp.Count(nurse_view[:, day], shift)\n",
    "    expr = nb_nurses == requirement - slack_under[day] + slack_over[day]"
   ]
  },
  {
   "cell_type": "markdown",
   "id": "8ea1590d",
   "metadata": {
    "slideshow": {
     "slide_type": "subslide"
    }
   },
   "source": [
    "#### Minimize global violation"
   ]
  },
  {
   "cell_type": "code",
   "execution_count": null,
   "id": "d88baede",
   "metadata": {
    "slideshow": {
     "slide_type": "-"
    }
   },
   "outputs": [],
   "source": [
    "slack_model, slack_nurse_view, slack_under, slack_over = factory.get_slack_model()  # CMPpy Model\n",
    "slack = cp.cpm_array(np.append(slack_under, slack_over))"
   ]
  },
  {
   "cell_type": "code",
   "execution_count": null,
   "id": "05806467",
   "metadata": {
    "slideshow": {
     "slide_type": "fragment"
    }
   },
   "outputs": [],
   "source": [
    "slack_model.minimize(cp.sum(slack)) # minimize global violation\n",
    "\n",
    "assert slack_model.solve()\n",
    "style = visualize(slack_nurse_view.value(), factory, highlight_cover=True)\n",
    "style.data.loc[\"Slack under\"] = list(slack_under.value()) + [\" \"]\n",
    "style.data.loc[\"Slack over\"] = list(slack_over.value()) + [\" \"]\n",
    "display(style)"
   ]
  },
  {
   "cell_type": "markdown",
   "id": "0b9baa8d",
   "metadata": {
    "slideshow": {
     "slide_type": "subslide"
    }
   },
   "source": [
    "#### Minimize maximum violation"
   ]
  },
  {
   "cell_type": "code",
   "execution_count": null,
   "id": "eae98f6c",
   "metadata": {
    "slideshow": {
     "slide_type": "-"
    }
   },
   "outputs": [],
   "source": [
    "slack_model.minimize(cp.max(slack)) # minimize max violation\n",
    " \n",
    "assert slack_model.solve() \n",
    "style = visualize(slack_nurse_view.value(), factory, highlight_cover=True)\n",
    "style.data.loc[\"Slack under\"] = list(slack_under.value()) + [\" \"]\n",
    "style.data.loc[\"Slack over\"] = list(slack_over.value()) + [\" \"]\n",
    "display(style)"
   ]
  },
  {
   "cell_type": "markdown",
   "id": "c5a446f6",
   "metadata": {
    "slideshow": {
     "slide_type": "subslide"
    }
   },
   "source": [
    "#### Minimize nb of violations"
   ]
  },
  {
   "cell_type": "code",
   "execution_count": null,
   "id": "235a608f",
   "metadata": {},
   "outputs": [],
   "source": [
    "slack_model.minimize(cp.sum(slack != 0)) # minimize nb of violated constraints\n",
    " \n",
    "assert slack_model.solve()\n",
    "style = visualize(slack_nurse_view.value(), factory, highlight_cover=True)\n",
    "style.data.loc[\"Slack under\"] = list(slack_under.value()) + [\" \"]\n",
    "style.data.loc[\"Slack over\"] = list(slack_over.value()) + [\" \"]\n",
    "display(style)"
   ]
  },
  {
   "cell_type": "markdown",
   "id": "a4cf4534",
   "metadata": {
    "slideshow": {
     "slide_type": "subslide"
    }
   },
   "source": [
    "#### Or any combination"
   ]
  },
  {
   "cell_type": "code",
   "execution_count": null,
   "id": "d5ea0fb6",
   "metadata": {
    "slideshow": {
     "slide_type": "-"
    }
   },
   "outputs": [],
   "source": [
    "obj1 = cp.max(slack)       # minimize max violation\n",
    "obj2 = cp.sum(slack != 0)  # minimize nb of violations\n",
    "obj3 = cp.sum(slack)       # minimize global violation\n",
    "\n",
    "slack_model.minimize(10000 * obj1 + 1000 * obj2 + obj3) # multi-objective optimization\n",
    "\n",
    "assert slack_model.solve()\n",
    "style = visualize(slack_nurse_view.value(), factory, highlight_cover=True)\n",
    "style.data.loc[\"Slack under\"] = list(slack_under.value()) + [\" \"]\n",
    "style.data.loc[\"Slack over\"] = list(slack_over.value()) + [\" \"]\n",
    "display(style)"
   ]
  },
  {
   "cell_type": "markdown",
   "id": "d3a325de",
   "metadata": {
    "slideshow": {
     "slide_type": "slide"
    }
   },
   "source": [
    "## Conclusions\n",
    "\n",
    "#### Explainable Constraint solving:\n",
    "- can optimally solve many real-world problems\n",
    "- constraint based methods are interpretable\n",
    " - good fit for explainable AI\n",
    " - different patterns of explanations"
   ]
  }
 ],
 "metadata": {
  "celltoolbar": "Slideshow",
  "kernelspec": {
   "display_name": "Python 3 (ipykernel)",
   "language": "python",
   "name": "python3"
  },
  "language_info": {
   "codemirror_mode": {
    "name": "ipython",
    "version": 3
   },
   "file_extension": ".py",
   "mimetype": "text/x-python",
   "name": "python",
   "nbconvert_exporter": "python",
   "pygments_lexer": "ipython3",
   "version": "3.9.13"
  }
 },
 "nbformat": 4,
 "nbformat_minor": 5
}
